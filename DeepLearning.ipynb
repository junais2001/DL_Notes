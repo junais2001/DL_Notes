{
 "cells": [
  {
   "cell_type": "markdown",
   "id": "8d6f3ca4",
   "metadata": {},
   "source": [
    "# deep learning starting "
   ]
  },
  {
   "cell_type": "code",
   "execution_count": 3,
   "id": "43dd5a2a",
   "metadata": {},
   "outputs": [],
   "source": [
    "import tensorflow as tf\n",
    "from tensorflow import keras\n",
    "import matplotlib.pyplot as plt\n",
    "%matplotlib inline\n",
    "import numpy as np\n"
   ]
  },
  {
   "cell_type": "code",
   "execution_count": 4,
   "id": "814eeb52",
   "metadata": {},
   "outputs": [
    {
     "name": "stdout",
     "output_type": "stream",
     "text": [
      "Downloading data from https://storage.googleapis.com/tensorflow/tf-keras-datasets/mnist.npz\n",
      "11490434/11490434 [==============================] - 3s 0us/step\n"
     ]
    }
   ],
   "source": [
    "#using keras to import the dataset \n",
    "\n",
    "(x_train,y_train),(x_test,y_test)=keras.datasets.mnist.load_data()"
   ]
  },
  {
   "cell_type": "code",
   "execution_count": 8,
   "id": "76f67ee4",
   "metadata": {
    "scrolled": false
   },
   "outputs": [
    {
     "data": {
      "text/plain": [
       "<matplotlib.image.AxesImage at 0x2459fdf1520>"
      ]
     },
     "execution_count": 8,
     "metadata": {},
     "output_type": "execute_result"
    },
    {
     "data": {
      "image/png": "[encoded data removed]",
      "text/plain": [
       "<Figure size 480x480 with 1 Axes>"
      ]
     },
     "metadata": {},
     "output_type": "display_data"
    }
   ],
   "source": [
    "plt.matshow(x_train[0])"
   ]
  },
  {
   "cell_type": "code",
   "execution_count": 28,
   "id": "b239eba5",
   "metadata": {},
   "outputs": [],
   "source": [
    "#scaling for accuracy\n",
    "\n",
    "x_train=x_train/255\n",
    "x_test=x_test/255"
   ]
  },
  {
   "cell_type": "code",
   "execution_count": 34,
   "id": "159748b1",
   "metadata": {},
   "outputs": [
    {
     "data": {
      "text/plain": [
       "array([0.        , 0.        , 0.        , 0.        , 0.        ,\n",
       "       0.        , 0.        , 0.        , 0.        , 0.        ,\n",
       "       0.        , 0.        , 0.        , 0.        , 0.        ,\n",
       "       0.        , 0.        , 0.        , 0.        , 0.        ,\n",
       "       0.        , 0.        , 0.        , 0.        , 0.        ,\n",
       "       0.        , 0.        , 0.        , 0.        , 0.        ,\n",
       "       0.        , 0.        , 0.        , 0.        , 0.        ,\n",
       "       0.        , 0.        , 0.        , 0.        , 0.        ,\n",
       "       0.        , 0.        , 0.        , 0.        , 0.        ,\n",
       "       0.        , 0.        , 0.        , 0.        , 0.        ,\n",
       "       0.        , 0.        , 0.        , 0.        , 0.        ,\n",
       "       0.        , 0.        , 0.        , 0.        , 0.        ,\n",
       "       0.        , 0.        , 0.        , 0.        , 0.        ,\n",
       "       0.        , 0.        , 0.        , 0.        , 0.        ,\n",
       "       0.        , 0.        , 0.        , 0.        , 0.        ,\n",
       "       0.        , 0.        , 0.        , 0.        , 0.        ,\n",
       "       0.        , 0.        , 0.        , 0.        , 0.        ,\n",
       "       0.        , 0.        , 0.        , 0.        , 0.        ,\n",
       "       0.        , 0.        , 0.        , 0.        , 0.        ,\n",
       "       0.        , 0.        , 0.        , 0.        , 0.        ,\n",
       "       0.        , 0.        , 0.        , 0.        , 0.        ,\n",
       "       0.        , 0.        , 0.        , 0.        , 0.        ,\n",
       "       0.        , 0.        , 0.        , 0.        , 0.        ,\n",
       "       0.        , 0.        , 0.        , 0.        , 0.        ,\n",
       "       0.        , 0.        , 0.        , 0.        , 0.        ,\n",
       "       0.        , 0.        , 0.        , 0.        , 0.        ,\n",
       "       0.        , 0.        , 0.        , 0.        , 0.        ,\n",
       "       0.        , 0.        , 0.        , 0.        , 0.        ,\n",
       "       0.        , 0.        , 0.        , 0.        , 0.        ,\n",
       "       0.        , 0.        , 0.        , 0.        , 0.        ,\n",
       "       0.        , 0.        , 0.01176471, 0.07058824, 0.07058824,\n",
       "       0.07058824, 0.49411765, 0.53333333, 0.68627451, 0.10196078,\n",
       "       0.65098039, 1.        , 0.96862745, 0.49803922, 0.        ,\n",
       "       0.        , 0.        , 0.        , 0.        , 0.        ,\n",
       "       0.        , 0.        , 0.        , 0.        , 0.        ,\n",
       "       0.        , 0.11764706, 0.14117647, 0.36862745, 0.60392157,\n",
       "       0.66666667, 0.99215686, 0.99215686, 0.99215686, 0.99215686,\n",
       "       0.99215686, 0.88235294, 0.6745098 , 0.99215686, 0.94901961,\n",
       "       0.76470588, 0.25098039, 0.        , 0.        , 0.        ,\n",
       "       0.        , 0.        , 0.        , 0.        , 0.        ,\n",
       "       0.        , 0.        , 0.        , 0.19215686, 0.93333333,\n",
       "       0.99215686, 0.99215686, 0.99215686, 0.99215686, 0.99215686,\n",
       "       0.99215686, 0.99215686, 0.99215686, 0.98431373, 0.36470588,\n",
       "       0.32156863, 0.32156863, 0.21960784, 0.15294118, 0.        ,\n",
       "       0.        , 0.        , 0.        , 0.        , 0.        ,\n",
       "       0.        , 0.        , 0.        , 0.        , 0.        ,\n",
       "       0.        , 0.07058824, 0.85882353, 0.99215686, 0.99215686,\n",
       "       0.99215686, 0.99215686, 0.99215686, 0.77647059, 0.71372549,\n",
       "       0.96862745, 0.94509804, 0.        , 0.        , 0.        ,\n",
       "       0.        , 0.        , 0.        , 0.        , 0.        ,\n",
       "       0.        , 0.        , 0.        , 0.        , 0.        ,\n",
       "       0.        , 0.        , 0.        , 0.        , 0.        ,\n",
       "       0.31372549, 0.61176471, 0.41960784, 0.99215686, 0.99215686,\n",
       "       0.80392157, 0.04313725, 0.        , 0.16862745, 0.60392157,\n",
       "       0.        , 0.        , 0.        , 0.        , 0.        ,\n",
       "       0.        , 0.        , 0.        , 0.        , 0.        ,\n",
       "       0.        , 0.        , 0.        , 0.        , 0.        ,\n",
       "       0.        , 0.        , 0.        , 0.        , 0.05490196,\n",
       "       0.00392157, 0.60392157, 0.99215686, 0.35294118, 0.        ,\n",
       "       0.        , 0.        , 0.        , 0.        , 0.        ,\n",
       "       0.        , 0.        , 0.        , 0.        , 0.        ,\n",
       "       0.        , 0.        , 0.        , 0.        , 0.        ,\n",
       "       0.        , 0.        , 0.        , 0.        , 0.        ,\n",
       "       0.        , 0.        , 0.        , 0.        , 0.54509804,\n",
       "       0.99215686, 0.74509804, 0.00784314, 0.        , 0.        ,\n",
       "       0.        , 0.        , 0.        , 0.        , 0.        ,\n",
       "       0.        , 0.        , 0.        , 0.        , 0.        ,\n",
       "       0.        , 0.        , 0.        , 0.        , 0.        ,\n",
       "       0.        , 0.        , 0.        , 0.        , 0.        ,\n",
       "       0.        , 0.        , 0.04313725, 0.74509804, 0.99215686,\n",
       "       0.2745098 , 0.        , 0.        , 0.        , 0.        ,\n",
       "       0.        , 0.        , 0.        , 0.        , 0.        ,\n",
       "       0.        , 0.        , 0.        , 0.        , 0.        ,\n",
       "       0.        , 0.        , 0.        , 0.        , 0.        ,\n",
       "       0.        , 0.        , 0.        , 0.        , 0.        ,\n",
       "       0.        , 0.1372549 , 0.94509804, 0.88235294, 0.62745098,\n",
       "       0.42352941, 0.00392157, 0.        , 0.        , 0.        ,\n",
       "       0.        , 0.        , 0.        , 0.        , 0.        ,\n",
       "       0.        , 0.        , 0.        , 0.        , 0.        ,\n",
       "       0.        , 0.        , 0.        , 0.        , 0.        ,\n",
       "       0.        , 0.        , 0.        , 0.        , 0.        ,\n",
       "       0.31764706, 0.94117647, 0.99215686, 0.99215686, 0.46666667,\n",
       "       0.09803922, 0.        , 0.        , 0.        , 0.        ,\n",
       "       0.        , 0.        , 0.        , 0.        , 0.        ,\n",
       "       0.        , 0.        , 0.        , 0.        , 0.        ,\n",
       "       0.        , 0.        , 0.        , 0.        , 0.        ,\n",
       "       0.        , 0.        , 0.        , 0.        , 0.17647059,\n",
       "       0.72941176, 0.99215686, 0.99215686, 0.58823529, 0.10588235,\n",
       "       0.        , 0.        , 0.        , 0.        , 0.        ,\n",
       "       0.        , 0.        , 0.        , 0.        , 0.        ,\n",
       "       0.        , 0.        , 0.        , 0.        , 0.        ,\n",
       "       0.        , 0.        , 0.        , 0.        , 0.        ,\n",
       "       0.        , 0.        , 0.        , 0.0627451 , 0.36470588,\n",
       "       0.98823529, 0.99215686, 0.73333333, 0.        , 0.        ,\n",
       "       0.        , 0.        , 0.        , 0.        , 0.        ,\n",
       "       0.        , 0.        , 0.        , 0.        , 0.        ,\n",
       "       0.        , 0.        , 0.        , 0.        , 0.        ,\n",
       "       0.        , 0.        , 0.        , 0.        , 0.        ,\n",
       "       0.        , 0.        , 0.        , 0.97647059, 0.99215686,\n",
       "       0.97647059, 0.25098039, 0.        , 0.        , 0.        ,\n",
       "       0.        , 0.        , 0.        , 0.        , 0.        ,\n",
       "       0.        , 0.        , 0.        , 0.        , 0.        ,\n",
       "       0.        , 0.        , 0.        , 0.        , 0.        ,\n",
       "       0.        , 0.        , 0.        , 0.18039216, 0.50980392,\n",
       "       0.71764706, 0.99215686, 0.99215686, 0.81176471, 0.00784314,\n",
       "       0.        , 0.        , 0.        , 0.        , 0.        ,\n",
       "       0.        , 0.        , 0.        , 0.        , 0.        ,\n",
       "       0.        , 0.        , 0.        , 0.        , 0.        ,\n",
       "       0.        , 0.        , 0.        , 0.        , 0.15294118,\n",
       "       0.58039216, 0.89803922, 0.99215686, 0.99215686, 0.99215686,\n",
       "       0.98039216, 0.71372549, 0.        , 0.        , 0.        ,\n",
       "       0.        , 0.        , 0.        , 0.        , 0.        ,\n",
       "       0.        , 0.        , 0.        , 0.        , 0.        ,\n",
       "       0.        , 0.        , 0.        , 0.        , 0.        ,\n",
       "       0.09411765, 0.44705882, 0.86666667, 0.99215686, 0.99215686,\n",
       "       0.99215686, 0.99215686, 0.78823529, 0.30588235, 0.        ,\n",
       "       0.        , 0.        , 0.        , 0.        , 0.        ,\n",
       "       0.        , 0.        , 0.        , 0.        , 0.        ,\n",
       "       0.        , 0.        , 0.        , 0.        , 0.        ,\n",
       "       0.        , 0.09019608, 0.25882353, 0.83529412, 0.99215686,\n",
       "       0.99215686, 0.99215686, 0.99215686, 0.77647059, 0.31764706,\n",
       "       0.00784314, 0.        , 0.        , 0.        , 0.        ,\n",
       "       0.        , 0.        , 0.        , 0.        , 0.        ,\n",
       "       0.        , 0.        , 0.        , 0.        , 0.        ,\n",
       "       0.        , 0.        , 0.07058824, 0.67058824, 0.85882353,\n",
       "       0.99215686, 0.99215686, 0.99215686, 0.99215686, 0.76470588,\n",
       "       0.31372549, 0.03529412, 0.        , 0.        , 0.        ,\n",
       "       0.        , 0.        , 0.        , 0.        , 0.        ,\n",
       "       0.        , 0.        , 0.        , 0.        , 0.        ,\n",
       "       0.        , 0.        , 0.        , 0.21568627, 0.6745098 ,\n",
       "       0.88627451, 0.99215686, 0.99215686, 0.99215686, 0.99215686,\n",
       "       0.95686275, 0.52156863, 0.04313725, 0.        , 0.        ,\n",
       "       0.        , 0.        , 0.        , 0.        , 0.        ,\n",
       "       0.        , 0.        , 0.        , 0.        , 0.        ,\n",
       "       0.        , 0.        , 0.        , 0.        , 0.        ,\n",
       "       0.        , 0.53333333, 0.99215686, 0.99215686, 0.99215686,\n",
       "       0.83137255, 0.52941176, 0.51764706, 0.0627451 , 0.        ,\n",
       "       0.        , 0.        , 0.        , 0.        , 0.        ,\n",
       "       0.        , 0.        , 0.        , 0.        , 0.        ,\n",
       "       0.        , 0.        , 0.        , 0.        , 0.        ,\n",
       "       0.        , 0.        , 0.        , 0.        , 0.        ,\n",
       "       0.        , 0.        , 0.        , 0.        , 0.        ,\n",
       "       0.        , 0.        , 0.        , 0.        , 0.        ,\n",
       "       0.        , 0.        , 0.        , 0.        , 0.        ,\n",
       "       0.        , 0.        , 0.        , 0.        , 0.        ,\n",
       "       0.        , 0.        , 0.        , 0.        , 0.        ,\n",
       "       0.        , 0.        , 0.        , 0.        , 0.        ,\n",
       "       0.        , 0.        , 0.        , 0.        , 0.        ,\n",
       "       0.        , 0.        , 0.        , 0.        , 0.        ,\n",
       "       0.        , 0.        , 0.        , 0.        , 0.        ,\n",
       "       0.        , 0.        , 0.        , 0.        , 0.        ,\n",
       "       0.        , 0.        , 0.        , 0.        , 0.        ,\n",
       "       0.        , 0.        , 0.        , 0.        , 0.        ,\n",
       "       0.        , 0.        , 0.        , 0.        , 0.        ,\n",
       "       0.        , 0.        , 0.        , 0.        , 0.        ,\n",
       "       0.        , 0.        , 0.        , 0.        , 0.        ,\n",
       "       0.        , 0.        , 0.        , 0.        ])"
      ]
     },
     "execution_count": 34,
     "metadata": {},
     "output_type": "execute_result"
    }
   ],
   "source": [
    "# reshaping it intob flatten \n",
    "\n",
    "x_train_flatten=x_train.reshape(len(x_train),28*28)\n",
    "x_train_flatten[0]"
   ]
  },
  {
   "cell_type": "code",
   "execution_count": 30,
   "id": "63a8f775",
   "metadata": {
    "scrolled": true
   },
   "outputs": [
    {
     "data": {
      "text/plain": [
       "array([[0., 0., 0., ..., 0., 0., 0.],\n",
       "       [0., 0., 0., ..., 0., 0., 0.],\n",
       "       [0., 0., 0., ..., 0., 0., 0.],\n",
       "       ...,\n",
       "       [0., 0., 0., ..., 0., 0., 0.],\n",
       "       [0., 0., 0., ..., 0., 0., 0.],\n",
       "       [0., 0., 0., ..., 0., 0., 0.]])"
      ]
     },
     "execution_count": 30,
     "metadata": {},
     "output_type": "execute_result"
    }
   ],
   "source": [
    "x_test_flatten=x_test.reshape(len(x_test),28*28)\n",
    "x_test_flatten"
   ]
  },
  {
   "cell_type": "code",
   "execution_count": null,
   "id": "1f776169",
   "metadata": {},
   "outputs": [],
   "source": []
  },
  {
   "cell_type": "code",
   "execution_count": 33,
   "id": "552c71e0",
   "metadata": {},
   "outputs": [
    {
     "name": "stdout",
     "output_type": "stream",
     "text": [
      "Epoch 1/5\n",
      "1875/1875 [==============================] - 2s 937us/step - loss: 0.4729 - accuracy: 0.8768\n",
      "Epoch 2/5\n",
      "1875/1875 [==============================] - 2s 963us/step - loss: 0.3041 - accuracy: 0.9154\n",
      "Epoch 3/5\n",
      "1875/1875 [==============================] - 2s 1ms/step - loss: 0.2830 - accuracy: 0.9208\n",
      "Epoch 4/5\n",
      "1875/1875 [==============================] - 2s 1ms/step - loss: 0.2734 - accuracy: 0.9227\n",
      "Epoch 5/5\n",
      "1875/1875 [==============================] - 2s 974us/step - loss: 0.2667 - accuracy: 0.9256\n"
     ]
    },
    {
     "data": {
      "text/plain": [
       "<keras.src.callbacks.History at 0x245a3db0ac0>"
      ]
     },
     "execution_count": 33,
     "metadata": {},
     "output_type": "execute_result"
    }
   ],
   "source": [
    "model=keras.Sequential([\n",
    "    keras.layers.Dense(10,input_shape=(784,),activation='sigmoid')\n",
    "])\n",
    "\n",
    "model.compile(\n",
    "    optimizer='adam',\n",
    "    loss='sparse_categorical_crossentropy',\n",
    "    metrics=['accuracy']\n",
    "\n",
    ")\n",
    "\n",
    "model.fit(x_train_flatten,y_train,epochs=5)"
   ]
  },
  {
   "cell_type": "code",
   "execution_count": 35,
   "id": "619c1785",
   "metadata": {},
   "outputs": [
    {
     "name": "stdout",
     "output_type": "stream",
     "text": [
      "313/313 [==============================] - 0s 809us/step - loss: 0.2669 - accuracy: 0.9268\n"
     ]
    },
    {
     "data": {
      "text/plain": [
       "[0.266912579536438, 0.926800012588501]"
      ]
     },
     "execution_count": 35,
     "metadata": {},
     "output_type": "execute_result"
    }
   ],
   "source": [
    "#evaluate the model peformance\n",
    "\n",
    "model.evaluate(x_test_flatten,y_test)"
   ]
  },
  {
   "cell_type": "code",
   "execution_count": 37,
   "id": "cf6ed80a",
   "metadata": {
    "scrolled": true
   },
   "outputs": [
    {
     "name": "stdout",
     "output_type": "stream",
     "text": [
      "313/313 [==============================] - 0s 718us/step\n"
     ]
    },
    {
     "data": {
      "text/plain": [
       "array([3.1849679e-02, 3.2132596e-07, 7.5456642e-02, 9.5792437e-01,\n",
       "       2.5048389e-03, 1.2508254e-01, 1.6805726e-06, 9.9977118e-01,\n",
       "       8.9705043e-02, 7.0423186e-01], dtype=float32)"
      ]
     },
     "execution_count": 37,
     "metadata": {},
     "output_type": "execute_result"
    }
   ],
   "source": [
    "# predicton score of the testing value \n",
    "\n",
    "y_predicted=model.predict(x_test_flatten)\n",
    "y_predicted[0]"
   ]
  },
  {
   "cell_type": "code",
   "execution_count": 38,
   "id": "cc89ba6a",
   "metadata": {},
   "outputs": [
    {
     "data": {
      "text/plain": [
       "7"
      ]
     },
     "execution_count": 38,
     "metadata": {},
     "output_type": "execute_result"
    }
   ],
   "source": [
    "#predicting the maximum value from the array\n",
    "\n",
    "\n",
    "np.argmax(y_predicted[0])"
   ]
  },
  {
   "cell_type": "code",
   "execution_count": 43,
   "id": "dbd3f674",
   "metadata": {},
   "outputs": [
    {
     "data": {
      "text/plain": [
       "[7, 2, 1, 0, 4]"
      ]
     },
     "execution_count": 43,
     "metadata": {},
     "output_type": "execute_result"
    }
   ],
   "source": [
    "y_predicted_labels=[np.argmax(i) for i in y_predicted]\n",
    "y_predicted_labels[:5]"
   ]
  },
  {
   "cell_type": "code",
   "execution_count": 45,
   "id": "8c479bb8",
   "metadata": {},
   "outputs": [
    {
     "data": {
      "text/plain": [
       "array([7, 2, 1, 0, 4], dtype=uint8)"
      ]
     },
     "execution_count": 45,
     "metadata": {},
     "output_type": "execute_result"
    }
   ],
   "source": [
    "y_test[:5]"
   ]
  },
  {
   "cell_type": "code",
   "execution_count": 46,
   "id": "9f35cee0",
   "metadata": {
    "scrolled": true
   },
   "outputs": [
    {
     "data": {
      "text/plain": [
       "<tf.Tensor: shape=(10, 10), dtype=int32, numpy=\n",
       "array([[ 963,    0,    2,    2,    0,    4,    6,    2,    1,    0],\n",
       "       [   0, 1111,    3,    2,    0,    1,    4,    2,   12,    0],\n",
       "       [   4,    7,  945,   12,    9,    4,   11,    9,   27,    4],\n",
       "       [   4,    0,   25,  908,    0,   31,    2,   10,   22,    8],\n",
       "       [   1,    1,    5,    2,  914,    0,   10,    4,   10,   35],\n",
       "       [  11,    2,    6,   25,   10,  788,   12,    6,   26,    6],\n",
       "       [  12,    3,    7,    1,    7,   12,  913,    2,    1,    0],\n",
       "       [   1,    5,   26,    5,    8,    0,    0,  946,    2,   35],\n",
       "       [  10,    7,    8,   20,    9,   30,    9,   11,  860,   10],\n",
       "       [  11,    6,    1,   10,   30,    8,    0,   19,    4,  920]])>"
      ]
     },
     "execution_count": 46,
     "metadata": {},
     "output_type": "execute_result"
    }
   ],
   "source": [
    "# building a confusion matrix\n",
    "\n",
    "cm=tf.math.confusion_matrix(labels=y_test,predictions=y_predicted_labels)\n",
    "cm"
   ]
  },
  {
   "cell_type": "code",
   "execution_count": 49,
   "id": "abfeaea6",
   "metadata": {},
   "outputs": [
    {
     "data": {
      "text/plain": [
       "Text(220.72222222222223, 0.5, 'Truth')"
      ]
     },
     "execution_count": 49,
     "metadata": {},
     "output_type": "execute_result"
    },
    {
     "data": {
      "image/png": "[encoded data removed]",
      "text/plain": [
       "<Figure size 2000x1000 with 2 Axes>"
      ]
     },
     "metadata": {},
     "output_type": "display_data"
    }
   ],
   "source": [
    "import seaborn as sns \n",
    "plt.figure(figsize =(20,10))\n",
    "sns.heatmap(cm ,annot=True,fmt='d')\n",
    "plt.xlabel('predicted')\n",
    "plt.ylabel('Truth')"
   ]
  },
  {
   "cell_type": "code",
   "execution_count": 53,
   "id": "f99da88a",
   "metadata": {},
   "outputs": [
    {
     "name": "stdout",
     "output_type": "stream",
     "text": [
      "Epoch 1/5\n",
      "1875/1875 [==============================] - 9s 5ms/step - loss: 0.2749 - accuracy: 0.9227\n",
      "Epoch 2/5\n",
      "1875/1875 [==============================] - 7s 4ms/step - loss: 0.1253 - accuracy: 0.9631\n",
      "Epoch 3/5\n",
      "1875/1875 [==============================] - 9s 5ms/step - loss: 0.0865 - accuracy: 0.9736\n",
      "Epoch 4/5\n",
      "1875/1875 [==============================] - 7s 4ms/step - loss: 0.0660 - accuracy: 0.9797\n",
      "Epoch 5/5\n",
      "1875/1875 [==============================] - 9s 5ms/step - loss: 0.0513 - accuracy: 0.9838\n"
     ]
    },
    {
     "data": {
      "text/plain": [
       "<keras.src.callbacks.History at 0x245c69b8d90>"
      ]
     },
     "execution_count": 53,
     "metadata": {},
     "output_type": "execute_result"
    }
   ],
   "source": [
    "#adding the hiddenlayer\n",
    "\n",
    "\n",
    "model=keras.Sequential([\n",
    "     keras.layers.Dense(100,input_shape=(784,),activation='relu'),\n",
    "     keras.layers.Dense(10,activation='sigmoid')\n",
    "])\n",
    "\n",
    "model.compile(\n",
    "    optimizer='adam',\n",
    "    loss='sparse_categorical_crossentropy',\n",
    "    metrics=['accuracy']\n",
    "\n",
    ")\n",
    "\n",
    "model.fit(x_train_flatten,y_train,epochs=5)"
   ]
  },
  {
   "cell_type": "code",
   "execution_count": 61,
   "id": "465d538f",
   "metadata": {
    "scrolled": true
   },
   "outputs": [
    {
     "name": "stdout",
     "output_type": "stream",
     "text": [
      "Epoch 1/5\n",
      "1875/1875 [==============================] - 10s 5ms/step - loss: 1.1999 - accuracy: 0.7113\n",
      "Epoch 2/5\n",
      "1875/1875 [==============================] - 7s 4ms/step - loss: 0.6565 - accuracy: 0.8424\n",
      "Epoch 3/5\n",
      "1875/1875 [==============================] - 10s 5ms/step - loss: 0.5368 - accuracy: 0.8640\n",
      "Epoch 4/5\n",
      "1875/1875 [==============================] - 8s 4ms/step - loss: 0.4785 - accuracy: 0.8756\n",
      "Epoch 5/5\n",
      "1875/1875 [==============================] - 9s 5ms/step - loss: 0.4424 - accuracy: 0.8842\n"
     ]
    },
    {
     "data": {
      "text/plain": [
       "<keras.src.callbacks.History at 0x245a8910ac0>"
      ]
     },
     "execution_count": 61,
     "metadata": {},
     "output_type": "execute_result"
    }
   ],
   "source": [
    "#using flatten fucnion from keras\n",
    "\n",
    "model=keras.Sequential([\n",
    "     keras.layers.Flatten(input_shape=(28,28)),\n",
    "     keras.layers.Dense(100, activation='relu'),\n",
    "     keras.layers.Dense(10, activation='sigmoid')\n",
    "])\n",
    "\n",
    "model.compile(\n",
    "    optimizer='adagrad',\n",
    "    loss='sparse_categorical_crossentropy',\n",
    "    metrics=['accuracy']\n",
    "\n",
    ")\n",
    "\n",
    "model.fit(x_train,y_train,epochs=5)"
   ]
  },
  {
   "cell_type": "code",
   "execution_count": null,
   "id": "60e90eb7",
   "metadata": {},
   "outputs": [],
   "source": [
    "#creating a mean squre error function \n",
    "\n",
    "y=[1,2,3,4,5]"
   ]
  },
  {
   "cell_type": "code",
   "execution_count": null,
   "id": "84f75a27",
   "metadata": {},
   "outputs": [],
   "source": []
  },
  {
   "cell_type": "markdown",
   "id": "9825a39b",
   "metadata": {},
   "source": [
    "# gradient decent "
   ]
  },
  {
   "cell_type": "code",
   "execution_count": 84,
   "id": "c07ff23f",
   "metadata": {
    "scrolled": true
   },
   "outputs": [
    {
     "data": {
      "text/html": [
       "<div>\n",
       "<style scoped>\n",
       "    .dataframe tbody tr th:only-of-type {\n",
       "        vertical-align: middle;\n",
       "    }\n",
       "\n",
       "    .dataframe tbody tr th {\n",
       "        vertical-align: top;\n",
       "    }\n",
       "\n",
       "    .dataframe thead th {\n",
       "        text-align: right;\n",
       "    }\n",
       "</style>\n",
       "<table border=\"1\" class=\"dataframe\">\n",
       "  <thead>\n",
       "    <tr style=\"text-align: right;\">\n",
       "      <th></th>\n",
       "      <th>age</th>\n",
       "      <th>affodability</th>\n",
       "      <th>insurance_credited</th>\n",
       "    </tr>\n",
       "  </thead>\n",
       "  <tbody>\n",
       "    <tr>\n",
       "      <th>0</th>\n",
       "      <td>22</td>\n",
       "      <td>0</td>\n",
       "      <td>0</td>\n",
       "    </tr>\n",
       "    <tr>\n",
       "      <th>1</th>\n",
       "      <td>35</td>\n",
       "      <td>1</td>\n",
       "      <td>1</td>\n",
       "    </tr>\n",
       "    <tr>\n",
       "      <th>2</th>\n",
       "      <td>45</td>\n",
       "      <td>1</td>\n",
       "      <td>1</td>\n",
       "    </tr>\n",
       "    <tr>\n",
       "      <th>3</th>\n",
       "      <td>40</td>\n",
       "      <td>1</td>\n",
       "      <td>1</td>\n",
       "    </tr>\n",
       "    <tr>\n",
       "      <th>4</th>\n",
       "      <td>65</td>\n",
       "      <td>1</td>\n",
       "      <td>0</td>\n",
       "    </tr>\n",
       "    <tr>\n",
       "      <th>5</th>\n",
       "      <td>23</td>\n",
       "      <td>0</td>\n",
       "      <td>0</td>\n",
       "    </tr>\n",
       "    <tr>\n",
       "      <th>6</th>\n",
       "      <td>33</td>\n",
       "      <td>0</td>\n",
       "      <td>0</td>\n",
       "    </tr>\n",
       "    <tr>\n",
       "      <th>7</th>\n",
       "      <td>46</td>\n",
       "      <td>1</td>\n",
       "      <td>1</td>\n",
       "    </tr>\n",
       "    <tr>\n",
       "      <th>8</th>\n",
       "      <td>70</td>\n",
       "      <td>0</td>\n",
       "      <td>0</td>\n",
       "    </tr>\n",
       "    <tr>\n",
       "      <th>9</th>\n",
       "      <td>60</td>\n",
       "      <td>1</td>\n",
       "      <td>1</td>\n",
       "    </tr>\n",
       "  </tbody>\n",
       "</table>\n",
       "</div>"
      ],
      "text/plain": [
       "   age  affodability  insurance_credited\n",
       "0   22             0                   0\n",
       "1   35             1                   1\n",
       "2   45             1                   1\n",
       "3   40             1                   1\n",
       "4   65             1                   0\n",
       "5   23             0                   0\n",
       "6   33             0                   0\n",
       "7   46             1                   1\n",
       "8   70             0                   0\n",
       "9   60             1                   1"
      ]
     },
     "execution_count": 84,
     "metadata": {},
     "output_type": "execute_result"
    }
   ],
   "source": [
    "import pandas as pd\n",
    "\n",
    "df=pd.DataFrame({\n",
    "    \"age\":[22,35,45,40,65,23,33,46,70,60],\n",
    "    \"affodability\":[0,1,1,1,1,0,0,1,0,1],\n",
    "    \"insurance_credited\":[0,1,1,1,0,0,0,1,0,1]\n",
    "})\n",
    "df"
   ]
  },
  {
   "cell_type": "code",
   "execution_count": 86,
   "id": "27316020",
   "metadata": {},
   "outputs": [],
   "source": [
    "\n",
    "\n",
    "\n",
    "from sklearn.model_selection import train_test_split\n",
    "\n",
    "x_train,x_test,y_train,y_test=train_test_split(df[['age','affodability']],df.insurance_credited,test_size=0.2,random_state=0)"
   ]
  },
  {
   "cell_type": "code",
   "execution_count": 87,
   "id": "04c2b486",
   "metadata": {
    "scrolled": true
   },
   "outputs": [
    {
     "data": {
      "text/plain": [
       "8"
      ]
     },
     "execution_count": 87,
     "metadata": {},
     "output_type": "execute_result"
    }
   ],
   "source": [
    "len(x_train)"
   ]
  },
  {
   "cell_type": "code",
   "execution_count": 88,
   "id": "e101c8f8",
   "metadata": {
    "scrolled": true
   },
   "outputs": [
    {
     "data": {
      "text/plain": [
       "4    0\n",
       "9    1\n",
       "1    1\n",
       "6    0\n",
       "7    1\n",
       "3    1\n",
       "0    0\n",
       "5    0\n",
       "Name: insurance_credited, dtype: int64"
      ]
     },
     "execution_count": 88,
     "metadata": {},
     "output_type": "execute_result"
    }
   ],
   "source": [
    "y_train"
   ]
  },
  {
   "cell_type": "code",
   "execution_count": 89,
   "id": "e41ea190",
   "metadata": {},
   "outputs": [],
   "source": [
    "x_train_scaled=x_train.copy()\n",
    "x_train_scaled['age']=x_train_scaled['age']/100"
   ]
  },
  {
   "cell_type": "code",
   "execution_count": 90,
   "id": "95572029",
   "metadata": {},
   "outputs": [],
   "source": [
    "x_test_scaled=x_test.copy()\n",
    "x_test_scaled['age']=x_test_scaled['age']/100"
   ]
  },
  {
   "cell_type": "code",
   "execution_count": 14,
   "id": "d2157f87",
   "metadata": {
    "scrolled": true
   },
   "outputs": [
    {
     "data": {
      "text/html": [
       "<div>\n",
       "<style scoped>\n",
       "    .dataframe tbody tr th:only-of-type {\n",
       "        vertical-align: middle;\n",
       "    }\n",
       "\n",
       "    .dataframe tbody tr th {\n",
       "        vertical-align: top;\n",
       "    }\n",
       "\n",
       "    .dataframe thead th {\n",
       "        text-align: right;\n",
       "    }\n",
       "</style>\n",
       "<table border=\"1\" class=\"dataframe\">\n",
       "  <thead>\n",
       "    <tr style=\"text-align: right;\">\n",
       "      <th></th>\n",
       "      <th>age</th>\n",
       "      <th>affodability</th>\n",
       "    </tr>\n",
       "  </thead>\n",
       "  <tbody>\n",
       "    <tr>\n",
       "      <th>5</th>\n",
       "      <td>0.23</td>\n",
       "      <td>0</td>\n",
       "    </tr>\n",
       "    <tr>\n",
       "      <th>0</th>\n",
       "      <td>0.22</td>\n",
       "      <td>0</td>\n",
       "    </tr>\n",
       "    <tr>\n",
       "      <th>7</th>\n",
       "      <td>0.46</td>\n",
       "      <td>1</td>\n",
       "    </tr>\n",
       "    <tr>\n",
       "      <th>2</th>\n",
       "      <td>0.45</td>\n",
       "      <td>1</td>\n",
       "    </tr>\n",
       "    <tr>\n",
       "      <th>3</th>\n",
       "      <td>0.40</td>\n",
       "      <td>1</td>\n",
       "    </tr>\n",
       "    <tr>\n",
       "      <th>6</th>\n",
       "      <td>0.33</td>\n",
       "      <td>0</td>\n",
       "    </tr>\n",
       "    <tr>\n",
       "      <th>9</th>\n",
       "      <td>0.60</td>\n",
       "      <td>1</td>\n",
       "    </tr>\n",
       "    <tr>\n",
       "      <th>8</th>\n",
       "      <td>0.70</td>\n",
       "      <td>0</td>\n",
       "    </tr>\n",
       "  </tbody>\n",
       "</table>\n",
       "</div>"
      ],
      "text/plain": [
       "    age  affodability\n",
       "5  0.23             0\n",
       "0  0.22             0\n",
       "7  0.46             1\n",
       "2  0.45             1\n",
       "3  0.40             1\n",
       "6  0.33             0\n",
       "9  0.60             1\n",
       "8  0.70             0"
      ]
     },
     "execution_count": 14,
     "metadata": {},
     "output_type": "execute_result"
    }
   ],
   "source": [
    "x_train_scaled"
   ]
  },
  {
   "cell_type": "code",
   "execution_count": 91,
   "id": "905a8528",
   "metadata": {},
   "outputs": [],
   "source": [
    "import tensorflow as tf\n",
    "from tensorflow import keras\n",
    "import matplotlib.pyplot as plt\n",
    "%matplotlib inline\n",
    "import numpy as np"
   ]
  },
  {
   "cell_type": "code",
   "execution_count": 53,
   "id": "f66f2993",
   "metadata": {},
   "outputs": [],
   "source": [
    "#created the model \n",
    "\n",
    "\n",
    "model= keras.Sequential([\n",
    "    keras.layers.Dense(1,input_shape=(2,), activation='sigmoid',kernel_initializer='ones',bias_initializer='zeros')\n",
    "])\n",
    "\n",
    "model.compile(optimizer='adam',\n",
    "             loss='binary_crossentropy',\n",
    "             metrics=['accuracy'])"
   ]
  },
  {
   "cell_type": "code",
   "execution_count": 54,
   "id": "452b8675",
   "metadata": {
    "scrolled": false
   },
   "outputs": [
    {
     "name": "stdout",
     "output_type": "stream",
     "text": [
      "Epoch 1/500\n",
      "1/1 [==============================] - 1s 536ms/step - loss: 0.6456 - accuracy: 0.5000\n",
      "Epoch 2/500\n",
      "1/1 [==============================] - 0s 7ms/step - loss: 0.6453 - accuracy: 0.5000\n",
      "Epoch 3/500\n",
      "1/1 [==============================] - 0s 7ms/step - loss: 0.6450 - accuracy: 0.5000\n",
      "Epoch 4/500\n",
      "1/1 [==============================] - 0s 6ms/step - loss: 0.6447 - accuracy: 0.5000\n",
      "Epoch 5/500\n",
      "1/1 [==============================] - 0s 8ms/step - loss: 0.6444 - accuracy: 0.5000\n",
      "Epoch 6/500\n",
      "1/1 [==============================] - 0s 7ms/step - loss: 0.6441 - accuracy: 0.5000\n",
      "Epoch 7/500\n",
      "1/1 [==============================] - 0s 9ms/step - loss: 0.6438 - accuracy: 0.5000\n",
      "Epoch 8/500\n",
      "1/1 [==============================] - 0s 8ms/step - loss: 0.6435 - accuracy: 0.5000\n",
      "Epoch 9/500\n",
      "1/1 [==============================] - 0s 6ms/step - loss: 0.6431 - accuracy: 0.5000\n",
      "Epoch 10/500\n",
      "1/1 [==============================] - 0s 10ms/step - loss: 0.6428 - accuracy: 0.5000\n",
      "Epoch 11/500\n",
      "1/1 [==============================] - 0s 10ms/step - loss: 0.6425 - accuracy: 0.5000\n",
      "Epoch 12/500\n",
      "1/1 [==============================] - 0s 9ms/step - loss: 0.6422 - accuracy: 0.5000\n",
      "Epoch 13/500\n",
      "1/1 [==============================] - 0s 8ms/step - loss: 0.6419 - accuracy: 0.5000\n",
      "Epoch 14/500\n",
      "1/1 [==============================] - 0s 10ms/step - loss: 0.6416 - accuracy: 0.5000\n",
      "Epoch 15/500\n",
      "1/1 [==============================] - 0s 9ms/step - loss: 0.6413 - accuracy: 0.5000\n",
      "Epoch 16/500\n",
      "1/1 [==============================] - 0s 6ms/step - loss: 0.6410 - accuracy: 0.5000\n",
      "Epoch 17/500\n",
      "1/1 [==============================] - 0s 9ms/step - loss: 0.6407 - accuracy: 0.5000\n",
      "Epoch 18/500\n",
      "1/1 [==============================] - 0s 10ms/step - loss: 0.6404 - accuracy: 0.5000\n",
      "Epoch 19/500\n",
      "1/1 [==============================] - 0s 7ms/step - loss: 0.6401 - accuracy: 0.5000\n",
      "Epoch 20/500\n",
      "1/1 [==============================] - 0s 7ms/step - loss: 0.6398 - accuracy: 0.5000\n",
      "Epoch 21/500\n",
      "1/1 [==============================] - 0s 9ms/step - loss: 0.6395 - accuracy: 0.5000\n",
      "Epoch 22/500\n",
      "1/1 [==============================] - 0s 9ms/step - loss: 0.6392 - accuracy: 0.5000\n",
      "Epoch 23/500\n",
      "1/1 [==============================] - 0s 8ms/step - loss: 0.6389 - accuracy: 0.5000\n",
      "Epoch 24/500\n",
      "1/1 [==============================] - 0s 9ms/step - loss: 0.6386 - accuracy: 0.5000\n",
      "Epoch 25/500\n",
      "1/1 [==============================] - 0s 9ms/step - loss: 0.6384 - accuracy: 0.5000\n",
      "Epoch 26/500\n",
      "1/1 [==============================] - 0s 9ms/step - loss: 0.6381 - accuracy: 0.5000\n",
      "Epoch 27/500\n",
      "1/1 [==============================] - 0s 7ms/step - loss: 0.6378 - accuracy: 0.5000\n",
      "Epoch 28/500\n",
      "1/1 [==============================] - 0s 9ms/step - loss: 0.6375 - accuracy: 0.5000\n",
      "Epoch 29/500\n",
      "1/1 [==============================] - 0s 8ms/step - loss: 0.6372 - accuracy: 0.5000\n",
      "Epoch 30/500\n",
      "1/1 [==============================] - 0s 9ms/step - loss: 0.6369 - accuracy: 0.5000\n",
      "Epoch 31/500\n",
      "1/1 [==============================] - 0s 9ms/step - loss: 0.6366 - accuracy: 0.5000\n",
      "Epoch 32/500\n",
      "1/1 [==============================] - 0s 7ms/step - loss: 0.6363 - accuracy: 0.5000\n",
      "Epoch 33/500\n",
      "1/1 [==============================] - 0s 8ms/step - loss: 0.6360 - accuracy: 0.5000\n",
      "Epoch 34/500\n",
      "1/1 [==============================] - 0s 9ms/step - loss: 0.6358 - accuracy: 0.5000\n",
      "Epoch 35/500\n",
      "1/1 [==============================] - 0s 10ms/step - loss: 0.6355 - accuracy: 0.5000\n",
      "Epoch 36/500\n",
      "1/1 [==============================] - 0s 15ms/step - loss: 0.6352 - accuracy: 0.5000\n",
      "Epoch 37/500\n",
      "1/1 [==============================] - 0s 14ms/step - loss: 0.6349 - accuracy: 0.5000\n",
      "Epoch 38/500\n",
      "1/1 [==============================] - 0s 11ms/step - loss: 0.6346 - accuracy: 0.5000\n",
      "Epoch 39/500\n",
      "1/1 [==============================] - 0s 11ms/step - loss: 0.6344 - accuracy: 0.5000\n",
      "Epoch 40/500\n",
      "1/1 [==============================] - 0s 8ms/step - loss: 0.6341 - accuracy: 0.5000\n",
      "Epoch 41/500\n",
      "1/1 [==============================] - 0s 9ms/step - loss: 0.6338 - accuracy: 0.5000\n",
      "Epoch 42/500\n",
      "1/1 [==============================] - 0s 9ms/step - loss: 0.6335 - accuracy: 0.5000\n",
      "Epoch 43/500\n",
      "1/1 [==============================] - 0s 11ms/step - loss: 0.6332 - accuracy: 0.5000\n",
      "Epoch 44/500\n",
      "1/1 [==============================] - 0s 10ms/step - loss: 0.6330 - accuracy: 0.5000\n",
      "Epoch 45/500\n",
      "1/1 [==============================] - 0s 11ms/step - loss: 0.6327 - accuracy: 0.5000\n",
      "Epoch 46/500\n",
      "1/1 [==============================] - 0s 10ms/step - loss: 0.6324 - accuracy: 0.5000\n",
      "Epoch 47/500\n",
      "1/1 [==============================] - 0s 16ms/step - loss: 0.6321 - accuracy: 0.5000\n",
      "Epoch 48/500\n",
      "1/1 [==============================] - 0s 15ms/step - loss: 0.6319 - accuracy: 0.5000\n",
      "Epoch 49/500\n",
      "1/1 [==============================] - 0s 13ms/step - loss: 0.6316 - accuracy: 0.5000\n",
      "Epoch 50/500\n",
      "1/1 [==============================] - 0s 12ms/step - loss: 0.6313 - accuracy: 0.5000\n",
      "Epoch 51/500\n",
      "1/1 [==============================] - 0s 12ms/step - loss: 0.6310 - accuracy: 0.5000\n",
      "Epoch 52/500\n",
      "1/1 [==============================] - 0s 10ms/step - loss: 0.6308 - accuracy: 0.5000\n",
      "Epoch 53/500\n",
      "1/1 [==============================] - 0s 10ms/step - loss: 0.6305 - accuracy: 0.5000\n",
      "Epoch 54/500\n",
      "1/1 [==============================] - 0s 8ms/step - loss: 0.6302 - accuracy: 0.5000\n",
      "Epoch 55/500\n",
      "1/1 [==============================] - 0s 8ms/step - loss: 0.6300 - accuracy: 0.5000\n",
      "Epoch 56/500\n",
      "1/1 [==============================] - 0s 8ms/step - loss: 0.6297 - accuracy: 0.5000\n",
      "Epoch 57/500\n",
      "1/1 [==============================] - 0s 12ms/step - loss: 0.6294 - accuracy: 0.5000\n",
      "Epoch 58/500\n",
      "1/1 [==============================] - 0s 13ms/step - loss: 0.6291 - accuracy: 0.5000\n",
      "Epoch 59/500\n",
      "1/1 [==============================] - 0s 12ms/step - loss: 0.6289 - accuracy: 0.5000\n",
      "Epoch 60/500\n",
      "1/1 [==============================] - 0s 15ms/step - loss: 0.6286 - accuracy: 0.5000\n",
      "Epoch 61/500\n",
      "1/1 [==============================] - 0s 12ms/step - loss: 0.6283 - accuracy: 0.5000\n",
      "Epoch 62/500\n",
      "1/1 [==============================] - 0s 15ms/step - loss: 0.6281 - accuracy: 0.5000\n",
      "Epoch 63/500\n",
      "1/1 [==============================] - 0s 13ms/step - loss: 0.6278 - accuracy: 0.5000\n",
      "Epoch 64/500\n",
      "1/1 [==============================] - 0s 11ms/step - loss: 0.6275 - accuracy: 0.5000\n",
      "Epoch 65/500\n",
      "1/1 [==============================] - 0s 19ms/step - loss: 0.6273 - accuracy: 0.5000\n",
      "Epoch 66/500\n",
      "1/1 [==============================] - 0s 15ms/step - loss: 0.6270 - accuracy: 0.5000\n",
      "Epoch 67/500\n",
      "1/1 [==============================] - 0s 11ms/step - loss: 0.6267 - accuracy: 0.5000\n",
      "Epoch 68/500\n",
      "1/1 [==============================] - 0s 9ms/step - loss: 0.6265 - accuracy: 0.5000\n",
      "Epoch 69/500\n",
      "1/1 [==============================] - 0s 16ms/step - loss: 0.6262 - accuracy: 0.5000\n",
      "Epoch 70/500\n",
      "1/1 [==============================] - 0s 14ms/step - loss: 0.6259 - accuracy: 0.5000\n",
      "Epoch 71/500\n",
      "1/1 [==============================] - 0s 12ms/step - loss: 0.6257 - accuracy: 0.5000\n",
      "Epoch 72/500\n",
      "1/1 [==============================] - 0s 9ms/step - loss: 0.6254 - accuracy: 0.5000\n",
      "Epoch 73/500\n",
      "1/1 [==============================] - 0s 9ms/step - loss: 0.6252 - accuracy: 0.5000\n",
      "Epoch 74/500\n",
      "1/1 [==============================] - 0s 11ms/step - loss: 0.6249 - accuracy: 0.5000\n",
      "Epoch 75/500\n",
      "1/1 [==============================] - 0s 10ms/step - loss: 0.6246 - accuracy: 0.5000\n",
      "Epoch 76/500\n",
      "1/1 [==============================] - 0s 13ms/step - loss: 0.6244 - accuracy: 0.5000\n",
      "Epoch 77/500\n",
      "1/1 [==============================] - 0s 13ms/step - loss: 0.6241 - accuracy: 0.5000\n",
      "Epoch 78/500\n",
      "1/1 [==============================] - 0s 13ms/step - loss: 0.6238 - accuracy: 0.5000\n",
      "Epoch 79/500\n",
      "1/1 [==============================] - 0s 12ms/step - loss: 0.6236 - accuracy: 0.5000\n",
      "Epoch 80/500\n",
      "1/1 [==============================] - 0s 13ms/step - loss: 0.6233 - accuracy: 0.5000\n",
      "Epoch 81/500\n",
      "1/1 [==============================] - 0s 11ms/step - loss: 0.6231 - accuracy: 0.5000\n",
      "Epoch 82/500\n",
      "1/1 [==============================] - 0s 10ms/step - loss: 0.6228 - accuracy: 0.5000\n",
      "Epoch 83/500\n",
      "1/1 [==============================] - 0s 11ms/step - loss: 0.6225 - accuracy: 0.5000\n",
      "Epoch 84/500\n"
     ]
    },
    {
     "name": "stdout",
     "output_type": "stream",
     "text": [
      "1/1 [==============================] - 0s 10ms/step - loss: 0.6223 - accuracy: 0.5000\n",
      "Epoch 85/500\n",
      "1/1 [==============================] - 0s 9ms/step - loss: 0.6220 - accuracy: 0.5000\n",
      "Epoch 86/500\n",
      "1/1 [==============================] - 0s 9ms/step - loss: 0.6217 - accuracy: 0.5000\n",
      "Epoch 87/500\n",
      "1/1 [==============================] - 0s 10ms/step - loss: 0.6215 - accuracy: 0.5000\n",
      "Epoch 88/500\n",
      "1/1 [==============================] - 0s 11ms/step - loss: 0.6212 - accuracy: 0.5000\n",
      "Epoch 89/500\n",
      "1/1 [==============================] - 0s 15ms/step - loss: 0.6210 - accuracy: 0.5000\n",
      "Epoch 90/500\n",
      "1/1 [==============================] - 0s 10ms/step - loss: 0.6207 - accuracy: 0.5000\n",
      "Epoch 91/500\n",
      "1/1 [==============================] - 0s 10ms/step - loss: 0.6204 - accuracy: 0.5000\n",
      "Epoch 92/500\n",
      "1/1 [==============================] - 0s 7ms/step - loss: 0.6202 - accuracy: 0.5000\n",
      "Epoch 93/500\n",
      "1/1 [==============================] - 0s 8ms/step - loss: 0.6199 - accuracy: 0.5000\n",
      "Epoch 94/500\n",
      "1/1 [==============================] - 0s 9ms/step - loss: 0.6197 - accuracy: 0.5000\n",
      "Epoch 95/500\n",
      "1/1 [==============================] - 0s 11ms/step - loss: 0.6194 - accuracy: 0.5000\n",
      "Epoch 96/500\n",
      "1/1 [==============================] - 0s 11ms/step - loss: 0.6191 - accuracy: 0.5000\n",
      "Epoch 97/500\n",
      "1/1 [==============================] - 0s 13ms/step - loss: 0.6189 - accuracy: 0.5000\n",
      "Epoch 98/500\n",
      "1/1 [==============================] - 0s 11ms/step - loss: 0.6186 - accuracy: 0.5000\n",
      "Epoch 99/500\n",
      "1/1 [==============================] - 0s 12ms/step - loss: 0.6184 - accuracy: 0.5000\n",
      "Epoch 100/500\n",
      "1/1 [==============================] - 0s 11ms/step - loss: 0.6181 - accuracy: 0.5000\n",
      "Epoch 101/500\n",
      "1/1 [==============================] - 0s 9ms/step - loss: 0.6178 - accuracy: 0.5000\n",
      "Epoch 102/500\n",
      "1/1 [==============================] - 0s 9ms/step - loss: 0.6176 - accuracy: 0.5000\n",
      "Epoch 103/500\n",
      "1/1 [==============================] - 0s 8ms/step - loss: 0.6173 - accuracy: 0.5000\n",
      "Epoch 104/500\n",
      "1/1 [==============================] - 0s 8ms/step - loss: 0.6171 - accuracy: 0.5000\n",
      "Epoch 105/500\n",
      "1/1 [==============================] - 0s 10ms/step - loss: 0.6168 - accuracy: 0.5000\n",
      "Epoch 106/500\n",
      "1/1 [==============================] - 0s 14ms/step - loss: 0.6166 - accuracy: 0.5000\n",
      "Epoch 107/500\n",
      "1/1 [==============================] - 0s 13ms/step - loss: 0.6163 - accuracy: 0.5000\n",
      "Epoch 108/500\n",
      "1/1 [==============================] - 0s 13ms/step - loss: 0.6160 - accuracy: 0.5000\n",
      "Epoch 109/500\n",
      "1/1 [==============================] - 0s 13ms/step - loss: 0.6158 - accuracy: 0.5000\n",
      "Epoch 110/500\n",
      "1/1 [==============================] - 0s 12ms/step - loss: 0.6155 - accuracy: 0.5000\n",
      "Epoch 111/500\n",
      "1/1 [==============================] - 0s 11ms/step - loss: 0.6153 - accuracy: 0.5000\n",
      "Epoch 112/500\n",
      "1/1 [==============================] - 0s 9ms/step - loss: 0.6150 - accuracy: 0.5000\n",
      "Epoch 113/500\n",
      "1/1 [==============================] - 0s 11ms/step - loss: 0.6148 - accuracy: 0.5000\n",
      "Epoch 114/500\n",
      "1/1 [==============================] - 0s 11ms/step - loss: 0.6145 - accuracy: 0.5000\n",
      "Epoch 115/500\n",
      "1/1 [==============================] - 0s 9ms/step - loss: 0.6142 - accuracy: 0.5000\n",
      "Epoch 116/500\n",
      "1/1 [==============================] - 0s 10ms/step - loss: 0.6140 - accuracy: 0.5000\n",
      "Epoch 117/500\n",
      "1/1 [==============================] - 0s 9ms/step - loss: 0.6137 - accuracy: 0.5000\n",
      "Epoch 118/500\n",
      "1/1 [==============================] - 0s 11ms/step - loss: 0.6135 - accuracy: 0.5000\n",
      "Epoch 119/500\n",
      "1/1 [==============================] - 0s 10ms/step - loss: 0.6132 - accuracy: 0.5000\n",
      "Epoch 120/500\n",
      "1/1 [==============================] - 0s 10ms/step - loss: 0.6130 - accuracy: 0.5000\n",
      "Epoch 121/500\n",
      "1/1 [==============================] - 0s 9ms/step - loss: 0.6127 - accuracy: 0.5000\n",
      "Epoch 122/500\n",
      "1/1 [==============================] - 0s 8ms/step - loss: 0.6125 - accuracy: 0.5000\n",
      "Epoch 123/500\n",
      "1/1 [==============================] - 0s 10ms/step - loss: 0.6122 - accuracy: 0.5000\n",
      "Epoch 124/500\n",
      "1/1 [==============================] - 0s 9ms/step - loss: 0.6119 - accuracy: 0.5000\n",
      "Epoch 125/500\n",
      "1/1 [==============================] - 0s 11ms/step - loss: 0.6117 - accuracy: 0.5000\n",
      "Epoch 126/500\n",
      "1/1 [==============================] - 0s 11ms/step - loss: 0.6114 - accuracy: 0.5000\n",
      "Epoch 127/500\n",
      "1/1 [==============================] - 0s 11ms/step - loss: 0.6112 - accuracy: 0.5000\n",
      "Epoch 128/500\n",
      "1/1 [==============================] - 0s 28ms/step - loss: 0.6109 - accuracy: 0.5000\n",
      "Epoch 129/500\n",
      "1/1 [==============================] - 0s 14ms/step - loss: 0.6107 - accuracy: 0.5000\n",
      "Epoch 130/500\n",
      "1/1 [==============================] - 0s 10ms/step - loss: 0.6104 - accuracy: 0.5000\n",
      "Epoch 131/500\n",
      "1/1 [==============================] - 0s 12ms/step - loss: 0.6102 - accuracy: 0.5000\n",
      "Epoch 132/500\n",
      "1/1 [==============================] - 0s 14ms/step - loss: 0.6099 - accuracy: 0.5000\n",
      "Epoch 133/500\n",
      "1/1 [==============================] - 0s 14ms/step - loss: 0.6097 - accuracy: 0.5000\n",
      "Epoch 134/500\n",
      "1/1 [==============================] - 0s 14ms/step - loss: 0.6094 - accuracy: 0.5000\n",
      "Epoch 135/500\n",
      "1/1 [==============================] - 0s 12ms/step - loss: 0.6092 - accuracy: 0.5000\n",
      "Epoch 136/500\n",
      "1/1 [==============================] - 0s 13ms/step - loss: 0.6089 - accuracy: 0.5000\n",
      "Epoch 137/500\n",
      "1/1 [==============================] - 0s 14ms/step - loss: 0.6086 - accuracy: 0.5000\n",
      "Epoch 138/500\n",
      "1/1 [==============================] - 0s 14ms/step - loss: 0.6084 - accuracy: 0.5000\n",
      "Epoch 139/500\n",
      "1/1 [==============================] - 0s 14ms/step - loss: 0.6081 - accuracy: 0.5000\n",
      "Epoch 140/500\n",
      "1/1 [==============================] - 0s 13ms/step - loss: 0.6079 - accuracy: 0.5000\n",
      "Epoch 141/500\n",
      "1/1 [==============================] - 0s 11ms/step - loss: 0.6076 - accuracy: 0.5000\n",
      "Epoch 142/500\n",
      "1/1 [==============================] - 0s 11ms/step - loss: 0.6074 - accuracy: 0.5000\n",
      "Epoch 143/500\n",
      "1/1 [==============================] - 0s 13ms/step - loss: 0.6071 - accuracy: 0.5000\n",
      "Epoch 144/500\n",
      "1/1 [==============================] - 0s 12ms/step - loss: 0.6069 - accuracy: 0.5000\n",
      "Epoch 145/500\n",
      "1/1 [==============================] - 0s 11ms/step - loss: 0.6066 - accuracy: 0.5000\n",
      "Epoch 146/500\n",
      "1/1 [==============================] - 0s 11ms/step - loss: 0.6064 - accuracy: 0.5000\n",
      "Epoch 147/500\n",
      "1/1 [==============================] - 0s 10ms/step - loss: 0.6061 - accuracy: 0.5000\n",
      "Epoch 148/500\n",
      "1/1 [==============================] - 0s 10ms/step - loss: 0.6059 - accuracy: 0.5000\n",
      "Epoch 149/500\n",
      "1/1 [==============================] - 0s 12ms/step - loss: 0.6056 - accuracy: 0.5000\n",
      "Epoch 150/500\n",
      "1/1 [==============================] - 0s 10ms/step - loss: 0.6054 - accuracy: 0.5000\n",
      "Epoch 151/500\n",
      "1/1 [==============================] - 0s 12ms/step - loss: 0.6051 - accuracy: 0.5000\n",
      "Epoch 152/500\n",
      "1/1 [==============================] - 0s 13ms/step - loss: 0.6049 - accuracy: 0.5000\n",
      "Epoch 153/500\n",
      "1/1 [==============================] - 0s 15ms/step - loss: 0.6046 - accuracy: 0.5000\n",
      "Epoch 154/500\n",
      "1/1 [==============================] - 0s 14ms/step - loss: 0.6044 - accuracy: 0.5000\n",
      "Epoch 155/500\n",
      "1/1 [==============================] - 0s 12ms/step - loss: 0.6041 - accuracy: 0.5000\n",
      "Epoch 156/500\n",
      "1/1 [==============================] - 0s 11ms/step - loss: 0.6039 - accuracy: 0.5000\n",
      "Epoch 157/500\n",
      "1/1 [==============================] - 0s 10ms/step - loss: 0.6036 - accuracy: 0.5000\n",
      "Epoch 158/500\n",
      "1/1 [==============================] - 0s 10ms/step - loss: 0.6034 - accuracy: 0.5000\n",
      "Epoch 159/500\n",
      "1/1 [==============================] - 0s 10ms/step - loss: 0.6031 - accuracy: 0.5000\n",
      "Epoch 160/500\n",
      "1/1 [==============================] - 0s 12ms/step - loss: 0.6029 - accuracy: 0.5000\n",
      "Epoch 161/500\n",
      "1/1 [==============================] - 0s 14ms/step - loss: 0.6026 - accuracy: 0.5000\n",
      "Epoch 162/500\n",
      "1/1 [==============================] - 0s 13ms/step - loss: 0.6024 - accuracy: 0.5000\n",
      "Epoch 163/500\n",
      "1/1 [==============================] - 0s 13ms/step - loss: 0.6021 - accuracy: 0.5000\n",
      "Epoch 164/500\n",
      "1/1 [==============================] - 0s 11ms/step - loss: 0.6019 - accuracy: 0.5000\n",
      "Epoch 165/500\n",
      "1/1 [==============================] - 0s 8ms/step - loss: 0.6017 - accuracy: 0.5000\n",
      "Epoch 166/500\n"
     ]
    },
    {
     "name": "stdout",
     "output_type": "stream",
     "text": [
      "1/1 [==============================] - 0s 11ms/step - loss: 0.6014 - accuracy: 0.5000\n",
      "Epoch 167/500\n",
      "1/1 [==============================] - 0s 8ms/step - loss: 0.6012 - accuracy: 0.5000\n",
      "Epoch 168/500\n",
      "1/1 [==============================] - 0s 9ms/step - loss: 0.6009 - accuracy: 0.5000\n",
      "Epoch 169/500\n",
      "1/1 [==============================] - 0s 12ms/step - loss: 0.6007 - accuracy: 0.5000\n",
      "Epoch 170/500\n",
      "1/1 [==============================] - 0s 11ms/step - loss: 0.6004 - accuracy: 0.5000\n",
      "Epoch 171/500\n",
      "1/1 [==============================] - 0s 9ms/step - loss: 0.6002 - accuracy: 0.5000\n",
      "Epoch 172/500\n",
      "1/1 [==============================] - 0s 8ms/step - loss: 0.5999 - accuracy: 0.5000\n",
      "Epoch 173/500\n",
      "1/1 [==============================] - 0s 9ms/step - loss: 0.5997 - accuracy: 0.5000\n",
      "Epoch 174/500\n",
      "1/1 [==============================] - 0s 9ms/step - loss: 0.5994 - accuracy: 0.5000\n",
      "Epoch 175/500\n",
      "1/1 [==============================] - 0s 12ms/step - loss: 0.5992 - accuracy: 0.5000\n",
      "Epoch 176/500\n",
      "1/1 [==============================] - 0s 9ms/step - loss: 0.5989 - accuracy: 0.5000\n",
      "Epoch 177/500\n",
      "1/1 [==============================] - 0s 8ms/step - loss: 0.5987 - accuracy: 0.5000\n",
      "Epoch 178/500\n",
      "1/1 [==============================] - 0s 8ms/step - loss: 0.5985 - accuracy: 0.5000\n",
      "Epoch 179/500\n",
      "1/1 [==============================] - 0s 10ms/step - loss: 0.5982 - accuracy: 0.5000\n",
      "Epoch 180/500\n",
      "1/1 [==============================] - 0s 11ms/step - loss: 0.5980 - accuracy: 0.5000\n",
      "Epoch 181/500\n",
      "1/1 [==============================] - 0s 10ms/step - loss: 0.5977 - accuracy: 0.5000\n",
      "Epoch 182/500\n",
      "1/1 [==============================] - 0s 8ms/step - loss: 0.5975 - accuracy: 0.5000\n",
      "Epoch 183/500\n",
      "1/1 [==============================] - 0s 7ms/step - loss: 0.5972 - accuracy: 0.5000\n",
      "Epoch 184/500\n",
      "1/1 [==============================] - 0s 10ms/step - loss: 0.5970 - accuracy: 0.5000\n",
      "Epoch 185/500\n",
      "1/1 [==============================] - 0s 10ms/step - loss: 0.5967 - accuracy: 0.5000\n",
      "Epoch 186/500\n",
      "1/1 [==============================] - 0s 11ms/step - loss: 0.5965 - accuracy: 0.5000\n",
      "Epoch 187/500\n",
      "1/1 [==============================] - 0s 13ms/step - loss: 0.5963 - accuracy: 0.5000\n",
      "Epoch 188/500\n",
      "1/1 [==============================] - 0s 10ms/step - loss: 0.5960 - accuracy: 0.5000\n",
      "Epoch 189/500\n",
      "1/1 [==============================] - 0s 6ms/step - loss: 0.5958 - accuracy: 0.6250\n",
      "Epoch 190/500\n",
      "1/1 [==============================] - 0s 10ms/step - loss: 0.5955 - accuracy: 0.6250\n",
      "Epoch 191/500\n",
      "1/1 [==============================] - 0s 23ms/step - loss: 0.5953 - accuracy: 0.6250\n",
      "Epoch 192/500\n",
      "1/1 [==============================] - 0s 14ms/step - loss: 0.5950 - accuracy: 0.6250\n",
      "Epoch 193/500\n",
      "1/1 [==============================] - 0s 15ms/step - loss: 0.5948 - accuracy: 0.6250\n",
      "Epoch 194/500\n",
      "1/1 [==============================] - 0s 14ms/step - loss: 0.5946 - accuracy: 0.6250\n",
      "Epoch 195/500\n",
      "1/1 [==============================] - 0s 14ms/step - loss: 0.5943 - accuracy: 0.6250\n",
      "Epoch 196/500\n",
      "1/1 [==============================] - 0s 10ms/step - loss: 0.5941 - accuracy: 0.7500\n",
      "Epoch 197/500\n",
      "1/1 [==============================] - 0s 10ms/step - loss: 0.5938 - accuracy: 0.7500\n",
      "Epoch 198/500\n",
      "1/1 [==============================] - 0s 12ms/step - loss: 0.5936 - accuracy: 0.7500\n",
      "Epoch 199/500\n",
      "1/1 [==============================] - 0s 9ms/step - loss: 0.5934 - accuracy: 0.7500\n",
      "Epoch 200/500\n",
      "1/1 [==============================] - 0s 10ms/step - loss: 0.5931 - accuracy: 0.7500\n",
      "Epoch 201/500\n",
      "1/1 [==============================] - 0s 10ms/step - loss: 0.5929 - accuracy: 0.7500\n",
      "Epoch 202/500\n",
      "1/1 [==============================] - 0s 10ms/step - loss: 0.5926 - accuracy: 0.7500\n",
      "Epoch 203/500\n",
      "1/1 [==============================] - 0s 10ms/step - loss: 0.5924 - accuracy: 0.7500\n",
      "Epoch 204/500\n",
      "1/1 [==============================] - 0s 10ms/step - loss: 0.5921 - accuracy: 0.7500\n",
      "Epoch 205/500\n",
      "1/1 [==============================] - 0s 12ms/step - loss: 0.5919 - accuracy: 0.7500\n",
      "Epoch 206/500\n",
      "1/1 [==============================] - 0s 11ms/step - loss: 0.5917 - accuracy: 0.7500\n",
      "Epoch 207/500\n",
      "1/1 [==============================] - 0s 12ms/step - loss: 0.5914 - accuracy: 0.7500\n",
      "Epoch 208/500\n",
      "1/1 [==============================] - 0s 12ms/step - loss: 0.5912 - accuracy: 0.7500\n",
      "Epoch 209/500\n",
      "1/1 [==============================] - 0s 11ms/step - loss: 0.5910 - accuracy: 0.7500\n",
      "Epoch 210/500\n",
      "1/1 [==============================] - 0s 12ms/step - loss: 0.5907 - accuracy: 0.7500\n",
      "Epoch 211/500\n",
      "1/1 [==============================] - 0s 8ms/step - loss: 0.5905 - accuracy: 0.7500\n",
      "Epoch 212/500\n",
      "1/1 [==============================] - 0s 9ms/step - loss: 0.5902 - accuracy: 0.7500\n",
      "Epoch 213/500\n",
      "1/1 [==============================] - 0s 10ms/step - loss: 0.5900 - accuracy: 0.7500\n",
      "Epoch 214/500\n",
      "1/1 [==============================] - 0s 11ms/step - loss: 0.5898 - accuracy: 0.7500\n",
      "Epoch 215/500\n",
      "1/1 [==============================] - 0s 9ms/step - loss: 0.5895 - accuracy: 0.7500\n",
      "Epoch 216/500\n",
      "1/1 [==============================] - 0s 12ms/step - loss: 0.5893 - accuracy: 0.7500\n",
      "Epoch 217/500\n",
      "1/1 [==============================] - 0s 13ms/step - loss: 0.5890 - accuracy: 0.7500\n",
      "Epoch 218/500\n",
      "1/1 [==============================] - 0s 11ms/step - loss: 0.5888 - accuracy: 0.7500\n",
      "Epoch 219/500\n",
      "1/1 [==============================] - 0s 8ms/step - loss: 0.5886 - accuracy: 0.7500\n",
      "Epoch 220/500\n",
      "1/1 [==============================] - 0s 10ms/step - loss: 0.5883 - accuracy: 0.7500\n",
      "Epoch 221/500\n",
      "1/1 [==============================] - 0s 9ms/step - loss: 0.5881 - accuracy: 0.7500\n",
      "Epoch 222/500\n",
      "1/1 [==============================] - 0s 7ms/step - loss: 0.5879 - accuracy: 0.7500\n",
      "Epoch 223/500\n",
      "1/1 [==============================] - 0s 9ms/step - loss: 0.5876 - accuracy: 0.7500\n",
      "Epoch 224/500\n",
      "1/1 [==============================] - 0s 10ms/step - loss: 0.5874 - accuracy: 0.7500\n",
      "Epoch 225/500\n",
      "1/1 [==============================] - 0s 12ms/step - loss: 0.5871 - accuracy: 0.7500\n",
      "Epoch 226/500\n",
      "1/1 [==============================] - 0s 12ms/step - loss: 0.5869 - accuracy: 0.7500\n",
      "Epoch 227/500\n",
      "1/1 [==============================] - 0s 9ms/step - loss: 0.5867 - accuracy: 0.7500\n",
      "Epoch 228/500\n",
      "1/1 [==============================] - 0s 10ms/step - loss: 0.5864 - accuracy: 0.7500\n",
      "Epoch 229/500\n",
      "1/1 [==============================] - 0s 10ms/step - loss: 0.5862 - accuracy: 0.7500\n",
      "Epoch 230/500\n",
      "1/1 [==============================] - 0s 12ms/step - loss: 0.5860 - accuracy: 0.7500\n",
      "Epoch 231/500\n",
      "1/1 [==============================] - 0s 14ms/step - loss: 0.5857 - accuracy: 0.7500\n",
      "Epoch 232/500\n",
      "1/1 [==============================] - 0s 12ms/step - loss: 0.5855 - accuracy: 0.7500\n",
      "Epoch 233/500\n",
      "1/1 [==============================] - 0s 13ms/step - loss: 0.5853 - accuracy: 0.7500\n",
      "Epoch 234/500\n",
      "1/1 [==============================] - 0s 14ms/step - loss: 0.5850 - accuracy: 0.7500\n",
      "Epoch 235/500\n",
      "1/1 [==============================] - 0s 13ms/step - loss: 0.5848 - accuracy: 0.7500\n",
      "Epoch 236/500\n",
      "1/1 [==============================] - 0s 11ms/step - loss: 0.5846 - accuracy: 0.7500\n",
      "Epoch 237/500\n",
      "1/1 [==============================] - 0s 10ms/step - loss: 0.5843 - accuracy: 0.7500\n",
      "Epoch 238/500\n",
      "1/1 [==============================] - 0s 10ms/step - loss: 0.5841 - accuracy: 0.7500\n",
      "Epoch 239/500\n",
      "1/1 [==============================] - 0s 11ms/step - loss: 0.5839 - accuracy: 0.7500\n",
      "Epoch 240/500\n",
      "1/1 [==============================] - 0s 10ms/step - loss: 0.5836 - accuracy: 0.7500\n",
      "Epoch 241/500\n",
      "1/1 [==============================] - 0s 10ms/step - loss: 0.5834 - accuracy: 0.7500\n",
      "Epoch 242/500\n",
      "1/1 [==============================] - 0s 11ms/step - loss: 0.5832 - accuracy: 0.7500\n",
      "Epoch 243/500\n",
      "1/1 [==============================] - 0s 10ms/step - loss: 0.5829 - accuracy: 0.7500\n",
      "Epoch 244/500\n",
      "1/1 [==============================] - 0s 9ms/step - loss: 0.5827 - accuracy: 0.7500\n",
      "Epoch 245/500\n",
      "1/1 [==============================] - 0s 11ms/step - loss: 0.5825 - accuracy: 0.7500\n",
      "Epoch 246/500\n",
      "1/1 [==============================] - 0s 7ms/step - loss: 0.5822 - accuracy: 0.7500\n",
      "Epoch 247/500\n",
      "1/1 [==============================] - 0s 9ms/step - loss: 0.5820 - accuracy: 0.7500\n",
      "Epoch 248/500\n"
     ]
    },
    {
     "name": "stdout",
     "output_type": "stream",
     "text": [
      "1/1 [==============================] - 0s 23ms/step - loss: 0.5818 - accuracy: 0.7500\n",
      "Epoch 249/500\n",
      "1/1 [==============================] - 0s 16ms/step - loss: 0.5815 - accuracy: 0.7500\n",
      "Epoch 250/500\n",
      "1/1 [==============================] - 0s 12ms/step - loss: 0.5813 - accuracy: 0.7500\n",
      "Epoch 251/500\n",
      "1/1 [==============================] - 0s 12ms/step - loss: 0.5811 - accuracy: 0.7500\n",
      "Epoch 252/500\n",
      "1/1 [==============================] - 0s 7ms/step - loss: 0.5808 - accuracy: 0.7500\n",
      "Epoch 253/500\n",
      "1/1 [==============================] - 0s 9ms/step - loss: 0.5806 - accuracy: 0.7500\n",
      "Epoch 254/500\n",
      "1/1 [==============================] - 0s 10ms/step - loss: 0.5804 - accuracy: 0.7500\n",
      "Epoch 255/500\n",
      "1/1 [==============================] - 0s 11ms/step - loss: 0.5801 - accuracy: 0.7500\n",
      "Epoch 256/500\n",
      "1/1 [==============================] - 0s 13ms/step - loss: 0.5799 - accuracy: 0.7500\n",
      "Epoch 257/500\n",
      "1/1 [==============================] - 0s 13ms/step - loss: 0.5797 - accuracy: 0.7500\n",
      "Epoch 258/500\n",
      "1/1 [==============================] - 0s 8ms/step - loss: 0.5795 - accuracy: 0.7500\n",
      "Epoch 259/500\n",
      "1/1 [==============================] - 0s 6ms/step - loss: 0.5792 - accuracy: 0.7500\n",
      "Epoch 260/500\n",
      "1/1 [==============================] - 0s 9ms/step - loss: 0.5790 - accuracy: 0.7500\n",
      "Epoch 261/500\n",
      "1/1 [==============================] - 0s 9ms/step - loss: 0.5788 - accuracy: 0.7500\n",
      "Epoch 262/500\n",
      "1/1 [==============================] - 0s 13ms/step - loss: 0.5785 - accuracy: 0.7500\n",
      "Epoch 263/500\n",
      "1/1 [==============================] - 0s 14ms/step - loss: 0.5783 - accuracy: 0.8750\n",
      "Epoch 264/500\n",
      "1/1 [==============================] - 0s 13ms/step - loss: 0.5781 - accuracy: 0.8750\n",
      "Epoch 265/500\n",
      "1/1 [==============================] - 0s 10ms/step - loss: 0.5779 - accuracy: 0.8750\n",
      "Epoch 266/500\n",
      "1/1 [==============================] - 0s 10ms/step - loss: 0.5776 - accuracy: 0.8750\n",
      "Epoch 267/500\n",
      "1/1 [==============================] - 0s 7ms/step - loss: 0.5774 - accuracy: 0.8750\n",
      "Epoch 268/500\n",
      "1/1 [==============================] - 0s 9ms/step - loss: 0.5772 - accuracy: 0.8750\n",
      "Epoch 269/500\n",
      "1/1 [==============================] - 0s 11ms/step - loss: 0.5769 - accuracy: 0.8750\n",
      "Epoch 270/500\n",
      "1/1 [==============================] - 0s 13ms/step - loss: 0.5767 - accuracy: 0.8750\n",
      "Epoch 271/500\n",
      "1/1 [==============================] - 0s 13ms/step - loss: 0.5765 - accuracy: 0.8750\n",
      "Epoch 272/500\n",
      "1/1 [==============================] - 0s 9ms/step - loss: 0.5763 - accuracy: 0.8750\n",
      "Epoch 273/500\n",
      "1/1 [==============================] - 0s 8ms/step - loss: 0.5760 - accuracy: 0.8750\n",
      "Epoch 274/500\n",
      "1/1 [==============================] - 0s 6ms/step - loss: 0.5758 - accuracy: 0.8750\n",
      "Epoch 275/500\n",
      "1/1 [==============================] - 0s 9ms/step - loss: 0.5756 - accuracy: 0.8750\n",
      "Epoch 276/500\n",
      "1/1 [==============================] - 0s 11ms/step - loss: 0.5753 - accuracy: 0.8750\n",
      "Epoch 277/500\n",
      "1/1 [==============================] - 0s 13ms/step - loss: 0.5751 - accuracy: 0.8750\n",
      "Epoch 278/500\n",
      "1/1 [==============================] - 0s 13ms/step - loss: 0.5749 - accuracy: 0.8750\n",
      "Epoch 279/500\n",
      "1/1 [==============================] - 0s 9ms/step - loss: 0.5747 - accuracy: 0.8750\n",
      "Epoch 280/500\n",
      "1/1 [==============================] - 0s 9ms/step - loss: 0.5744 - accuracy: 0.8750\n",
      "Epoch 281/500\n",
      "1/1 [==============================] - 0s 7ms/step - loss: 0.5742 - accuracy: 0.8750\n",
      "Epoch 282/500\n",
      "1/1 [==============================] - 0s 9ms/step - loss: 0.5740 - accuracy: 0.8750\n",
      "Epoch 283/500\n",
      "1/1 [==============================] - 0s 10ms/step - loss: 0.5738 - accuracy: 0.8750\n",
      "Epoch 284/500\n",
      "1/1 [==============================] - 0s 13ms/step - loss: 0.5735 - accuracy: 0.8750\n",
      "Epoch 285/500\n",
      "1/1 [==============================] - 0s 12ms/step - loss: 0.5733 - accuracy: 0.8750\n",
      "Epoch 286/500\n",
      "1/1 [==============================] - 0s 11ms/step - loss: 0.5731 - accuracy: 0.8750\n",
      "Epoch 287/500\n",
      "1/1 [==============================] - 0s 9ms/step - loss: 0.5729 - accuracy: 0.8750\n",
      "Epoch 288/500\n",
      "1/1 [==============================] - 0s 7ms/step - loss: 0.5726 - accuracy: 0.8750\n",
      "Epoch 289/500\n",
      "1/1 [==============================] - 0s 8ms/step - loss: 0.5724 - accuracy: 0.8750\n",
      "Epoch 290/500\n",
      "1/1 [==============================] - 0s 10ms/step - loss: 0.5722 - accuracy: 0.8750\n",
      "Epoch 291/500\n",
      "1/1 [==============================] - 0s 12ms/step - loss: 0.5720 - accuracy: 0.8750\n",
      "Epoch 292/500\n",
      "1/1 [==============================] - 0s 11ms/step - loss: 0.5717 - accuracy: 0.8750\n",
      "Epoch 293/500\n",
      "1/1 [==============================] - 0s 10ms/step - loss: 0.5715 - accuracy: 0.8750\n",
      "Epoch 294/500\n",
      "1/1 [==============================] - 0s 8ms/step - loss: 0.5713 - accuracy: 0.8750\n",
      "Epoch 295/500\n",
      "1/1 [==============================] - 0s 8ms/step - loss: 0.5711 - accuracy: 0.8750\n",
      "Epoch 296/500\n",
      "1/1 [==============================] - 0s 9ms/step - loss: 0.5709 - accuracy: 0.8750\n",
      "Epoch 297/500\n",
      "1/1 [==============================] - 0s 11ms/step - loss: 0.5706 - accuracy: 0.8750\n",
      "Epoch 298/500\n",
      "1/1 [==============================] - 0s 10ms/step - loss: 0.5704 - accuracy: 0.8750\n",
      "Epoch 299/500\n",
      "1/1 [==============================] - 0s 11ms/step - loss: 0.5702 - accuracy: 0.8750\n",
      "Epoch 300/500\n",
      "1/1 [==============================] - 0s 6ms/step - loss: 0.5700 - accuracy: 0.8750\n",
      "Epoch 301/500\n",
      "1/1 [==============================] - 0s 8ms/step - loss: 0.5697 - accuracy: 0.8750\n",
      "Epoch 302/500\n",
      "1/1 [==============================] - 0s 10ms/step - loss: 0.5695 - accuracy: 0.8750\n",
      "Epoch 303/500\n",
      "1/1 [==============================] - 0s 13ms/step - loss: 0.5693 - accuracy: 0.8750\n",
      "Epoch 304/500\n",
      "1/1 [==============================] - 0s 12ms/step - loss: 0.5691 - accuracy: 0.8750\n",
      "Epoch 305/500\n",
      "1/1 [==============================] - 0s 8ms/step - loss: 0.5689 - accuracy: 0.8750\n",
      "Epoch 306/500\n",
      "1/1 [==============================] - 0s 7ms/step - loss: 0.5686 - accuracy: 0.8750\n",
      "Epoch 307/500\n",
      "1/1 [==============================] - 0s 9ms/step - loss: 0.5684 - accuracy: 0.8750\n",
      "Epoch 308/500\n",
      "1/1 [==============================] - 0s 12ms/step - loss: 0.5682 - accuracy: 0.8750\n",
      "Epoch 309/500\n",
      "1/1 [==============================] - 0s 9ms/step - loss: 0.5680 - accuracy: 0.8750\n",
      "Epoch 310/500\n",
      "1/1 [==============================] - 0s 6ms/step - loss: 0.5678 - accuracy: 0.8750\n",
      "Epoch 311/500\n",
      "1/1 [==============================] - 0s 8ms/step - loss: 0.5675 - accuracy: 0.8750\n",
      "Epoch 312/500\n",
      "1/1 [==============================] - 0s 11ms/step - loss: 0.5673 - accuracy: 0.8750\n",
      "Epoch 313/500\n",
      "1/1 [==============================] - 0s 13ms/step - loss: 0.5671 - accuracy: 0.8750\n",
      "Epoch 314/500\n",
      "1/1 [==============================] - 0s 12ms/step - loss: 0.5669 - accuracy: 0.8750\n",
      "Epoch 315/500\n",
      "1/1 [==============================] - 0s 12ms/step - loss: 0.5667 - accuracy: 0.8750\n",
      "Epoch 316/500\n",
      "1/1 [==============================] - 0s 14ms/step - loss: 0.5664 - accuracy: 0.8750\n",
      "Epoch 317/500\n",
      "1/1 [==============================] - 0s 13ms/step - loss: 0.5662 - accuracy: 0.8750\n",
      "Epoch 318/500\n",
      "1/1 [==============================] - 0s 11ms/step - loss: 0.5660 - accuracy: 0.8750\n",
      "Epoch 319/500\n",
      "1/1 [==============================] - 0s 11ms/step - loss: 0.5658 - accuracy: 0.8750\n",
      "Epoch 320/500\n",
      "1/1 [==============================] - 0s 11ms/step - loss: 0.5656 - accuracy: 0.8750\n",
      "Epoch 321/500\n",
      "1/1 [==============================] - 0s 11ms/step - loss: 0.5653 - accuracy: 0.8750\n",
      "Epoch 322/500\n",
      "1/1 [==============================] - 0s 11ms/step - loss: 0.5651 - accuracy: 0.8750\n",
      "Epoch 323/500\n",
      "1/1 [==============================] - 0s 12ms/step - loss: 0.5649 - accuracy: 0.8750\n",
      "Epoch 324/500\n",
      "1/1 [==============================] - 0s 13ms/step - loss: 0.5647 - accuracy: 0.8750\n",
      "Epoch 325/500\n",
      "1/1 [==============================] - 0s 13ms/step - loss: 0.5645 - accuracy: 0.8750\n",
      "Epoch 326/500\n",
      "1/1 [==============================] - 0s 17ms/step - loss: 0.5643 - accuracy: 0.8750\n",
      "Epoch 327/500\n",
      "1/1 [==============================] - 0s 10ms/step - loss: 0.5640 - accuracy: 0.8750\n",
      "Epoch 328/500\n",
      "1/1 [==============================] - 0s 10ms/step - loss: 0.5638 - accuracy: 0.8750\n",
      "Epoch 329/500\n",
      "1/1 [==============================] - 0s 11ms/step - loss: 0.5636 - accuracy: 0.8750\n",
      "Epoch 330/500\n"
     ]
    },
    {
     "name": "stdout",
     "output_type": "stream",
     "text": [
      "1/1 [==============================] - 0s 11ms/step - loss: 0.5634 - accuracy: 0.8750\n",
      "Epoch 331/500\n",
      "1/1 [==============================] - 0s 10ms/step - loss: 0.5632 - accuracy: 0.8750\n",
      "Epoch 332/500\n",
      "1/1 [==============================] - 0s 10ms/step - loss: 0.5629 - accuracy: 0.8750\n",
      "Epoch 333/500\n",
      "1/1 [==============================] - 0s 14ms/step - loss: 0.5627 - accuracy: 0.8750\n",
      "Epoch 334/500\n",
      "1/1 [==============================] - 0s 14ms/step - loss: 0.5625 - accuracy: 0.8750\n",
      "Epoch 335/500\n",
      "1/1 [==============================] - 0s 14ms/step - loss: 0.5623 - accuracy: 0.8750\n",
      "Epoch 336/500\n",
      "1/1 [==============================] - 0s 14ms/step - loss: 0.5621 - accuracy: 0.8750\n",
      "Epoch 337/500\n",
      "1/1 [==============================] - 0s 9ms/step - loss: 0.5619 - accuracy: 0.8750\n",
      "Epoch 338/500\n",
      "1/1 [==============================] - 0s 10ms/step - loss: 0.5617 - accuracy: 0.8750\n",
      "Epoch 339/500\n",
      "1/1 [==============================] - 0s 11ms/step - loss: 0.5614 - accuracy: 0.8750\n",
      "Epoch 340/500\n",
      "1/1 [==============================] - 0s 11ms/step - loss: 0.5612 - accuracy: 0.8750\n",
      "Epoch 341/500\n",
      "1/1 [==============================] - 0s 10ms/step - loss: 0.5610 - accuracy: 0.8750\n",
      "Epoch 342/500\n",
      "1/1 [==============================] - 0s 11ms/step - loss: 0.5608 - accuracy: 0.8750\n",
      "Epoch 343/500\n",
      "1/1 [==============================] - 0s 11ms/step - loss: 0.5606 - accuracy: 0.8750\n",
      "Epoch 344/500\n",
      "1/1 [==============================] - 0s 11ms/step - loss: 0.5604 - accuracy: 0.8750\n",
      "Epoch 345/500\n",
      "1/1 [==============================] - 0s 10ms/step - loss: 0.5602 - accuracy: 0.8750\n",
      "Epoch 346/500\n",
      "1/1 [==============================] - 0s 10ms/step - loss: 0.5599 - accuracy: 0.8750\n",
      "Epoch 347/500\n",
      "1/1 [==============================] - 0s 10ms/step - loss: 0.5597 - accuracy: 0.8750\n",
      "Epoch 348/500\n",
      "1/1 [==============================] - 0s 11ms/step - loss: 0.5595 - accuracy: 0.8750\n",
      "Epoch 349/500\n",
      "1/1 [==============================] - 0s 9ms/step - loss: 0.5593 - accuracy: 0.8750\n",
      "Epoch 350/500\n",
      "1/1 [==============================] - 0s 10ms/step - loss: 0.5591 - accuracy: 0.8750\n",
      "Epoch 351/500\n",
      "1/1 [==============================] - 0s 11ms/step - loss: 0.5589 - accuracy: 0.8750\n",
      "Epoch 352/500\n",
      "1/1 [==============================] - 0s 9ms/step - loss: 0.5587 - accuracy: 0.8750\n",
      "Epoch 353/500\n",
      "1/1 [==============================] - 0s 10ms/step - loss: 0.5584 - accuracy: 0.8750\n",
      "Epoch 354/500\n",
      "1/1 [==============================] - 0s 11ms/step - loss: 0.5582 - accuracy: 0.8750\n",
      "Epoch 355/500\n",
      "1/1 [==============================] - 0s 12ms/step - loss: 0.5580 - accuracy: 0.8750\n",
      "Epoch 356/500\n",
      "1/1 [==============================] - 0s 11ms/step - loss: 0.5578 - accuracy: 0.8750\n",
      "Epoch 357/500\n",
      "1/1 [==============================] - 0s 11ms/step - loss: 0.5576 - accuracy: 0.8750\n",
      "Epoch 358/500\n",
      "1/1 [==============================] - 0s 13ms/step - loss: 0.5574 - accuracy: 0.8750\n",
      "Epoch 359/500\n",
      "1/1 [==============================] - 0s 14ms/step - loss: 0.5572 - accuracy: 0.8750\n",
      "Epoch 360/500\n",
      "1/1 [==============================] - 0s 14ms/step - loss: 0.5570 - accuracy: 0.8750\n",
      "Epoch 361/500\n",
      "1/1 [==============================] - 0s 13ms/step - loss: 0.5568 - accuracy: 0.8750\n",
      "Epoch 362/500\n",
      "1/1 [==============================] - 0s 14ms/step - loss: 0.5565 - accuracy: 0.8750\n",
      "Epoch 363/500\n",
      "1/1 [==============================] - 0s 16ms/step - loss: 0.5563 - accuracy: 0.8750\n",
      "Epoch 364/500\n",
      "1/1 [==============================] - 0s 13ms/step - loss: 0.5561 - accuracy: 0.8750\n",
      "Epoch 365/500\n",
      "1/1 [==============================] - 0s 15ms/step - loss: 0.5559 - accuracy: 0.8750\n",
      "Epoch 366/500\n",
      "1/1 [==============================] - 0s 11ms/step - loss: 0.5557 - accuracy: 0.8750\n",
      "Epoch 367/500\n",
      "1/1 [==============================] - 0s 12ms/step - loss: 0.5555 - accuracy: 0.8750\n",
      "Epoch 368/500\n",
      "1/1 [==============================] - 0s 10ms/step - loss: 0.5553 - accuracy: 0.8750\n",
      "Epoch 369/500\n",
      "1/1 [==============================] - 0s 11ms/step - loss: 0.5551 - accuracy: 0.8750\n",
      "Epoch 370/500\n",
      "1/1 [==============================] - 0s 11ms/step - loss: 0.5549 - accuracy: 0.8750\n",
      "Epoch 371/500\n",
      "1/1 [==============================] - 0s 14ms/step - loss: 0.5546 - accuracy: 0.8750\n",
      "Epoch 372/500\n",
      "1/1 [==============================] - 0s 13ms/step - loss: 0.5544 - accuracy: 0.8750\n",
      "Epoch 373/500\n",
      "1/1 [==============================] - 0s 10ms/step - loss: 0.5542 - accuracy: 0.8750\n",
      "Epoch 374/500\n",
      "1/1 [==============================] - 0s 10ms/step - loss: 0.5540 - accuracy: 0.8750\n",
      "Epoch 375/500\n",
      "1/1 [==============================] - 0s 10ms/step - loss: 0.5538 - accuracy: 0.8750\n",
      "Epoch 376/500\n",
      "1/1 [==============================] - 0s 10ms/step - loss: 0.5536 - accuracy: 0.8750\n",
      "Epoch 377/500\n",
      "1/1 [==============================] - 0s 9ms/step - loss: 0.5534 - accuracy: 0.8750\n",
      "Epoch 378/500\n",
      "1/1 [==============================] - 0s 11ms/step - loss: 0.5532 - accuracy: 0.8750\n",
      "Epoch 379/500\n",
      "1/1 [==============================] - 0s 12ms/step - loss: 0.5530 - accuracy: 0.8750\n",
      "Epoch 380/500\n",
      "1/1 [==============================] - 0s 10ms/step - loss: 0.5528 - accuracy: 0.8750\n",
      "Epoch 381/500\n",
      "1/1 [==============================] - 0s 11ms/step - loss: 0.5526 - accuracy: 0.8750\n",
      "Epoch 382/500\n",
      "1/1 [==============================] - 0s 11ms/step - loss: 0.5524 - accuracy: 0.8750\n",
      "Epoch 383/500\n",
      "1/1 [==============================] - 0s 12ms/step - loss: 0.5521 - accuracy: 0.8750\n",
      "Epoch 384/500\n",
      "1/1 [==============================] - 0s 10ms/step - loss: 0.5519 - accuracy: 0.8750\n",
      "Epoch 385/500\n",
      "1/1 [==============================] - 0s 11ms/step - loss: 0.5517 - accuracy: 0.8750\n",
      "Epoch 386/500\n",
      "1/1 [==============================] - 0s 10ms/step - loss: 0.5515 - accuracy: 0.8750\n",
      "Epoch 387/500\n",
      "1/1 [==============================] - 0s 11ms/step - loss: 0.5513 - accuracy: 0.8750\n",
      "Epoch 388/500\n",
      "1/1 [==============================] - 0s 11ms/step - loss: 0.5511 - accuracy: 0.8750\n",
      "Epoch 389/500\n",
      "1/1 [==============================] - 0s 16ms/step - loss: 0.5509 - accuracy: 0.8750\n",
      "Epoch 390/500\n",
      "1/1 [==============================] - 0s 14ms/step - loss: 0.5507 - accuracy: 0.8750\n",
      "Epoch 391/500\n",
      "1/1 [==============================] - 0s 14ms/step - loss: 0.5505 - accuracy: 0.8750\n",
      "Epoch 392/500\n",
      "1/1 [==============================] - 0s 12ms/step - loss: 0.5503 - accuracy: 0.8750\n",
      "Epoch 393/500\n",
      "1/1 [==============================] - 0s 11ms/step - loss: 0.5501 - accuracy: 0.8750\n",
      "Epoch 394/500\n",
      "1/1 [==============================] - 0s 15ms/step - loss: 0.5499 - accuracy: 0.8750\n",
      "Epoch 395/500\n",
      "1/1 [==============================] - 0s 15ms/step - loss: 0.5497 - accuracy: 0.8750\n",
      "Epoch 396/500\n",
      "1/1 [==============================] - 0s 11ms/step - loss: 0.5495 - accuracy: 0.8750\n",
      "Epoch 397/500\n",
      "1/1 [==============================] - 0s 11ms/step - loss: 0.5493 - accuracy: 0.8750\n",
      "Epoch 398/500\n",
      "1/1 [==============================] - 0s 13ms/step - loss: 0.5491 - accuracy: 0.8750\n",
      "Epoch 399/500\n",
      "1/1 [==============================] - 0s 10ms/step - loss: 0.5489 - accuracy: 0.8750\n",
      "Epoch 400/500\n",
      "1/1 [==============================] - 0s 10ms/step - loss: 0.5487 - accuracy: 0.8750\n",
      "Epoch 401/500\n",
      "1/1 [==============================] - 0s 12ms/step - loss: 0.5484 - accuracy: 0.8750\n",
      "Epoch 402/500\n",
      "1/1 [==============================] - 0s 8ms/step - loss: 0.5482 - accuracy: 0.8750\n",
      "Epoch 403/500\n",
      "1/1 [==============================] - 0s 10ms/step - loss: 0.5480 - accuracy: 0.8750\n",
      "Epoch 404/500\n",
      "1/1 [==============================] - 0s 10ms/step - loss: 0.5478 - accuracy: 0.8750\n",
      "Epoch 405/500\n",
      "1/1 [==============================] - 0s 11ms/step - loss: 0.5476 - accuracy: 0.8750\n",
      "Epoch 406/500\n",
      "1/1 [==============================] - 0s 9ms/step - loss: 0.5474 - accuracy: 0.8750\n",
      "Epoch 407/500\n",
      "1/1 [==============================] - 0s 11ms/step - loss: 0.5472 - accuracy: 0.8750\n",
      "Epoch 408/500\n",
      "1/1 [==============================] - 0s 10ms/step - loss: 0.5470 - accuracy: 0.8750\n",
      "Epoch 409/500\n",
      "1/1 [==============================] - 0s 11ms/step - loss: 0.5468 - accuracy: 0.8750\n",
      "Epoch 410/500\n",
      "1/1 [==============================] - 0s 12ms/step - loss: 0.5466 - accuracy: 0.8750\n",
      "Epoch 411/500\n",
      "1/1 [==============================] - 0s 12ms/step - loss: 0.5464 - accuracy: 0.8750\n",
      "Epoch 412/500\n"
     ]
    },
    {
     "name": "stdout",
     "output_type": "stream",
     "text": [
      "1/1 [==============================] - 0s 9ms/step - loss: 0.5462 - accuracy: 0.8750\n",
      "Epoch 413/500\n",
      "1/1 [==============================] - 0s 11ms/step - loss: 0.5460 - accuracy: 0.8750\n",
      "Epoch 414/500\n",
      "1/1 [==============================] - 0s 10ms/step - loss: 0.5458 - accuracy: 0.8750\n",
      "Epoch 415/500\n",
      "1/1 [==============================] - 0s 11ms/step - loss: 0.5456 - accuracy: 0.8750\n",
      "Epoch 416/500\n",
      "1/1 [==============================] - 0s 11ms/step - loss: 0.5454 - accuracy: 0.8750\n",
      "Epoch 417/500\n",
      "1/1 [==============================] - 0s 11ms/step - loss: 0.5452 - accuracy: 0.8750\n",
      "Epoch 418/500\n",
      "1/1 [==============================] - 0s 12ms/step - loss: 0.5450 - accuracy: 0.8750\n",
      "Epoch 419/500\n",
      "1/1 [==============================] - 0s 11ms/step - loss: 0.5448 - accuracy: 0.8750\n",
      "Epoch 420/500\n",
      "1/1 [==============================] - 0s 11ms/step - loss: 0.5446 - accuracy: 0.8750\n",
      "Epoch 421/500\n",
      "1/1 [==============================] - 0s 11ms/step - loss: 0.5444 - accuracy: 0.8750\n",
      "Epoch 422/500\n",
      "1/1 [==============================] - 0s 10ms/step - loss: 0.5442 - accuracy: 0.8750\n",
      "Epoch 423/500\n",
      "1/1 [==============================] - 0s 9ms/step - loss: 0.5440 - accuracy: 0.8750\n",
      "Epoch 424/500\n",
      "1/1 [==============================] - 0s 12ms/step - loss: 0.5438 - accuracy: 0.8750\n",
      "Epoch 425/500\n",
      "1/1 [==============================] - 0s 10ms/step - loss: 0.5436 - accuracy: 0.8750\n",
      "Epoch 426/500\n",
      "1/1 [==============================] - 0s 12ms/step - loss: 0.5434 - accuracy: 0.8750\n",
      "Epoch 427/500\n",
      "1/1 [==============================] - 0s 11ms/step - loss: 0.5432 - accuracy: 0.8750\n",
      "Epoch 428/500\n",
      "1/1 [==============================] - 0s 13ms/step - loss: 0.5430 - accuracy: 0.8750\n",
      "Epoch 429/500\n",
      "1/1 [==============================] - 0s 13ms/step - loss: 0.5428 - accuracy: 0.8750\n",
      "Epoch 430/500\n",
      "1/1 [==============================] - 0s 13ms/step - loss: 0.5426 - accuracy: 0.8750\n",
      "Epoch 431/500\n",
      "1/1 [==============================] - 0s 14ms/step - loss: 0.5424 - accuracy: 0.8750\n",
      "Epoch 432/500\n",
      "1/1 [==============================] - 0s 12ms/step - loss: 0.5422 - accuracy: 0.8750\n",
      "Epoch 433/500\n",
      "1/1 [==============================] - 0s 12ms/step - loss: 0.5420 - accuracy: 0.8750\n",
      "Epoch 434/500\n",
      "1/1 [==============================] - 0s 9ms/step - loss: 0.5418 - accuracy: 0.8750\n",
      "Epoch 435/500\n",
      "1/1 [==============================] - 0s 8ms/step - loss: 0.5416 - accuracy: 0.8750\n",
      "Epoch 436/500\n",
      "1/1 [==============================] - 0s 9ms/step - loss: 0.5414 - accuracy: 0.8750\n",
      "Epoch 437/500\n",
      "1/1 [==============================] - 0s 9ms/step - loss: 0.5412 - accuracy: 0.8750\n",
      "Epoch 438/500\n",
      "1/1 [==============================] - 0s 10ms/step - loss: 0.5410 - accuracy: 0.8750\n",
      "Epoch 439/500\n",
      "1/1 [==============================] - 0s 11ms/step - loss: 0.5408 - accuracy: 0.8750\n",
      "Epoch 440/500\n",
      "1/1 [==============================] - 0s 12ms/step - loss: 0.5406 - accuracy: 0.8750\n",
      "Epoch 441/500\n",
      "1/1 [==============================] - 0s 10ms/step - loss: 0.5404 - accuracy: 0.8750\n",
      "Epoch 442/500\n",
      "1/1 [==============================] - 0s 9ms/step - loss: 0.5402 - accuracy: 0.8750\n",
      "Epoch 443/500\n",
      "1/1 [==============================] - 0s 8ms/step - loss: 0.5400 - accuracy: 0.8750\n",
      "Epoch 444/500\n",
      "1/1 [==============================] - 0s 8ms/step - loss: 0.5398 - accuracy: 0.8750\n",
      "Epoch 445/500\n",
      "1/1 [==============================] - 0s 9ms/step - loss: 0.5396 - accuracy: 0.8750\n",
      "Epoch 446/500\n",
      "1/1 [==============================] - 0s 11ms/step - loss: 0.5394 - accuracy: 0.8750\n",
      "Epoch 447/500\n",
      "1/1 [==============================] - 0s 12ms/step - loss: 0.5392 - accuracy: 0.8750\n",
      "Epoch 448/500\n",
      "1/1 [==============================] - 0s 12ms/step - loss: 0.5390 - accuracy: 0.8750\n",
      "Epoch 449/500\n",
      "1/1 [==============================] - 0s 9ms/step - loss: 0.5388 - accuracy: 0.8750\n",
      "Epoch 450/500\n",
      "1/1 [==============================] - 0s 8ms/step - loss: 0.5387 - accuracy: 0.8750\n",
      "Epoch 451/500\n",
      "1/1 [==============================] - 0s 8ms/step - loss: 0.5385 - accuracy: 0.8750\n",
      "Epoch 452/500\n",
      "1/1 [==============================] - 0s 9ms/step - loss: 0.5383 - accuracy: 0.8750\n",
      "Epoch 453/500\n",
      "1/1 [==============================] - 0s 13ms/step - loss: 0.5381 - accuracy: 0.8750\n",
      "Epoch 454/500\n",
      "1/1 [==============================] - 0s 11ms/step - loss: 0.5379 - accuracy: 0.8750\n",
      "Epoch 455/500\n",
      "1/1 [==============================] - 0s 10ms/step - loss: 0.5377 - accuracy: 0.8750\n",
      "Epoch 456/500\n",
      "1/1 [==============================] - 0s 9ms/step - loss: 0.5375 - accuracy: 0.8750\n",
      "Epoch 457/500\n",
      "1/1 [==============================] - 0s 7ms/step - loss: 0.5373 - accuracy: 0.8750\n",
      "Epoch 458/500\n",
      "1/1 [==============================] - 0s 9ms/step - loss: 0.5371 - accuracy: 0.8750\n",
      "Epoch 459/500\n",
      "1/1 [==============================] - 0s 11ms/step - loss: 0.5369 - accuracy: 0.8750\n",
      "Epoch 460/500\n",
      "1/1 [==============================] - 0s 12ms/step - loss: 0.5367 - accuracy: 0.8750\n",
      "Epoch 461/500\n",
      "1/1 [==============================] - 0s 16ms/step - loss: 0.5365 - accuracy: 0.8750\n",
      "Epoch 462/500\n",
      "1/1 [==============================] - 0s 17ms/step - loss: 0.5363 - accuracy: 0.8750\n",
      "Epoch 463/500\n",
      "1/1 [==============================] - 0s 11ms/step - loss: 0.5361 - accuracy: 0.8750\n",
      "Epoch 464/500\n",
      "1/1 [==============================] - 0s 9ms/step - loss: 0.5359 - accuracy: 0.8750\n",
      "Epoch 465/500\n",
      "1/1 [==============================] - 0s 11ms/step - loss: 0.5357 - accuracy: 0.8750\n",
      "Epoch 466/500\n",
      "1/1 [==============================] - 0s 7ms/step - loss: 0.5355 - accuracy: 0.8750\n",
      "Epoch 467/500\n",
      "1/1 [==============================] - 0s 6ms/step - loss: 0.5353 - accuracy: 0.8750\n",
      "Epoch 468/500\n",
      "1/1 [==============================] - 0s 10ms/step - loss: 0.5352 - accuracy: 0.8750\n",
      "Epoch 469/500\n",
      "1/1 [==============================] - 0s 12ms/step - loss: 0.5350 - accuracy: 0.8750\n",
      "Epoch 470/500\n",
      "1/1 [==============================] - 0s 9ms/step - loss: 0.5348 - accuracy: 0.8750\n",
      "Epoch 471/500\n",
      "1/1 [==============================] - 0s 7ms/step - loss: 0.5346 - accuracy: 0.8750\n",
      "Epoch 472/500\n",
      "1/1 [==============================] - 0s 10ms/step - loss: 0.5344 - accuracy: 0.8750\n",
      "Epoch 473/500\n",
      "1/1 [==============================] - 0s 11ms/step - loss: 0.5342 - accuracy: 0.8750\n",
      "Epoch 474/500\n",
      "1/1 [==============================] - 0s 9ms/step - loss: 0.5340 - accuracy: 0.8750\n",
      "Epoch 475/500\n",
      "1/1 [==============================] - 0s 8ms/step - loss: 0.5338 - accuracy: 0.8750\n",
      "Epoch 476/500\n",
      "1/1 [==============================] - 0s 9ms/step - loss: 0.5336 - accuracy: 0.8750\n",
      "Epoch 477/500\n",
      "1/1 [==============================] - 0s 9ms/step - loss: 0.5334 - accuracy: 0.8750\n",
      "Epoch 478/500\n",
      "1/1 [==============================] - 0s 11ms/step - loss: 0.5332 - accuracy: 0.8750\n",
      "Epoch 479/500\n",
      "1/1 [==============================] - 0s 12ms/step - loss: 0.5330 - accuracy: 0.8750\n",
      "Epoch 480/500\n",
      "1/1 [==============================] - 0s 9ms/step - loss: 0.5329 - accuracy: 0.8750\n",
      "Epoch 481/500\n",
      "1/1 [==============================] - 0s 6ms/step - loss: 0.5327 - accuracy: 0.8750\n",
      "Epoch 482/500\n",
      "1/1 [==============================] - 0s 9ms/step - loss: 0.5325 - accuracy: 0.8750\n",
      "Epoch 483/500\n",
      "1/1 [==============================] - 0s 13ms/step - loss: 0.5323 - accuracy: 0.8750\n",
      "Epoch 484/500\n",
      "1/1 [==============================] - 0s 12ms/step - loss: 0.5321 - accuracy: 0.8750\n",
      "Epoch 485/500\n",
      "1/1 [==============================] - 0s 9ms/step - loss: 0.5319 - accuracy: 0.8750\n",
      "Epoch 486/500\n",
      "1/1 [==============================] - 0s 7ms/step - loss: 0.5317 - accuracy: 0.8750\n",
      "Epoch 487/500\n",
      "1/1 [==============================] - 0s 8ms/step - loss: 0.5315 - accuracy: 0.8750\n",
      "Epoch 488/500\n",
      "1/1 [==============================] - 0s 10ms/step - loss: 0.5313 - accuracy: 0.8750\n",
      "Epoch 489/500\n",
      "1/1 [==============================] - 0s 8ms/step - loss: 0.5311 - accuracy: 0.8750\n",
      "Epoch 490/500\n",
      "1/1 [==============================] - 0s 6ms/step - loss: 0.5310 - accuracy: 0.8750\n",
      "Epoch 491/500\n",
      "1/1 [==============================] - 0s 9ms/step - loss: 0.5308 - accuracy: 0.8750\n",
      "Epoch 492/500\n",
      "1/1 [==============================] - 0s 15ms/step - loss: 0.5306 - accuracy: 0.8750\n",
      "Epoch 493/500\n",
      "1/1 [==============================] - 0s 17ms/step - loss: 0.5304 - accuracy: 0.8750\n",
      "Epoch 494/500\n"
     ]
    },
    {
     "name": "stdout",
     "output_type": "stream",
     "text": [
      "1/1 [==============================] - 0s 14ms/step - loss: 0.5302 - accuracy: 0.8750\n",
      "Epoch 495/500\n",
      "1/1 [==============================] - 0s 19ms/step - loss: 0.5300 - accuracy: 0.8750\n",
      "Epoch 496/500\n",
      "1/1 [==============================] - 0s 15ms/step - loss: 0.5298 - accuracy: 0.8750\n",
      "Epoch 497/500\n",
      "1/1 [==============================] - 0s 14ms/step - loss: 0.5296 - accuracy: 0.8750\n",
      "Epoch 498/500\n",
      "1/1 [==============================] - 0s 12ms/step - loss: 0.5294 - accuracy: 0.8750\n",
      "Epoch 499/500\n",
      "1/1 [==============================] - 0s 6ms/step - loss: 0.5293 - accuracy: 0.8750\n",
      "Epoch 500/500\n",
      "1/1 [==============================] - 0s 7ms/step - loss: 0.5291 - accuracy: 0.8750\n"
     ]
    },
    {
     "data": {
      "text/plain": [
       "<keras.src.callbacks.History at 0x20e1fc38970>"
      ]
     },
     "execution_count": 54,
     "metadata": {},
     "output_type": "execute_result"
    }
   ],
   "source": [
    "#model fitting \n",
    "\n",
    "model.fit(x_train_scaled,y_train ,epochs=500)"
   ]
  },
  {
   "cell_type": "code",
   "execution_count": 55,
   "id": "92faa19f",
   "metadata": {
    "scrolled": true
   },
   "outputs": [
    {
     "name": "stdout",
     "output_type": "stream",
     "text": [
      "1/1 [==============================] - 0s 166ms/step - loss: 0.4499 - accuracy: 1.0000\n"
     ]
    },
    {
     "data": {
      "text/plain": [
       "[0.44991782307624817, 1.0]"
      ]
     },
     "execution_count": 55,
     "metadata": {},
     "output_type": "execute_result"
    }
   ],
   "source": [
    "model.evaluate(x_test_scaled,y_test)"
   ]
  },
  {
   "cell_type": "code",
   "execution_count": 56,
   "id": "4af4ced1",
   "metadata": {
    "scrolled": true
   },
   "outputs": [
    {
     "data": {
      "text/html": [
       "<div>\n",
       "<style scoped>\n",
       "    .dataframe tbody tr th:only-of-type {\n",
       "        vertical-align: middle;\n",
       "    }\n",
       "\n",
       "    .dataframe tbody tr th {\n",
       "        vertical-align: top;\n",
       "    }\n",
       "\n",
       "    .dataframe thead th {\n",
       "        text-align: right;\n",
       "    }\n",
       "</style>\n",
       "<table border=\"1\" class=\"dataframe\">\n",
       "  <thead>\n",
       "    <tr style=\"text-align: right;\">\n",
       "      <th></th>\n",
       "      <th>age</th>\n",
       "      <th>affodability</th>\n",
       "    </tr>\n",
       "  </thead>\n",
       "  <tbody>\n",
       "    <tr>\n",
       "      <th>2</th>\n",
       "      <td>0.45</td>\n",
       "      <td>1</td>\n",
       "    </tr>\n",
       "    <tr>\n",
       "      <th>8</th>\n",
       "      <td>0.70</td>\n",
       "      <td>0</td>\n",
       "    </tr>\n",
       "  </tbody>\n",
       "</table>\n",
       "</div>"
      ],
      "text/plain": [
       "    age  affodability\n",
       "2  0.45             1\n",
       "8  0.70             0"
      ]
     },
     "execution_count": 56,
     "metadata": {},
     "output_type": "execute_result"
    }
   ],
   "source": [
    "x_test_scaled"
   ]
  },
  {
   "cell_type": "code",
   "execution_count": 58,
   "id": "17ae7fd8",
   "metadata": {
    "scrolled": true
   },
   "outputs": [
    {
     "name": "stdout",
     "output_type": "stream",
     "text": [
      "1/1 [==============================] - 0s 27ms/step\n"
     ]
    },
    {
     "data": {
      "text/plain": [
       "array([[0.78084576],\n",
       "       [0.47923586]], dtype=float32)"
      ]
     },
     "execution_count": 58,
     "metadata": {},
     "output_type": "execute_result"
    }
   ],
   "source": [
    "model.predict(x_test_scaled)   #here what is the assemtion means anything which more than .5 it is true means 1 - user taking the insurance \n",
    "                               #and the value below the .5 which the value 0 no one taking the loan "
   ]
  },
  {
   "cell_type": "code",
   "execution_count": 61,
   "id": "bb128aa1",
   "metadata": {},
   "outputs": [
    {
     "data": {
      "text/plain": [
       "(array([[0.5361944],\n",
       "        [1.487755 ]], dtype=float32),\n",
       " array([-0.45844048], dtype=float32))"
      ]
     },
     "execution_count": 61,
     "metadata": {},
     "output_type": "execute_result"
    }
   ],
   "source": [
    "#findig the wait and bias after the training \n",
    "\n",
    "coef,intercept = model.get_weights()\n",
    "coef,intercept\n",
    " "
   ]
  },
  {
   "cell_type": "markdown",
   "id": "b2be489b",
   "metadata": {},
   "source": [
    "creating a nueral network without using tensor flow "
   ]
  },
  {
   "cell_type": "code",
   "execution_count": 63,
   "id": "707a75ae",
   "metadata": {},
   "outputs": [
    {
     "data": {
      "text/plain": [
       "4.5397868702434395e-05"
      ]
     },
     "execution_count": 63,
     "metadata": {},
     "output_type": "execute_result"
    }
   ],
   "source": [
    "#creating a sigmoid function means the activation function \n",
    "\n",
    "def math(x):\n",
    "    import math\n",
    "    sigmoid=1/(1+math.exp(-x))\n",
    "    return sigmoid\n",
    "\n"
   ]
  },
  {
   "cell_type": "code",
   "execution_count": 68,
   "id": "a82261a9",
   "metadata": {},
   "outputs": [
    {
     "data": {
      "text/plain": [
       "0.7808457808869703"
      ]
     },
     "execution_count": 68,
     "metadata": {},
     "output_type": "execute_result"
    }
   ],
   "source": [
    "#created a nueral network \n",
    "\n",
    "def prediction_func(age,affordable):\n",
    "    weighted_sum=coef[0]*age+coef[1]*affordable +intercept\n",
    "    return math(weighted_sum)\n",
    "    \n",
    "\n",
    "    \n",
    "prediction_func(.45,1)"
   ]
  },
  {
   "cell_type": "markdown",
   "id": "64a54170",
   "metadata": {},
   "source": [
    "#creating a gradient decent function from scratch\n",
    "\n",
    "it is little bit difficult to understand it is in the gradient decent class of codebasics\n"
   ]
  },
  {
   "cell_type": "code",
   "execution_count": 101,
   "id": "0574e16b",
   "metadata": {},
   "outputs": [],
   "source": [
    "#log loss\n",
    "def log_loss(y_true,y_predicted):\n",
    "    epsilon=1e-15 \n",
    "    y_predicted_new =[max(i,epsilon)  for i in y_predicted]\n",
    "    y_predicted_new=[min(i,epsilon)  for i in y_predicted_new]\n",
    "    y_predicted_new=np.array(y_predicted_new)\n",
    "    return -np.mean(y_true*np.log(y_predicted_new)+(1-y_true)*np.log(1-y_predicted_new))\n"
   ]
  },
  {
   "cell_type": "code",
   "execution_count": 93,
   "id": "a81c610c",
   "metadata": {},
   "outputs": [],
   "source": [
    "def sigmoid_numpy(wighted_sum):\n",
    "    return 1/(1+np.exp(-wighted_sum))"
   ]
  },
  {
   "cell_type": "code",
   "execution_count": 94,
   "id": "1837b8ed",
   "metadata": {},
   "outputs": [],
   "source": [
    "# creating gradient decent  \n",
    "\n",
    "def gradient_decent(age,affordable,y_true,epochs,loss_threshold):\n",
    "    w1=w2=1\n",
    "    bias=0\n",
    "    rate=0.5\n",
    "    n=len(age)\n",
    "    for i in range(epochs):\n",
    "        wighted_sum=w1*age +w2*affordable+bias\n",
    "        y_predicted=sigmoid_numpy(wighted_sum)\n",
    "        loss=log_loss(y_true,y_predicted)\n",
    "        \n",
    "        \n",
    "        w1d=(1/n)*np.dot(np.transpose(age),(y_predicted- y_true))\n",
    "        w2d=(1/n)*np.dot(np.transpose(affordable),(y_predicted - y_true))\n",
    "        \n",
    "        \n",
    "        bias_d=np.mean(y_predicted - y_true)\n",
    "        w1=w1-rate *w1d\n",
    "        w2=w2-rate*w2d\n",
    "        \n",
    "        bias=bias -rate*bias_d\n",
    "        \n",
    "        \n",
    "        print(f\"Epoch{i}, w1{w1}, w2{w2} , bias{bias}, loss{loss}\")\n",
    "        if loss<=loss_threshold:\n",
    "            break\n",
    "    return w1,w2,bias"
   ]
  },
  {
   "cell_type": "code",
   "execution_count": 102,
   "id": "80ff3466",
   "metadata": {},
   "outputs": [],
   "source": [
    "# nueral network \n",
    "\n",
    "class myNN:\n",
    "    def __init__(self):\n",
    "        self.w1=1\n",
    "        self.w2=1\n",
    "        self.bias=0\n",
    "    \n",
    "    def fit(self,x,y,epochs,loss_threshold):\n",
    "        self.w1,self.w2,self.bias=self.gradient_decent(x['age'],x['affodability'],y,epochs,loss_threshold)\n",
    "    \n",
    "    \n",
    "    def gradient_decent(self,age,affodability,y_true,epochs,loss_threshold):\n",
    "        w1=w2=1\n",
    "        bias=0\n",
    "        rate=0.5\n",
    "        n=len(age)\n",
    "        for i in range(epochs):\n",
    "            wighted_sum=w1*age +w2*affodability+bias\n",
    "            y_predicted=sigmoid_numpy(wighted_sum)\n",
    "            loss=log_loss(y_true,y_predicted)\n",
    "        \n",
    "        \n",
    "            w1d=(1/n)*np.dot(np.transpose(age),(y_predicted- y_true))\n",
    "            w2d=(1/n)*np.dot(np.transpose(affodability),(y_predicted - y_true))\n",
    "        \n",
    "        \n",
    "            bias_d=np.mean(y_predicted - y_true)\n",
    "            w1=w1-rate *w1d\n",
    "            w2=w2-rate*w2d\n",
    "        \n",
    "            bias=bias -rate*bias_d\n",
    "        \n",
    "        \n",
    "            print(f\"Epoch{i}, w1{w1}, w2{w2} , bias{bias}, loss{loss}\")\n",
    "            if loss<=loss_threshold:\n",
    "                break\n",
    "        return w1,w2,bias\n",
    "    \n",
    "    "
   ]
  },
  {
   "cell_type": "code",
   "execution_count": 104,
   "id": "273d2315",
   "metadata": {
    "scrolled": true
   },
   "outputs": [
    {
     "name": "stdout",
     "output_type": "stream",
     "text": [
      "Epoch0, w10.9594491748631638, w20.9950777733061779 , bias-0.11078388085304755, loss17.269388197455342\n",
      "Epoch1, w10.9235928790088067, w20.9967718406506363 , bias-0.20932576059434896, loss17.269388197455342\n",
      "Epoch2, w10.8919904539947049, w21.0044766728085357 , bias-0.29681394024939783, loss17.269388197455342\n",
      "Epoch3, w10.864155100445349, w21.0174843128979547 , bias-0.374516605512844, loss17.269388197455342\n",
      "Epoch4, w10.8395933930035357, w21.0350527205508453 , bias-0.443690735197294, loss17.269388197455342\n"
     ]
    }
   ],
   "source": [
    "custom_model=myNN()\n",
    "custom_model.fit(x_train_scaled,y_train,epochs=5,loss_threshold=0.4631)"
   ]
  },
  {
   "cell_type": "markdown",
   "id": "fb9e1ec9",
   "metadata": {},
   "source": [
    " in the above this is more to study "
   ]
  },
  {
   "cell_type": "markdown",
   "id": "460869a2",
   "metadata": {},
   "source": [
    "# some gradient decents "
   ]
  },
  {
   "cell_type": "markdown",
   "id": "226df109",
   "metadata": {},
   "source": [
    "stochastic gradinet decent "
   ]
  },
  {
   "cell_type": "code",
   "execution_count": null,
   "id": "8abac6db",
   "metadata": {},
   "outputs": [],
   "source": [
    "import numpy as np\n",
    "import random\n",
    "\n",
    "def stochastic_gradient_descent(X, y_true, epochs, learning_rate=0.01):\n",
    "    number_of_features = X.shape[1]\n",
    "    \n",
    "    # Initialize weights and bias\n",
    "    w = np.ones(shape=(number_of_features))\n",
    "    b = 0\n",
    "    total_samples = X.shape[0]\n",
    "    \n",
    "    # Lists to store the cost and epoch values\n",
    "    cost_list = []\n",
    "    epoch_list = []\n",
    "    \n",
    "    for i in range(epochs):\n",
    "        # Randomly select a sample for stochastic gradient descent\n",
    "        random_index = random.randint(0, total_samples - 1)\n",
    "        sample_x = X[random_index]\n",
    "        sample_y = y_true[random_index]\n",
    "        \n",
    "        # Prediction for the selected sample\n",
    "        y_predicted = np.dot(w, sample_x.T) + b\n",
    "        \n",
    "        # Calculate gradients\n",
    "        w_grad = (-2 / total_samples) * (sample_x.T.dot(sample_y - y_predicted))\n",
    "        b_grad = (-2 / total_samples) * (sample_y - y_predicted)\n",
    "        \n",
    "        # Update weights and bias\n",
    "        w = w - learning_rate * w_grad\n",
    "        b = b - learning_rate * b_grad\n",
    "        \n",
    "        # Calculate cost for the selected sample\n",
    "        cost = np.square(sample_y - y_predicted)\n",
    "        \n",
    "        # Record cost and epoch at every 100th iteration\n",
    "        if i % 100 == 0:\n",
    "            cost_list.append(cost)\n",
    "            epoch_list.append(i)\n",
    "    \n",
    "    return w, b, cost_list, epoch_list\n"
   ]
  },
  {
   "cell_type": "markdown",
   "id": "5e029dcd",
   "metadata": {},
   "source": [
    "mini batch gradient decent "
   ]
  },
  {
   "cell_type": "code",
   "execution_count": null,
   "id": "e33b4ef8",
   "metadata": {},
   "outputs": [],
   "source": [
    "import numpy as np\n",
    "import random\n",
    "\n",
    "def mini_batch_gradient_descent(X, y_true, epochs, batch_size=32, learning_rate=0.01):\n",
    "    number_of_features = X.shape[1]\n",
    "    \n",
    "    # Initialize weights and bias\n",
    "    w = np.ones(shape=(number_of_features))\n",
    "    b = 0\n",
    "    total_samples = X.shape[0]\n",
    "    \n",
    "    # Lists to store the cost and epoch values\n",
    "    cost_list = []\n",
    "    epoch_list = []\n",
    "    \n",
    "    for i in range(epochs):\n",
    "        # Randomly shuffle the data at the beginning of each epoch\n",
    "        indices = np.random.permutation(total_samples)\n",
    "        X_shuffled = X[indices]\n",
    "        y_shuffled = y_true[indices]\n",
    "        \n",
    "        # Process each mini-batch\n",
    "        for j in range(0, total_samples, batch_size):\n",
    "            # Get the mini-batch\n",
    "            X_batch = X_shuffled[j:j + batch_size]\n",
    "            y_batch = y_shuffled[j:j + batch_size]\n",
    "            \n",
    "            # Make predictions\n",
    "            y_predicted = np.dot(X_batch, w) + b\n",
    "            \n",
    "            # Calculate gradients for mini-batch\n",
    "            w_grad = (-2 / batch_size) * np.dot(X_batch.T, (y_batch - y_predicted))\n",
    "            b_grad = (-2 / batch_size) * np.sum(y_batch - y_predicted)\n",
    "            \n",
    "            # Update weights and bias\n",
    "            w = w - learning_rate * w_grad\n",
    "            b = b - learning_rate * b_grad\n",
    "            \n",
    "            # Calculate cost for the mini-batch\n",
    "            cost = np.mean(np.square(y_batch - y_predicted))\n",
    "        \n",
    "        # Record cost and epoch at every 100th iteration\n",
    "        if i % 100 == 0:\n",
    "            cost_list.append(cost)\n",
    "            epoch_list.append(i)\n",
    "            print(f\"Epoch {i}: Cost {cost}\")\n",
    "    \n",
    "    return w, b, cost_list, epoch_list\n"
   ]
  },
  {
   "cell_type": "markdown",
   "id": "9bbb0b4e",
   "metadata": {},
   "source": [
    "# ANN\n"
   ]
  },
  {
   "cell_type": "code",
   "execution_count": 113,
   "id": "a23ce653",
   "metadata": {},
   "outputs": [],
   "source": [
    "import tensorflow as tf\n",
    "from tensorflow import keras \n",
    "import matplotlib.pyplot as plt \n",
    "import numpy as np\n",
    "\n"
   ]
  },
  {
   "cell_type": "code",
   "execution_count": 114,
   "id": "ee64a6b2",
   "metadata": {},
   "outputs": [
    {
     "data": {
      "text/plain": [
       "[PhysicalDevice(name='/physical_device:CPU:0', device_type='CPU')]"
      ]
     },
     "execution_count": 114,
     "metadata": {},
     "output_type": "execute_result"
    }
   ],
   "source": [
    "tf.config.experimental.list_physical_devices()"
   ]
  },
  {
   "cell_type": "code",
   "execution_count": 115,
   "id": "886531ad",
   "metadata": {},
   "outputs": [
    {
     "data": {
      "text/plain": [
       "False"
      ]
     },
     "execution_count": 115,
     "metadata": {},
     "output_type": "execute_result"
    }
   ],
   "source": [
    "tf.test.is_built_with_cuda()"
   ]
  },
  {
   "cell_type": "code",
   "execution_count": 120,
   "id": "033141a7",
   "metadata": {},
   "outputs": [
    {
     "name": "stdout",
     "output_type": "stream",
     "text": [
      "Num GPUs Available:  0\n"
     ]
    }
   ],
   "source": [
    "import tensorflow as tf\n",
    "print(\"Num GPUs Available: \", len(tf.config.experimental.list_physical_devices('GPU')))\n"
   ]
  },
  {
   "cell_type": "code",
   "execution_count": 121,
   "id": "f2638548",
   "metadata": {},
   "outputs": [
    {
     "name": "stdout",
     "output_type": "stream",
     "text": [
      "Downloading data from https://www.cs.toronto.edu/~kriz/cifar-10-python.tar.gz\n",
      "170498071/170498071 [==============================] - 136s 1us/step\n"
     ]
    }
   ],
   "source": [
    "(x_train,y_train),(x_test,y_test)=tf.keras.datasets.cifar10.load_data()"
   ]
  },
  {
   "cell_type": "code",
   "execution_count": 123,
   "id": "50c025e2",
   "metadata": {},
   "outputs": [
    {
     "data": {
      "text/plain": [
       "(50000, 32, 32, 3)"
      ]
     },
     "execution_count": 123,
     "metadata": {},
     "output_type": "execute_result"
    }
   ],
   "source": [
    "x_train.shape"
   ]
  },
  {
   "cell_type": "code",
   "execution_count": 125,
   "id": "17736ac8",
   "metadata": {},
   "outputs": [],
   "source": [
    "x_train_scaled=x_train/255\n",
    "x_test_scaled= x_test/255            #scaling "
   ]
  },
  {
   "cell_type": "code",
   "execution_count": 127,
   "id": "f82032a2",
   "metadata": {},
   "outputs": [
    {
     "data": {
      "text/plain": [
       "(50000, 32, 32, 3)"
      ]
     },
     "execution_count": 127,
     "metadata": {},
     "output_type": "execute_result"
    }
   ],
   "source": [
    "x_train_scaled.shape"
   ]
  },
  {
   "cell_type": "code",
   "execution_count": 130,
   "id": "7a42b9e5",
   "metadata": {},
   "outputs": [
    {
     "data": {
      "text/plain": [
       "array([[0., 0., 0., 0., 0., 0., 1., 0., 0., 0.],\n",
       "       [0., 0., 0., 0., 0., 0., 0., 0., 0., 1.],\n",
       "       [0., 0., 0., 0., 0., 0., 0., 0., 0., 1.],\n",
       "       [0., 0., 0., 0., 1., 0., 0., 0., 0., 0.],\n",
       "       [0., 1., 0., 0., 0., 0., 0., 0., 0., 0.]], dtype=float32)"
      ]
     },
     "execution_count": 130,
     "metadata": {},
     "output_type": "execute_result"
    }
   ],
   "source": [
    "#converting into categorical variable \n",
    "#one hot encoding \n",
    "\n",
    "y_train_categorical = keras.utils.to_categorical(\n",
    "   y_train, num_classes=10, dtype=\"float32\"    \n",
    ")\n",
    "y_train_categorical[:5]"
   ]
  },
  {
   "cell_type": "code",
   "execution_count": 131,
   "id": "fca63398",
   "metadata": {
    "scrolled": true
   },
   "outputs": [
    {
     "data": {
      "text/plain": [
       "array([[0., 0., 0., 1., 0., 0., 0., 0., 0., 0.],\n",
       "       [0., 0., 0., 0., 0., 0., 0., 0., 1., 0.],\n",
       "       [0., 0., 0., 0., 0., 0., 0., 0., 1., 0.],\n",
       "       [1., 0., 0., 0., 0., 0., 0., 0., 0., 0.],\n",
       "       [0., 0., 0., 0., 0., 0., 1., 0., 0., 0.]], dtype=float32)"
      ]
     },
     "execution_count": 131,
     "metadata": {},
     "output_type": "execute_result"
    }
   ],
   "source": [
    "y_test_categorical = keras.utils.to_categorical(\n",
    "   y_test, num_classes=10, dtype=\"float32\"    \n",
    ")\n",
    "y_test_categorical[:5]"
   ]
  },
  {
   "cell_type": "code",
   "execution_count": 132,
   "id": "1a51d89a",
   "metadata": {},
   "outputs": [],
   "source": [
    "#model building \n",
    "\n",
    "model = keras.Sequential([\n",
    "    keras.layers.Flatten(input_shape=(32,32,3)),\n",
    "    keras.layers.Dense(3000,activation='relu'),\n",
    "     keras.layers.Dense(1000,activation='relu'),\n",
    "    keras.layers.Dense(10,activation='sigmoid')\n",
    "])"
   ]
  },
  {
   "cell_type": "code",
   "execution_count": null,
   "id": "cbfbfa5a",
   "metadata": {},
   "outputs": [],
   "source": [
    "model.compile(optimizer='SGD',\n",
    "             loss='categorical_crossentropy',\n",
    "             metrics=['accuracy'])\n",
    "\n",
    "model.fit(x_train_scaled,y_train_categorical,epochs=10)"
   ]
  },
  {
   "cell_type": "code",
   "execution_count": null,
   "id": "a6a2159c",
   "metadata": {},
   "outputs": [],
   "source": []
  }
 ],
 "metadata": {
  "kernelspec": {
   "display_name": "Python 3 (ipykernel)",
   "language": "python",
   "name": "python3"
  },
  "language_info": {
   "codemirror_mode": {
    "name": "ipython",
    "version": 3
   },
   "file_extension": ".py",
   "mimetype": "text/x-python",
   "name": "python",
   "nbconvert_exporter": "python",
   "pygments_lexer": "ipython3",
   "version": "3.9.13"
  }
 },
 "nbformat": 4,
 "nbformat_minor": 5
}
