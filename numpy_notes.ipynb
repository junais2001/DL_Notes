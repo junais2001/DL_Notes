{
 "cells": [
  {
   "cell_type": "raw",
   "id": "ac7b0712",
   "metadata": {},
   "source": [
    "importing numpy arrays"
   ]
  },
  {
   "cell_type": "code",
   "execution_count": 2,
   "id": "72d675ab",
   "metadata": {},
   "outputs": [
    {
     "name": "stdout",
     "output_type": "stream",
     "text": [
      "[1 2 3 4]\n",
      "<class 'numpy.ndarray'>\n"
     ]
    }
   ],
   "source": [
    "import numpy as np\n",
    "\n",
    "x=np.array([1,2,3,4])\n",
    "print(x)\n",
    "print(type(x))"
   ]
  },
  {
   "cell_type": "markdown",
   "id": "a05d343e",
   "metadata": {},
   "source": [
    "converting list to the array"
   ]
  },
  {
   "cell_type": "code",
   "execution_count": 5,
   "id": "3c009ea7",
   "metadata": {},
   "outputs": [
    {
     "name": "stdout",
     "output_type": "stream",
     "text": [
      "12\n",
      "12\n",
      "13\n",
      "[12 12 13]\n"
     ]
    }
   ],
   "source": [
    "l=[]\n",
    "for i in range(1,4):\n",
    "    x =int(input())\n",
    "    l.append(x)\n",
    "array = np.array(l)\n",
    "print(array)"
   ]
  },
  {
   "cell_type": "markdown",
   "id": "191bab20",
   "metadata": {},
   "source": [
    "creating two dimensional arrays "
   ]
  },
  {
   "cell_type": "code",
   "execution_count": 10,
   "id": "5cce4c2a",
   "metadata": {
    "scrolled": true
   },
   "outputs": [
    {
     "name": "stdout",
     "output_type": "stream",
     "text": [
      "[[1 2 3]\n",
      " [4 5 6]\n",
      " [7 4 6]]\n",
      "2\n"
     ]
    }
   ],
   "source": [
    "two = np.array([[1,2,3],[4,5,6],[7,4,6]])\n",
    "print(two)\n",
    "print(two.ndim)"
   ]
  },
  {
   "cell_type": "markdown",
   "id": "5f90f762",
   "metadata": {},
   "source": [
    "creating three dimensional array "
   ]
  },
  {
   "cell_type": "code",
   "execution_count": 11,
   "id": "4c171005",
   "metadata": {
    "scrolled": true
   },
   "outputs": [
    {
     "name": "stdout",
     "output_type": "stream",
     "text": [
      "[[1 2 3]\n",
      " [4 5 6]\n",
      " [7 4 6]] 2\n"
     ]
    }
   ],
   "source": [
    "three = np.array([[[1,2,3],[4,5,6],[7,8,9]]])\n",
    "print(two,two.ndim)"
   ]
  },
  {
   "cell_type": "markdown",
   "id": "755d6e3b",
   "metadata": {},
   "source": [
    "creating an n dimensional array   - ndmin - function is used create n dimentional arrays "
   ]
  },
  {
   "cell_type": "code",
   "execution_count": 14,
   "id": "172e190b",
   "metadata": {
    "scrolled": true
   },
   "outputs": [
    {
     "name": "stdout",
     "output_type": "stream",
     "text": [
      "[[[[[[[[[[1 2 3]]]]]]]]]]\n",
      "10\n"
     ]
    }
   ],
   "source": [
    "ndimen = np.array([1,2,3],ndmin =10)\n",
    "print(ndimen)\n",
    "print(ndimen.ndim)"
   ]
  },
  {
   "cell_type": "markdown",
   "id": "a15699cd",
   "metadata": {},
   "source": [
    "special numpy arrays  --\n",
    "\n",
    "array filled with zeros  - using method np.zeros \n"
   ]
  },
  {
   "cell_type": "code",
   "execution_count": 17,
   "id": "957c1618",
   "metadata": {},
   "outputs": [
    {
     "name": "stdout",
     "output_type": "stream",
     "text": [
      "[0. 0. 0. 0.]\n",
      "[[0. 0.]\n",
      " [0. 0.]\n",
      " [0. 0.]]\n"
     ]
    }
   ],
   "source": [
    "zeros = np.zeros(4)\n",
    "print(zeros)\n",
    "zeros32 =np.zeros((3,2))\n",
    "print(zeros32)"
   ]
  },
  {
   "cell_type": "markdown",
   "id": "1132aa75",
   "metadata": {},
   "source": [
    "array filled with ones -   np.ones()"
   ]
  },
  {
   "cell_type": "code",
   "execution_count": 19,
   "id": "056a4fd7",
   "metadata": {},
   "outputs": [
    {
     "name": "stdout",
     "output_type": "stream",
     "text": [
      "[1. 1. 1.]\n",
      "[[1. 1. 1.]\n",
      " [1. 1. 1.]\n",
      " [1. 1. 1.]\n",
      " [1. 1. 1.]]\n"
     ]
    }
   ],
   "source": [
    "ones = np.ones(3)\n",
    "print(ones)\n",
    "ones1=np.ones((4,3))\n",
    "print(ones1)"
   ]
  },
  {
   "cell_type": "markdown",
   "id": "5c508305",
   "metadata": {},
   "source": [
    "creating an empty array   - empty()\n"
   ]
  },
  {
   "cell_type": "code",
   "execution_count": 20,
   "id": "1768613a",
   "metadata": {},
   "outputs": [
    {
     "name": "stdout",
     "output_type": "stream",
     "text": [
      "[0. 0. 0. 0.]\n"
     ]
    }
   ],
   "source": [
    "empty = np.empty(4)\n",
    "print(empty)"
   ]
  },
  {
   "cell_type": "markdown",
   "id": "206f20e0",
   "metadata": {},
   "source": [
    "using arrange function - arange()"
   ]
  },
  {
   "cell_type": "code",
   "execution_count": 22,
   "id": "dd58de7d",
   "metadata": {},
   "outputs": [
    {
     "name": "stdout",
     "output_type": "stream",
     "text": [
      "[0 1 2 3]\n"
     ]
    }
   ],
   "source": [
    "array = np.arange(4)\n",
    "print(array)"
   ]
  },
  {
   "cell_type": "markdown",
   "id": "21225cf0",
   "metadata": {},
   "source": [
    "creating an digonal element array - \n",
    "[1 0 0]\n",
    "[0 1 0]\n",
    "[0 0 1]     using - eye function for this "
   ]
  },
  {
   "cell_type": "code",
   "execution_count": 23,
   "id": "94491806",
   "metadata": {},
   "outputs": [
    {
     "name": "stdout",
     "output_type": "stream",
     "text": [
      "[[1. 0. 0. 0.]\n",
      " [0. 1. 0. 0.]\n",
      " [0. 0. 1. 0.]\n",
      " [0. 0. 0. 1.]]\n"
     ]
    }
   ],
   "source": [
    "diagonal_array =np.eye(4)\n",
    "print(diagonal_array)"
   ]
  },
  {
   "cell_type": "markdown",
   "id": "ec9e3353",
   "metadata": {},
   "source": [
    "line space use to create array - linspace() method"
   ]
  },
  {
   "cell_type": "code",
   "execution_count": 25,
   "id": "4225d66f",
   "metadata": {
    "scrolled": true
   },
   "outputs": [
    {
     "name": "stdout",
     "output_type": "stream",
     "text": [
      "[0.         1.66666667 3.33333333 5.        ]\n"
     ]
    }
   ],
   "source": [
    "linespace = np.linspace(0,5,num = 4)\n",
    "print(linespace)"
   ]
  },
  {
   "cell_type": "markdown",
   "id": "be3e2acf",
   "metadata": {},
   "source": [
    "creating arrays with random numbers  - random()"
   ]
  },
  {
   "cell_type": "markdown",
   "id": "a72e9f64",
   "metadata": {},
   "source": [
    "rand() function - use to generate random values between zero to one "
   ]
  },
  {
   "cell_type": "code",
   "execution_count": 28,
   "id": "431be229",
   "metadata": {
    "scrolled": true
   },
   "outputs": [
    {
     "name": "stdout",
     "output_type": "stream",
     "text": [
      "[0.47662317 0.98760064 0.5068652  0.51027227]\n"
     ]
    }
   ],
   "source": [
    "random_array = np.random.rand(4)\n",
    "print(random_array)"
   ]
  },
  {
   "cell_type": "code",
   "execution_count": 29,
   "id": "10a70290",
   "metadata": {},
   "outputs": [
    {
     "name": "stdout",
     "output_type": "stream",
     "text": [
      "[[0.56463387 0.61121427 0.76551207 0.3095768  0.90356924]\n",
      " [0.79886172 0.27731118 0.93413763 0.89474768 0.48602993]\n",
      " [0.48115768 0.61365884 0.82344901 0.33170829 0.99105128]\n",
      " [0.72513796 0.57405709 0.22142864 0.69955055 0.15780998]]\n"
     ]
    }
   ],
   "source": [
    "random_array = np.random.rand(4,5)\n",
    "print(random_array)"
   ]
  },
  {
   "cell_type": "markdown",
   "id": "b7d310e8",
   "metadata": {},
   "source": [
    "randn() - this is the function used to generate random value close ot zero ,this may return positive or negative numbers as well"
   ]
  },
  {
   "cell_type": "code",
   "execution_count": 31,
   "id": "dd5b5635",
   "metadata": {},
   "outputs": [
    {
     "name": "stdout",
     "output_type": "stream",
     "text": [
      "[ 1.42056092  0.44623706 -0.14388625  0.07009123  1.42309414]\n"
     ]
    }
   ],
   "source": [
    "randn= np.random.randn(5)\n",
    "print(randn)"
   ]
  },
  {
   "cell_type": "code",
   "execution_count": 33,
   "id": "7a87681f",
   "metadata": {
    "scrolled": true
   },
   "outputs": [
    {
     "name": "stdout",
     "output_type": "stream",
     "text": [
      "[[-0.09067903 -1.76017225  1.51133043 -0.09731506]\n",
      " [-0.56594674 -0.70001345  1.26491137 -0.12373954]\n",
      " [ 0.00636978 -0.06976331 -0.09491435 -0.05276097]]\n"
     ]
    }
   ],
   "source": [
    "randn = np.random.randn(3,4)\n",
    "print(randn)"
   ]
  },
  {
   "cell_type": "markdown",
   "id": "dc136443",
   "metadata": {},
   "source": [
    "randf() - this function is used to generate random sampling in in numpy , it returns the array of specified shape and fill it with radom floats in the half open intervell "
   ]
  },
  {
   "cell_type": "code",
   "execution_count": 35,
   "id": "7d8c71e1",
   "metadata": {
    "scrolled": true
   },
   "outputs": [
    {
     "name": "stdout",
     "output_type": "stream",
     "text": [
      "[0.54266397 0.5467437  0.33828347]\n"
     ]
    }
   ],
   "source": [
    " randf = np.random.ranf(3)\n",
    "print(randf)"
   ]
  },
  {
   "cell_type": "markdown",
   "id": "e18f687c",
   "metadata": {},
   "source": [
    "randint() - it is the function used to generate random numbers in a given range  - randint(min,max,total_values)"
   ]
  },
  {
   "cell_type": "code",
   "execution_count": 37,
   "id": "ddbc866c",
   "metadata": {},
   "outputs": [
    {
     "name": "stdout",
     "output_type": "stream",
     "text": [
      "[5 1 3 1 4]\n"
     ]
    }
   ],
   "source": [
    "random_int=np.random.randint(1,6,5)\n",
    "print(random_int)"
   ]
  },
  {
   "cell_type": "code",
   "execution_count": null,
   "id": "d7018cd6",
   "metadata": {},
   "outputs": [],
   "source": [
    "data types in numpy arrays - bool , int ,float , complex"
   ]
  },
  {
   "cell_type": "code",
   "execution_count": null,
   "id": "a89c3edb",
   "metadata": {},
   "outputs": [],
   "source": [
    "example code to find the database using the dtype function -- dtype()"
   ]
  },
  {
   "cell_type": "code",
   "execution_count": 39,
   "id": "89870974",
   "metadata": {},
   "outputs": [
    {
     "name": "stdout",
     "output_type": "stream",
     "text": [
      "the data type int32\n"
     ]
    }
   ],
   "source": [
    "array= np.array([1,2,3,5])\n",
    "print(\"the data type\",array.dtype)"
   ]
  },
  {
   "cell_type": "code",
   "execution_count": 40,
   "id": "685ac9ff",
   "metadata": {},
   "outputs": [
    {
     "name": "stdout",
     "output_type": "stream",
     "text": [
      "the data type int8\n"
     ]
    }
   ],
   "source": [
    "# converting the data type to int8\n",
    "\n",
    "array= np.array([1,2,3,5],dtype=np.int8)\n",
    "print(\"the data type\",array.dtype)"
   ]
  },
  {
   "cell_type": "code",
   "execution_count": 46,
   "id": "a55e302c",
   "metadata": {},
   "outputs": [
    {
     "name": "stdout",
     "output_type": "stream",
     "text": [
      "[1 2 3 4]\n",
      "[1. 2. 3. 4.]\n",
      "[1 2 3 4]\n"
     ]
    }
   ],
   "source": [
    "# another method is used to convert the data type \n",
    "\n",
    "array=np.array([1,2,3,4])\n",
    "print(array)\n",
    "\n",
    "float=np.float_(array)\n",
    "print(float)\n",
    "int=np.int_(float)\n",
    "print(int)\n"
   ]
  },
  {
   "cell_type": "markdown",
   "id": "487614c7",
   "metadata": {},
   "source": [
    "Generate an array of 20 random integers between 1 and 100."
   ]
  },
  {
   "cell_type": "code",
   "execution_count": 49,
   "id": "4418dee8",
   "metadata": {},
   "outputs": [
    {
     "name": "stdout",
     "output_type": "stream",
     "text": [
      "[91 57 48 69 85 70 16 70 32 52 63 90 33 52 13 68 30  6 66 29]\n"
     ]
    }
   ],
   "source": [
    "random=np.random.randint(1,100,20)\n",
    "print(random)"
   ]
  },
  {
   "cell_type": "markdown",
   "id": "d5da0509",
   "metadata": {},
   "source": [
    "Basic Array Manipulation\n",
    "\n",
    "\n",
    "Create an Array:\n",
    "\n",
    "1)Generate an array of 20 random integers between 1 and 100.                                    #completed\n",
    "2)Create an array of 10 elements all set to zero, except the fifth element, which should be 1.\n",
    "\n",
    "\n",
    "Array Reshaping:\n",
    "\n",
    "Convert a 1D array of 12 elements to a 3x4 matrix.                                              #completed\n",
    "Given an array a = np.array([1, 2, 3, 4, 5, 6]), reshape it into a 2x3 matrix.\n",
    "\n",
    "\n",
    "Array Indexing and Slicing:\n",
    "\n",
    "Given an array of 25 elements (e.g., np.arange(1, 26)), select only the elements at odd indices. #completed\n",
    "Reverse the elements in an array without using a loop.\n",
    "\n",
    "\n",
    "Element-wise Operations:\n",
    "\n",
    "Create two arrays, a and b, and add them element-wise.                            #completed\n",
    "    Compute the element-wise multiplication of two matrices, a and b.b\n",
    "\n",
    "\n",
    "Statistical Operations\n",
    "\n",
    "Mean and Standard Deviation:\n",
    "\n",
    "Given an array of numbers, calculate the mean and standard deviation.\n",
    "Find the median of an array with 15 random integers.                          # completed\n",
    "Max and Min:\n",
    "\n",
    "Generate a 4x4 matrix of random numbers and find the maximum value in each row.\n",
    "Find the minimum value in an array and its index.\n",
    "\n",
    "\n",
    "Conditional Operations\n",
    "\n",
    "Filtering with Conditions:\n",
    "\n",
    "Given an array a = np.array([1, 2, 3, 4, 5, 6, 7, 8, 9, 10]), filter out all even numbers.         #completed\n",
    "Generate a random array of 20 elements between 1 and 100 and replace all elements greater than 50 with 0.\n",
    "\n",
    "\n",
    "\n",
    "Where and Select Functions:\n",
    "\n",
    "Use np.where to replace all negative values in an array with zero.                    #completed\n",
    "Given two arrays a and b, use np.where to return elements from a where a > b and from b otherwise.\n",
    "\n",
    "Linear Algebra\n",
    "\n",
    "Dot Product and Cross Product:\n",
    "\n",
    "Calculate the dot product of two vectors a and b.     #completed\n",
    "\n",
    "Given two 3D vectors, find their cross product.\n",
    "\n",
    "\n",
    "matrix Multiplication:\n",
    "\n",
    "Create two matrices, A (3x2) and B (2x3), and calculate the matrix product A * B.\n",
    "Verify the dimensions of A and B to see if they are compatible for multiplication.       #completed\n",
    "\n",
    "\n",
    "Eigenvalues and Eigenvectors:\n",
    "\n",
    "Find the eigenvalues and eigenvectors of a 3x3 matrix.\n",
    "Check if a matrix is singular by calculating its determinant.\n",
    "Miscellaneous Calculations\n",
    "\n",
    "\n",
    "Cumulative Sum:\n",
    "\n",
    "Find the cumulative sum of an array with 10 random integers.    #completed\n",
    "Compute the cumulative product of a list of numbers.\n",
    "\n",
    "\n",
    "Sorting and Unique:\n",
    "\n",
    "Sort an array of random numbers in ascending and descending order.  #completed\n",
    "Find unique elements in an array and count their occurrences.\n",
    "\n",
    "\n",
    "Random Sampling:\n",
    "\n",
    "Generate an array of 10 random floats between 0 and 1.\n",
    "Create a 5x5 matrix with random values sampled from a normal distribution.   #completed\n",
    "\n",
    "\n",
    "Reshaping and Stacking:\n",
    "\n",
    "Stack two arrays vertically and horizontally.\n",
    "Split an array of 20 elements into 4 arrays with 5 elements each.\n",
    "Advanced Questions                        #completed\n",
    "\n",
    "Solve a System of Equations:\n",
    "\n",
    "Solve the system of equations:\n",
    "3\n",
    "𝑥\n",
    "+\n",
    "2\n",
    "𝑦\n",
    "=\n",
    "12\n",
    "5\n",
    "𝑥\n",
    "+\n",
    "𝑦\n",
    "=\n",
    "14\n",
    "3x+2y=12\n",
    "5x+y=14\n",
    "Polynomial Fit:\n",
    "\n",
    "Fit a polynomial of degree 2 to the points (0,1), (1,3), (2,7), and (3,13).\n",
    "Evaluate the polynomial at x = 4.\n",
    "Fourier Transform:"
   ]
  },
  {
   "cell_type": "code",
   "execution_count": null,
   "id": "8b2d8fa6",
   "metadata": {},
   "outputs": [],
   "source": []
  },
  {
   "cell_type": "code",
   "execution_count": 61,
   "id": "acd3d4ff",
   "metadata": {},
   "outputs": [
    {
     "name": "stdout",
     "output_type": "stream",
     "text": [
      "[0. 0. 0. 0. 5. 0. 0. 0. 0. 0.]\n"
     ]
    }
   ],
   "source": [
    "# Create an array of 10 elements all set to zero, except the fifth element, which should be 1.\n",
    "\n",
    "array = np.zeros(10)\n",
    "array[4]=5\n",
    "print(array)"
   ]
  },
  {
   "cell_type": "markdown",
   "id": "32809725",
   "metadata": {},
   "source": [
    "arithmatic operation using an array  in one dimensional array "
   ]
  },
  {
   "cell_type": "markdown",
   "id": "31f00c0c",
   "metadata": {},
   "source": [
    "addition -  np.add()"
   ]
  },
  {
   "cell_type": "code",
   "execution_count": 64,
   "id": "4c5fb8c9",
   "metadata": {},
   "outputs": [
    {
     "data": {
      "text/plain": [
       "array([3, 5, 7, 9])"
      ]
     },
     "execution_count": 64,
     "metadata": {},
     "output_type": "execute_result"
    }
   ],
   "source": [
    "# // normal operation without using the funcion \n",
    "\n",
    "array= np.array([1,2,3,4])\n",
    "array2 = np.array([2,3,4,5])\n",
    "var= array+array2\n",
    "var"
   ]
  },
  {
   "cell_type": "code",
   "execution_count": 65,
   "id": "f489657c",
   "metadata": {},
   "outputs": [
    {
     "name": "stdout",
     "output_type": "stream",
     "text": [
      "[0.33333333 0.66666667 1.         1.33333333]\n"
     ]
    }
   ],
   "source": [
    "# deviding\n",
    "\n",
    "a= np.array([1,2,3,4])\n",
    "c=a/3\n",
    "print(c)"
   ]
  },
  {
   "cell_type": "code",
   "execution_count": 66,
   "id": "0bfe12dc",
   "metadata": {},
   "outputs": [
    {
     "name": "stdout",
     "output_type": "stream",
     "text": [
      "[0 1 2 3]\n"
     ]
    }
   ],
   "source": [
    "# modulas\n",
    "\n",
    "a= np.array([4,5,6,7])\n",
    "c=a%4\n",
    "print(c)"
   ]
  },
  {
   "cell_type": "code",
   "execution_count": 68,
   "id": "8461e27b",
   "metadata": {},
   "outputs": [
    {
     "name": "stdout",
     "output_type": "stream",
     "text": [
      "[ 4  6  8 10]\n"
     ]
    }
   ],
   "source": [
    "# using functions for this \n",
    "# np.add()\n",
    "\n",
    "arr1=np.array([1,2,3,4])\n",
    "arr2=np.array([3,4,5,6])\n",
    "c=np.add(arr1,arr2)\n",
    "print(c)"
   ]
  },
  {
   "cell_type": "code",
   "execution_count": 70,
   "id": "3732240b",
   "metadata": {},
   "outputs": [
    {
     "name": "stdout",
     "output_type": "stream",
     "text": [
      "[-2 -2 -2 -2]\n"
     ]
    }
   ],
   "source": [
    "# using substract function for this \n",
    "# np.subtract()\n",
    "arr1=np.array([1,2,3,4])\n",
    "arr2=np.array([3,4,5,6])\n",
    "c=np.subtract(arr1,arr2)\n",
    "print(c)\n"
   ]
  },
  {
   "cell_type": "code",
   "execution_count": 72,
   "id": "fb850980",
   "metadata": {},
   "outputs": [
    {
     "name": "stdout",
     "output_type": "stream",
     "text": [
      "[ 3  8 15 24]\n"
     ]
    }
   ],
   "source": [
    "# using multiply function for this \n",
    "# np.multiply()\n",
    "arr1=np.array([1,2,3,4])\n",
    "arr2=np.array([3,4,5,6])\n",
    "c=np.multiply(arr1,arr2)\n",
    "print(c)"
   ]
  },
  {
   "cell_type": "code",
   "execution_count": 74,
   "id": "c44f1d8e",
   "metadata": {},
   "outputs": [
    {
     "name": "stdout",
     "output_type": "stream",
     "text": [
      "[0.33333333 0.5        0.6        0.66666667]\n"
     ]
    }
   ],
   "source": [
    "# using divide function for this \n",
    "# np.divide()\n",
    "arr1=np.array([1,2,3,4])\n",
    "arr2=np.array([3,4,5,6])\n",
    "c=np.divide(arr1,arr2)\n",
    "print(c)"
   ]
  },
  {
   "cell_type": "code",
   "execution_count": 75,
   "id": "5e04af46",
   "metadata": {},
   "outputs": [
    {
     "name": "stdout",
     "output_type": "stream",
     "text": [
      "[1 2 3 4]\n"
     ]
    }
   ],
   "source": [
    "# using mode function for this \n",
    "# np.mod()\n",
    "arr1=np.array([1,2,3,4])\n",
    "arr2=np.array([3,4,5,6])\n",
    "c=np.mod(arr1,arr2)\n",
    "print(c)"
   ]
  },
  {
   "cell_type": "code",
   "execution_count": 76,
   "id": "aad6dbd4",
   "metadata": {},
   "outputs": [
    {
     "name": "stdout",
     "output_type": "stream",
     "text": [
      "[   1   16  243 4096]\n"
     ]
    }
   ],
   "source": [
    "# using power function for this \n",
    "# np.power()\n",
    "arr1=np.array([1,2,3,4])\n",
    "arr2=np.array([3,4,5,6])\n",
    "c=np.power(arr1,arr2)\n",
    "print(c)"
   ]
  },
  {
   "cell_type": "code",
   "execution_count": 77,
   "id": "c12d26f7",
   "metadata": {},
   "outputs": [
    {
     "name": "stdout",
     "output_type": "stream",
     "text": [
      "[1 0 0 0]\n"
     ]
    }
   ],
   "source": [
    "# using reciprocal function for this \n",
    "# np.reciprocal()\n",
    "arr1=np.array([1,2,3,4])\n",
    "\n",
    "c=np.reciprocal(arr1)\n",
    "print(c)"
   ]
  },
  {
   "cell_type": "markdown",
   "id": "e113c61f",
   "metadata": {},
   "source": [
    "two dimension array using for mathematical calculation "
   ]
  },
  {
   "cell_type": "code",
   "execution_count": 81,
   "id": "7206fd52",
   "metadata": {},
   "outputs": [
    {
     "name": "stdout",
     "output_type": "stream",
     "text": [
      "[[ 2  4  6  8]\n",
      " [ 8 10 12 14]]\n"
     ]
    }
   ],
   "source": [
    "# using add() function to add arrays \n",
    "# np.add()\n",
    "\n",
    "arr1 =np.array([[1,2,3,4],[4,5,6,7]])\n",
    "arr2 =np.array([[1,2,3,4],[4,5,6,7]])\n",
    "\n",
    "add=np.add(arr1,arr2)\n",
    "print(add)"
   ]
  },
  {
   "cell_type": "code",
   "execution_count": 86,
   "id": "a19f8c9b",
   "metadata": {},
   "outputs": [
    {
     "name": "stdout",
     "output_type": "stream",
     "text": [
      "4\n",
      "[[ 5  6  7  8]\n",
      " [ 8  9 10 11]]\n"
     ]
    }
   ],
   "source": [
    "# adding a random number to the two dimensional array\n",
    "\n",
    "array=np.array([[1,2,3,4],[4,5,6,7]])\n",
    "c=np.random.randint(1,10)\n",
    "print(c)\n",
    "adding= array+c\n",
    "print(adding)"
   ]
  },
  {
   "cell_type": "code",
   "execution_count": 90,
   "id": "9262b691",
   "metadata": {
    "scrolled": true
   },
   "outputs": [
    {
     "name": "stdout",
     "output_type": "stream",
     "text": [
      "[[ 1  4 15 16]\n",
      " [16 25 24 49]]\n"
     ]
    }
   ],
   "source": [
    "# using multiplication operation on two dimensional arrays \n",
    "\n",
    "array1=np.array([[1,2,3,4],[4,5,6,7]])\n",
    "array2=np.array([[1,2,5,4],[4,5,4,7]])\n",
    "c= np.multiply(array1,array2)\n",
    "print(c)"
   ]
  },
  {
   "cell_type": "code",
   "execution_count": 94,
   "id": "d3a8544b",
   "metadata": {},
   "outputs": [
    {
     "name": "stdout",
     "output_type": "stream",
     "text": [
      "[[ 57  59  55  63]\n",
      " [111 119 118 135]\n",
      " [111 119 118 135]\n",
      " [119 136 149 170]]\n",
      "[[ 57  59  55  63]\n",
      " [111 119 118 135]\n",
      " [111 119 118 135]\n",
      " [119 136 149 170]]\n"
     ]
    }
   ],
   "source": [
    "# using the dot operator to use the matrix multiplication operation\n",
    "# np.dot()  or @\n",
    "\n",
    "array1=np.array([[1,2,3,4],[4,5,6,7],[4,5,6,7],[9,8,6,6]])\n",
    "array2=np.array([[1,2,5,4],[4,5,4,7],[4,5,6,7],[9,8,6,6]])\n",
    "c= np.dot(array1,array2)\n",
    "v=array1@array2\n",
    "print(c)\n",
    "print(v)\n",
    "\n"
   ]
  },
  {
   "cell_type": "markdown",
   "id": "35c1d013",
   "metadata": {},
   "source": [
    "some more arithmatic function \n",
    "\n",
    "np.min(x) -using to find minimum \n",
    "np.max(x) -using to find the maximum\n",
    "np.argmin(x)-using to find the argument it means its index number will show ,another function for max index finding which is \n",
    "np.argmax(x)\n",
    "np.sqrt(x)- using to find the squre root \n",
    "np.sin(x) -using ot find the sine\n",
    "np.cos(x) -finding the cos of the array \n",
    "np.cumsum(x) - is the cumulative sum of the number\n",
    "\n",
    "also axis 0 is column \n",
    "     axis 1 is row \n",
    "\n"
   ]
  },
  {
   "cell_type": "code",
   "execution_count": 103,
   "id": "d9416dfe",
   "metadata": {},
   "outputs": [
    {
     "name": "stdout",
     "output_type": "stream",
     "text": [
      "minimum of the array: 1 0\n",
      "maximum of the array 5 4\n"
     ]
    }
   ],
   "source": [
    "array = np.array([1,2,3,4,5])\n",
    "print(\"minimum of the array:\",min(array),np.argmin(array))\n",
    "print(\"maximum of the array\",np.max(array),np.argmax(array))\n"
   ]
  },
  {
   "cell_type": "markdown",
   "id": "c684535f",
   "metadata": {},
   "source": [
    "finding the minimum and maximum of two dimensional array "
   ]
  },
  {
   "cell_type": "code",
   "execution_count": 106,
   "id": "f9cccb93",
   "metadata": {
    "scrolled": true
   },
   "outputs": [
    {
     "name": "stdout",
     "output_type": "stream",
     "text": [
      "[[1 2 3 4]\n",
      " [5 6 7 8]]\n",
      "the maximum number in x axis : [5 6 7 8]\n",
      "the maximum number in x axis : [4 8]\n"
     ]
    }
   ],
   "source": [
    "array = np.array([[1,2,3,4],[5,6,7,8]])\n",
    "print(array)\n",
    "# axis zero is for column\n",
    "print(\"the maximum number in x axis :\",np.max(array,axis=0))\n",
    "# axis one is row\n",
    "print(\"the maximum number in x axis :\",np.max(array,axis=1))"
   ]
  },
  {
   "cell_type": "code",
   "execution_count": 109,
   "id": "9e2a5825",
   "metadata": {},
   "outputs": [
    {
     "name": "stdout",
     "output_type": "stream",
     "text": [
      "the minimal argument: [0 0 0 0]\n",
      "the max index : [1 1 1 1]\n"
     ]
    }
   ],
   "source": [
    "# finding the minimum and maximum argument in the two dimensional array in column wise\n",
    "array = np.array([[1,2,3,4],[5,6,7,8]])\n",
    "# finding the minimum using argmin() function in column \n",
    "print(\"the minimal argument:\",np.argmin(array,axis=0))\n",
    "# finding the maximum index of the value using argmax() funciton in column\n",
    "print(\"the max index :\" ,np.argmax(array,axis=0))"
   ]
  },
  {
   "cell_type": "code",
   "execution_count": 110,
   "id": "30400680",
   "metadata": {},
   "outputs": [
    {
     "name": "stdout",
     "output_type": "stream",
     "text": [
      "the minimal argument: [0 0]\n",
      "the max index : [3 3]\n"
     ]
    }
   ],
   "source": [
    "# finding the minimum and maximum argument in the two dimensional array in row wise\n",
    "array = np.array([[1,2,3,4],[5,6,7,8]])\n",
    "# finding the minimum using argmin() function in row\n",
    "print(\"the minimal argument:\",np.argmin(array,axis=1))\n",
    "# finding the maximum index of the value using argmax() funciton in row\n",
    "print(\"the max index :\" ,np.argmax(array,axis=1))"
   ]
  },
  {
   "cell_type": "markdown",
   "id": "2e94031c",
   "metadata": {},
   "source": [
    "finding the squre root of normal array"
   ]
  },
  {
   "cell_type": "code",
   "execution_count": 111,
   "id": "1e5b1246",
   "metadata": {},
   "outputs": [
    {
     "name": "stdout",
     "output_type": "stream",
     "text": [
      "[1.         1.41421356 1.73205081 2.        ]\n"
     ]
    }
   ],
   "source": [
    "array = np.array([1,2,3,4])\n",
    "print(np.sqrt(array))"
   ]
  },
  {
   "cell_type": "markdown",
   "id": "48e79851",
   "metadata": {},
   "source": [
    "finding the squre root of the multidimensional array"
   ]
  },
  {
   "cell_type": "code",
   "execution_count": 114,
   "id": "526d7583",
   "metadata": {},
   "outputs": [
    {
     "name": "stdout",
     "output_type": "stream",
     "text": [
      "[[1.         1.41421356 1.73205081 2.        ]\n",
      " [1.41421356 1.73205081 2.23606798 2.64575131]]\n"
     ]
    }
   ],
   "source": [
    "array=np.array([[1,2,3,4],[2,3,5,7]])\n",
    "print(np.sqrt(array))"
   ]
  },
  {
   "cell_type": "code",
   "execution_count": 115,
   "id": "af76ded3",
   "metadata": {},
   "outputs": [
    {
     "name": "stdout",
     "output_type": "stream",
     "text": [
      "[[ 0.84147098  0.90929743  0.14112001 -0.7568025 ]\n",
      " [ 0.90929743  0.14112001 -0.95892427  0.6569866 ]]\n"
     ]
    }
   ],
   "source": [
    "# // sin of the array \n",
    "array=np.array([[1,2,3,4],[2,3,5,7]])\n",
    "print(np.sin(array))"
   ]
  },
  {
   "cell_type": "code",
   "execution_count": 116,
   "id": "ce1b5075",
   "metadata": {},
   "outputs": [
    {
     "name": "stdout",
     "output_type": "stream",
     "text": [
      "[[ 0.54030231 -0.41614684 -0.9899925  -0.65364362]\n",
      " [-0.41614684 -0.9899925   0.28366219  0.75390225]]\n"
     ]
    }
   ],
   "source": [
    "# printing the cos of the array\n",
    "array=np.array([[1,2,3,4],[2,3,5,7]])\n",
    "print(np.cos(array))"
   ]
  },
  {
   "cell_type": "code",
   "execution_count": 117,
   "id": "a5c10755",
   "metadata": {},
   "outputs": [
    {
     "name": "stdout",
     "output_type": "stream",
     "text": [
      "cumulative sum of the array : [ 1  3  6 10 12 15 20 27]\n"
     ]
    }
   ],
   "source": [
    "# finding the cumulative sum of the array \n",
    "array=np.array([[1,2,3,4],[2,3,5,7]])\n",
    "print(\"cumulative sum of the array :\",np.cumsum(array))\n",
    "\n"
   ]
  },
  {
   "cell_type": "markdown",
   "id": "46afdba1",
   "metadata": {},
   "source": [
    "reshaping the numpy array "
   ]
  },
  {
   "cell_type": "markdown",
   "id": "bcbfccd1",
   "metadata": {},
   "source": [
    "shape() - it is used to find the rows and colums of the array "
   ]
  },
  {
   "cell_type": "code",
   "execution_count": 119,
   "id": "b3bbb5ad",
   "metadata": {
    "scrolled": true
   },
   "outputs": [
    {
     "name": "stdout",
     "output_type": "stream",
     "text": [
      "[[[1 2]\n",
      "  [3 4]]\n",
      "\n",
      " [[5 6]\n",
      "  [7 8]]]\n",
      "(2, 2, 2)\n"
     ]
    }
   ],
   "source": [
    "arr = np.array([[[1, 2], [3, 4]], [[5, 6], [7, 8]]])\n",
    "print(arr)\n",
    "print(arr.shape)\n",
    "\n"
   ]
  },
  {
   "cell_type": "code",
   "execution_count": 124,
   "id": "71edd050",
   "metadata": {},
   "outputs": [
    {
     "name": "stdout",
     "output_type": "stream",
     "text": [
      "(3,)\n"
     ]
    }
   ],
   "source": [
    "# fiding the shape of the one dimensional array \n",
    "\n",
    "array = np.array([1,2,3])\n",
    "print(array.shape)"
   ]
  },
  {
   "cell_type": "code",
   "execution_count": 126,
   "id": "8fb78286",
   "metadata": {},
   "outputs": [
    {
     "name": "stdout",
     "output_type": "stream",
     "text": [
      "(2, 3)\n"
     ]
    }
   ],
   "source": [
    "# shape of two dimensional array \n",
    "array =np.array([[1,2,3],[4,5,6]])\n",
    "print(array.shape)"
   ]
  },
  {
   "cell_type": "code",
   "execution_count": 134,
   "id": "027deb0a",
   "metadata": {},
   "outputs": [
    {
     "name": "stdout",
     "output_type": "stream",
     "text": [
      "[[[[1 2 3]]]]\n",
      "(1, 1, 1, 3)\n",
      "4\n"
     ]
    }
   ],
   "source": [
    "#shape of n dimensional array\n",
    "\n",
    "array=np.array([1,2,3],ndmin=4)\n",
    "print(array)\n",
    "print(array.shape)\n",
    "print(array.ndim)"
   ]
  },
  {
   "cell_type": "code",
   "execution_count": 137,
   "id": "05f57795",
   "metadata": {},
   "outputs": [
    {
     "name": "stdout",
     "output_type": "stream",
     "text": [
      "[[[[[1 2 3 4]\n",
      "    [4 5 6 7]]]]]\n",
      "(1, 1, 1, 2, 4)\n"
     ]
    }
   ],
   "source": [
    "array= np.array([[1,2,3,4],[4,5,6,7]],ndmin=5)\n",
    "print(array)\n",
    "print(array.shape)\n"
   ]
  },
  {
   "cell_type": "markdown",
   "id": "e5a79735",
   "metadata": {},
   "source": [
    "reshaping the entire array into defferent type"
   ]
  },
  {
   "cell_type": "code",
   "execution_count": 143,
   "id": "39f72ee7",
   "metadata": {},
   "outputs": [
    {
     "name": "stdout",
     "output_type": "stream",
     "text": [
      "(6,)\n",
      "(3, 2)\n",
      "[[1]\n",
      " [2]\n",
      " [3]\n",
      " [4]\n",
      " [5]\n",
      " [6]]\n",
      "[[1 2]\n",
      " [3 4]\n",
      " [5 6]]\n",
      "2\n"
     ]
    }
   ],
   "source": [
    "#reshaping the normal one dimensional array into two dimensional array \n",
    "# here array has six element , which means we can reshape into six elements   \n",
    "\n",
    "array=np.array([1,2,3,4,5,6])\n",
    "print(array.shape)\n",
    "array1=array.reshape(3,2)\n",
    "print(array1.shape)\n",
    "print(array.reshape(6,1))\n",
    "print(array1)\n",
    "print(array1.ndim)"
   ]
  },
  {
   "cell_type": "code",
   "execution_count": 149,
   "id": "bf0be1a2",
   "metadata": {},
   "outputs": [
    {
     "name": "stdout",
     "output_type": "stream",
     "text": [
      "[[[1 2 3]]\n",
      "\n",
      " [[4 5 6]]]\n",
      "(2, 1, 3)\n",
      "3\n",
      "[1 2 3 4 5 6]\n"
     ]
    }
   ],
   "source": [
    "#reshape()  with three argument  blocknumber , rows , columns\n",
    "\n",
    "array= np.array([1,2,3,4,5,6])\n",
    "x=array.reshape(2,1,3)\n",
    "print(x)\n",
    "print(x.shape)\n",
    "\n",
    "print(x.ndim)\n",
    "print(x.reshape(-1))  #converting into one dimension again "
   ]
  },
  {
   "cell_type": "markdown",
   "id": "af68a2df",
   "metadata": {},
   "source": [
    "1)Convert a 1D array of 12 elements to a 3x4 matrix.                              \n",
    "2)Given an array a = np.array([1, 2, 3, 4, 5, 6]), reshape it into a 2x3 matrix.\n"
   ]
  },
  {
   "cell_type": "code",
   "execution_count": 153,
   "id": "f266d114",
   "metadata": {},
   "outputs": [
    {
     "name": "stdout",
     "output_type": "stream",
     "text": [
      "[ 1  2  3  4  5  6  7  8  9 10 11 12]\n",
      "[[ 1  2  3  4]\n",
      " [ 5  6  7  8]\n",
      " [ 9 10 11 12]]\n",
      "(3, 4)\n",
      "2\n"
     ]
    }
   ],
   "source": [
    "\n",
    "# 1)\n",
    "array= np.arange(1,12+1)\n",
    "print(array)\n",
    "\n",
    "x=array.reshape(3,4)\n",
    "print(x)\n",
    "print(x.shape)\n",
    "print(x.ndim)"
   ]
  },
  {
   "cell_type": "code",
   "execution_count": 154,
   "id": "aca483da",
   "metadata": {},
   "outputs": [
    {
     "name": "stdout",
     "output_type": "stream",
     "text": [
      "[[1 2 3]\n",
      " [4 5 6]]\n"
     ]
    }
   ],
   "source": [
    "# 2) \n",
    "a = np.array([1, 2, 3, 4, 5, 6])\n",
    "print(a.reshape(2,3))\n",
    "\n"
   ]
  },
  {
   "cell_type": "markdown",
   "id": "a91b2366",
   "metadata": {},
   "source": [
    "broad casting in numpy array\n",
    "\n",
    "it is the ability to perform operations between arrays of different types\n",
    "the shapes should be compatible \n",
    "and also fro the rightside raw should be equal"
   ]
  },
  {
   "cell_type": "code",
   "execution_count": 165,
   "id": "581d6c6f",
   "metadata": {},
   "outputs": [
    {
     "name": "stdout",
     "output_type": "stream",
     "text": [
      "(4,)\n",
      "(4,)\n",
      "[2 4 7 8]\n"
     ]
    }
   ],
   "source": [
    "array1=np.array([1,2,3,4])\n",
    "print(array1.shape)\n",
    "array2=np.array([1,2,4,4])\n",
    "print(array2.shape)\n",
    "x=array1+array2\n",
    "print(x)"
   ]
  },
  {
   "cell_type": "code",
   "execution_count": 174,
   "id": "f535fd69",
   "metadata": {},
   "outputs": [
    {
     "name": "stdout",
     "output_type": "stream",
     "text": [
      "[[0 1]\n",
      " [2 3]\n",
      " [4 5]]\n",
      "(3, 2)\n",
      "2\n",
      "\n",
      "[[0 1]\n",
      " [2 3]]\n",
      "(2, 2)\n",
      "2\n"
     ]
    }
   ],
   "source": [
    "a=np.arange(6).reshape(3,2)\n",
    "print(a)\n",
    "print(a.shape)\n",
    "print(a.ndim)\n",
    "print()\n",
    "b=np.arange(4).reshape(2,2)\n",
    "print(b)\n",
    "print(b.shape)\n",
    "print(b.ndim)\n",
    "\n",
    "# it wont strech because it is diemension from the right is currect but ,\n",
    "# the dimension after  the right is not currect "
   ]
  },
  {
   "cell_type": "code",
   "execution_count": 176,
   "id": "48c7b368",
   "metadata": {
    "scrolled": true
   },
   "outputs": [
    {
     "name": "stdout",
     "output_type": "stream",
     "text": [
      "[[0 1 2]\n",
      " [3 4 5]\n",
      " [6 7 8]]\n",
      "[[0 1 2]]\n",
      "[[ 0  2  4]\n",
      " [ 3  5  7]\n",
      " [ 6  8 10]]\n"
     ]
    }
   ],
   "source": [
    "a=np.arange(9).reshape(3,3)\n",
    "print(a)\n",
    "\n",
    "b=np.arange(3).reshape(1,3)\n",
    "print(b)\n",
    "x=a+b\n",
    "print(x)\n",
    "# this is working"
   ]
  },
  {
   "cell_type": "markdown",
   "id": "0341935f",
   "metadata": {},
   "source": [
    "indexing and slicing and iterating in numpy array"
   ]
  },
  {
   "cell_type": "code",
   "execution_count": 193,
   "id": "d2333ec5",
   "metadata": {
    "scrolled": true
   },
   "outputs": [
    {
     "name": "stdout",
     "output_type": "stream",
     "text": [
      "[[[ 0  1]\n",
      "  [ 2  3]]\n",
      "\n",
      " [[ 4  5]\n",
      "  [ 6  7]]\n",
      "\n",
      " [[ 8  9]\n",
      "  [10 11]]]\n",
      "(3, 2, 2)\n",
      "\n",
      "3\n"
     ]
    }
   ],
   "source": [
    "\n",
    "it is the indexing of the array element of three dimension \n",
    "\n",
    "a=np.arange(12).reshape(3,2,2)\n",
    "\n",
    "print(a)\n",
    "print(a.shape)\n",
    "print()\n",
    "print(a[0,1,1])\n"
   ]
  },
  {
   "cell_type": "markdown",
   "id": "080cf324",
   "metadata": {},
   "source": [
    "slicing in numpy arrays\n",
    "slicing method - [start,stop,step]"
   ]
  },
  {
   "cell_type": "code",
   "execution_count": 207,
   "id": "8985e835",
   "metadata": {},
   "outputs": [
    {
     "name": "stdout",
     "output_type": "stream",
     "text": [
      "[[ 0  1  2  3  4  5  6  7  8  9 10 11]]\n",
      "2\n",
      "[ 0  1  2  3  4  5  6  7  8  9 10 11]\n",
      "[0 1 2 3 4 5]\n"
     ]
    }
   ],
   "source": [
    "a=np.arange(12).reshape(1,12)\n",
    "print(a)\n",
    "print(a.ndim)\n",
    "\n",
    "print(a[0,0:])\n",
    "print(a[0,0:6])"
   ]
  },
  {
   "cell_type": "markdown",
   "id": "8a7f079d",
   "metadata": {},
   "source": [
    "1)Given an array of 25 elements (e.g., np.arange(1, 26)), select only the elements at odd indices. \n",
    "2)Reverse the elements in an array without using a loop."
   ]
  },
  {
   "cell_type": "code",
   "execution_count": 214,
   "id": "377ecd17",
   "metadata": {
    "scrolled": true
   },
   "outputs": [
    {
     "name": "stdout",
     "output_type": "stream",
     "text": [
      "[ 1  2  3  4  5  6  7  8  9 10 11 12 13 14 15 16 17 18 19 20 21 22 23 24\n",
      " 25]\n",
      "[ 1  3  5  7  9 11 13 15 17 19 21 23 25]\n",
      "[25 24 23 22 21 20 19 18 17 16 15 14 13 12 11 10  9  8  7  6  5  4  3  2\n",
      "  1]\n"
     ]
    }
   ],
   "source": [
    "a=np.arange(1,26)\n",
    "print(a)\n",
    "# print(a[::2])  1) is finding here\n",
    "# print(a[::-1])   2) is finding here"
   ]
  },
  {
   "cell_type": "code",
   "execution_count": null,
   "id": "d51d9625",
   "metadata": {},
   "outputs": [],
   "source": [
    "1)Given an array of numbers, calculate the mean and standard deviation.   np.mean() and np.std()\n",
    "2)Find the median of an array with 15 random integers.                        \n",
    "Max and Min:"
   ]
  },
  {
   "cell_type": "code",
   "execution_count": 223,
   "id": "a2ab60db",
   "metadata": {},
   "outputs": [
    {
     "name": "stdout",
     "output_type": "stream",
     "text": [
      "[1 2 3 4 5 6 7 8 9]\n",
      "the mean is 5.0\n",
      "the standard deviation is  2.581988897471611\n",
      "the standard max is  9\n",
      "the standard min is  1\n"
     ]
    }
   ],
   "source": [
    "a=np.arange(1,10)\n",
    "print(a)\n",
    "print(\"the mean is\",np.mean(a))\n",
    "print(\"the standard deviation is \",np.std(a))\n",
    "print(\"the standard max is \",max(a))\n",
    "print(\"the standard min is \",min(a))"
   ]
  },
  {
   "cell_type": "code",
   "execution_count": 227,
   "id": "9985fc8f",
   "metadata": {},
   "outputs": [
    {
     "name": "stdout",
     "output_type": "stream",
     "text": [
      "2\n",
      "the standard deviation of this array 3.452052529534663\n",
      "the standard deveiation amoung row [0.81649658 0.81649658 0.81649658 0.81649658]\n",
      "the standard deviation amound columns [3.35410197 3.35410197 3.35410197]\n"
     ]
    }
   ],
   "source": [
    "a=np.arange(12).reshape(4,3)\n",
    "print(a.ndim)\n",
    "\n",
    "print(\"the standard deviation of this array\",np.std(a))\n",
    "print(\"the standard deveiation amoung row\",np.std(a,axis=1))\n",
    "print(\"the standard deviation amound columns\",np.std(a ,axis=0))"
   ]
  },
  {
   "cell_type": "markdown",
   "id": "c55bc3fe",
   "metadata": {},
   "source": [
    "iterating trough the array --using for loop to iterate through the array "
   ]
  },
  {
   "cell_type": "code",
   "execution_count": 229,
   "id": "5780c4fe",
   "metadata": {},
   "outputs": [
    {
     "name": "stdout",
     "output_type": "stream",
     "text": [
      "[ 0  1  2  3  4  5  6  7  8  9 10 11 12 13 14 15 16 17 18 19]\n",
      "0\n",
      "1\n",
      "2\n",
      "3\n",
      "4\n",
      "5\n",
      "6\n",
      "7\n",
      "8\n",
      "9\n",
      "10\n",
      "11\n",
      "12\n",
      "13\n",
      "14\n",
      "15\n",
      "16\n",
      "17\n",
      "18\n",
      "19\n"
     ]
    }
   ],
   "source": [
    "array= np.arange(20)\n",
    "print(array)\n",
    "\n",
    "for i in array :\n",
    "    print(i)"
   ]
  },
  {
   "cell_type": "code",
   "execution_count": 232,
   "id": "591f89ce",
   "metadata": {},
   "outputs": [
    {
     "name": "stdout",
     "output_type": "stream",
     "text": [
      "[[ 0  1  2  3]\n",
      " [ 4  5  6  7]\n",
      " [ 8  9 10 11]]\n",
      "0\n",
      "1\n",
      "2\n",
      "3\n",
      "4\n",
      "5\n",
      "6\n",
      "7\n",
      "8\n",
      "9\n",
      "10\n",
      "11\n"
     ]
    }
   ],
   "source": [
    "a= np.arange(12).reshape(3,4)\n",
    "print(a)\n",
    "for i in a:\n",
    "    for j in i:\n",
    "        print(j)\n",
    "        \n",
    "#when the dimension is increasing we have to use more nested loop for this "
   ]
  },
  {
   "cell_type": "markdown",
   "id": "35ff0c0f",
   "metadata": {},
   "source": [
    "nditer() function -- it is used to remove the struggle of using inner for loops \n"
   ]
  },
  {
   "cell_type": "code",
   "execution_count": 237,
   "id": "82217ee6",
   "metadata": {},
   "outputs": [
    {
     "name": "stdout",
     "output_type": "stream",
     "text": [
      "0\n",
      "1\n",
      "2\n",
      "3\n",
      "4\n",
      "5\n",
      "6\n",
      "7\n",
      "8\n",
      "9\n",
      "10\n",
      "11\n"
     ]
    }
   ],
   "source": [
    "a=np.arange(12).reshape(3,4)\n",
    "\n",
    "for i in np.nditer(a):\n",
    "    print(i)"
   ]
  },
  {
   "cell_type": "markdown",
   "id": "711d1ae2",
   "metadata": {},
   "source": [
    "using ndenumerate  - it is used to print the index and data "
   ]
  },
  {
   "cell_type": "code",
   "execution_count": 241,
   "id": "dd538738",
   "metadata": {},
   "outputs": [
    {
     "name": "stdout",
     "output_type": "stream",
     "text": [
      "[[[ 0  1]\n",
      "  [ 2  3]\n",
      "  [ 4  5]]\n",
      "\n",
      " [[ 6  7]\n",
      "  [ 8  9]\n",
      "  [10 11]]]\n",
      "(0, 0, 0) 0\n",
      "(0, 0, 1) 1\n",
      "(0, 1, 0) 2\n",
      "(0, 1, 1) 3\n",
      "(0, 2, 0) 4\n",
      "(0, 2, 1) 5\n",
      "(1, 0, 0) 6\n",
      "(1, 0, 1) 7\n",
      "(1, 1, 0) 8\n",
      "(1, 1, 1) 9\n",
      "(1, 2, 0) 10\n",
      "(1, 2, 1) 11\n"
     ]
    }
   ],
   "source": [
    "a=np.arange(12).reshape(2,3,2)\n",
    "print(a)\n",
    "\n",
    "for i,d in np.ndenumerate(a):\n",
    "    print(i,d)"
   ]
  },
  {
   "cell_type": "markdown",
   "id": "0aa50fa0",
   "metadata": {},
   "source": [
    "copy and view function using numpy array "
   ]
  },
  {
   "cell_type": "code",
   "execution_count": 242,
   "id": "4f5a204d",
   "metadata": {},
   "outputs": [
    {
     "name": "stdout",
     "output_type": "stream",
     "text": [
      "[0 1 2 3 4 5 6 7 8 9]\n",
      "it is the copy [0 1 2 3 4 5 6 7 8 9]\n"
     ]
    }
   ],
   "source": [
    "# copy function in numpy \n",
    "\n",
    "var=np.arange(10)\n",
    "print(var)\n",
    "x=var.copy()\n",
    "print(\"it is the copy\",x)"
   ]
  },
  {
   "cell_type": "code",
   "execution_count": 249,
   "id": "ac81fd94",
   "metadata": {},
   "outputs": [
    {
     "name": "stdout",
     "output_type": "stream",
     "text": [
      "[0 1 2 3 4 5 6 7 8 9]\n",
      "[0 1 2 3 4 5 6 7 8 9]\n",
      "[0 1 5 3 4 5 6 7 8 9]\n",
      "[0 1 5 3 4 5 6 7 8 9]\n"
     ]
    }
   ],
   "source": [
    "#using view function \n",
    "a=np.arange(10)\n",
    "print(a)\n",
    "vi=a.view()\n",
    "print(vi)\n",
    "a[2]=5\n",
    "print(a)\n",
    "print(vi)\n",
    "\n",
    "# the only difference between the view and the copy function the function of copy the data is same , but in view when ever\n",
    "# we change the orginal data it is affect in the view , but in copy it wont affect "
   ]
  },
  {
   "cell_type": "markdown",
   "id": "bb2ce1ce",
   "metadata": {},
   "source": [
    "joining and splitting the array\n",
    "concatenate()  this is used to merge two one dimensional arrays \n"
   ]
  },
  {
   "cell_type": "code",
   "execution_count": 253,
   "id": "e3c3f774",
   "metadata": {},
   "outputs": [
    {
     "name": "stdout",
     "output_type": "stream",
     "text": [
      "[0 1 2 3 4 5]\n",
      "[0 1 2]\n",
      "[0 1 2 3 4 5 0 1 2]\n"
     ]
    }
   ],
   "source": [
    "a=np.arange(6)\n",
    "b=np.arange(3)\n",
    "print(a)\n",
    "print(b)\n",
    "\n",
    "v=np.concatenate((a,b))\n",
    "print(v)"
   ]
  },
  {
   "cell_type": "code",
   "execution_count": 257,
   "id": "0ed704f4",
   "metadata": {
    "scrolled": true
   },
   "outputs": [
    {
     "name": "stdout",
     "output_type": "stream",
     "text": [
      "[[0 1]\n",
      " [2 3]\n",
      " [4 5]]\n",
      "[[0 1]\n",
      " [2 3]\n",
      " [4 5]]\n",
      "[[0 1 0 1]\n",
      " [2 3 2 3]\n",
      " [4 5 4 5]]\n"
     ]
    }
   ],
   "source": [
    "a=np.arange(6).reshape(3,2)\n",
    "print(a)\n",
    "b=np.arange(6).reshape(3,2)\n",
    "print(b)\n",
    "\n",
    "v=np.concatenate((a,b),axis=1)  #row waise merging using \n",
    "print(v)\n"
   ]
  },
  {
   "cell_type": "code",
   "execution_count": 258,
   "id": "9fc1e936",
   "metadata": {},
   "outputs": [
    {
     "name": "stdout",
     "output_type": "stream",
     "text": [
      "[[0 1]\n",
      " [2 3]\n",
      " [4 5]]\n",
      "[[0 1]\n",
      " [2 3]\n",
      " [4 5]]\n",
      "[[[0 1]\n",
      "  [0 1]]\n",
      "\n",
      " [[2 3]\n",
      "  [2 3]]\n",
      "\n",
      " [[4 5]\n",
      "  [4 5]]]\n"
     ]
    }
   ],
   "source": [
    "a=np.arange(6).reshape(3,2)\n",
    "print(a)\n",
    "b=np.arange(6).reshape(3,2)  #using stack\n",
    "print(b)\n",
    "\n",
    "v=np.stack((a,b),axis=1)  \n",
    "print(v)"
   ]
  },
  {
   "cell_type": "code",
   "execution_count": 259,
   "id": "4e4a780f",
   "metadata": {},
   "outputs": [
    {
     "name": "stdout",
     "output_type": "stream",
     "text": [
      "[[0 1]\n",
      " [2 3]\n",
      " [4 5]]\n",
      "[[0 1]\n",
      " [2 3]\n",
      " [4 5]]\n",
      "[[[0 1]\n",
      "  [2 3]\n",
      "  [4 5]]\n",
      "\n",
      " [[0 1]\n",
      "  [2 3]\n",
      "  [4 5]]]\n"
     ]
    }
   ],
   "source": [
    "a=np.arange(6).reshape(3,2)\n",
    "print(a)\n",
    "b=np.arange(6).reshape(3,2)  #using stack\n",
    "print(b)\n",
    "\n",
    "v=np.stack((a,b),axis=0)  \n",
    "print(v)"
   ]
  },
  {
   "cell_type": "markdown",
   "id": "1c394a5e",
   "metadata": {},
   "source": [
    "splitting array "
   ]
  },
  {
   "cell_type": "markdown",
   "id": "266b8357",
   "metadata": {},
   "source": [
    "breaking one array into multiple "
   ]
  },
  {
   "cell_type": "code",
   "execution_count": 268,
   "id": "a1a78a04",
   "metadata": {},
   "outputs": [
    {
     "name": "stdout",
     "output_type": "stream",
     "text": [
      "[[0 1]\n",
      " [2 3]]\n",
      "[array([[0],\n",
      "       [2]]), array([[1],\n",
      "       [3]]), array([], shape=(2, 0), dtype=int32)]\n",
      "[array([[0, 1]]), array([[2, 3]])]\n"
     ]
    }
   ],
   "source": [
    "a=np.arange(4).reshape(2,2)\n",
    "print(a)\n",
    "\n",
    "v=np.array_split(a,2)\n",
    "v1=np.array_split(a,3,axis=1)\n",
    "print(v1)\n",
    "print(v)"
   ]
  },
  {
   "cell_type": "markdown",
   "id": "98f97e45",
   "metadata": {},
   "source": [
    "Given an array a = np.array([1, 2, 3, 4, 5, 6, 7, 8, 9, 10]), filter out all even numbers.\n",
    "Generate a random array of 20 elements between 1 and 100 and replace all elements greater than 50 with 0."
   ]
  },
  {
   "cell_type": "code",
   "execution_count": 270,
   "id": "858d7db3",
   "metadata": {},
   "outputs": [
    {
     "name": "stdout",
     "output_type": "stream",
     "text": [
      "[ 1  2  3  4  5  6  7  8  9 10]\n",
      "2\n",
      "4\n",
      "6\n",
      "8\n",
      "10\n"
     ]
    }
   ],
   "source": [
    "a=np.arange(1,11)\n",
    "print(a)\n",
    "for i in np.nditer(a):\n",
    "    if i%2==0:\n",
    "        print(i)"
   ]
  },
  {
   "cell_type": "code",
   "execution_count": 273,
   "id": "acf05a8f",
   "metadata": {},
   "outputs": [
    {
     "name": "stdout",
     "output_type": "stream",
     "text": [
      "[ 0  0  0  0  0 12  0  0  0 16 12  0 41 47  0 39  0  0  0 49]\n"
     ]
    }
   ],
   "source": [
    "\n",
    "\n",
    "a=np.random.randint(1,100,20)\n",
    "a[a>50]=0\n",
    "print(a)\n",
    "        \n",
    "    "
   ]
  },
  {
   "cell_type": "markdown",
   "id": "79eddf84",
   "metadata": {},
   "source": [
    "search method using in array - search array for a certain value and return indexes that get a match "
   ]
  },
  {
   "cell_type": "code",
   "execution_count": 275,
   "id": "288f0e70",
   "metadata": {},
   "outputs": [
    {
     "name": "stdout",
     "output_type": "stream",
     "text": [
      "[0 1 2 3 4 5 6 7 8 9]\n",
      "(array([0, 2, 4, 6, 8], dtype=int64),)\n"
     ]
    }
   ],
   "source": [
    "# where method is used here  np.where()\n",
    "\n",
    "a=np.arange(10)\n",
    "print(a)\n",
    "\n",
    "select= np.where(a%2==0)\n",
    "print(select)"
   ]
  },
  {
   "cell_type": "code",
   "execution_count": null,
   "id": "3f505e53",
   "metadata": {},
   "outputs": [],
   "source": [
    "search sorted array - wich poerforms a binary search in the array , and return the index where the specified value would be inserted \n",
    "to maintain the search order "
   ]
  },
  {
   "cell_type": "code",
   "execution_count": null,
   "id": "cef06bbe",
   "metadata": {},
   "outputs": [],
   "source": [
    "using search sorted array method - np.searchsorted()"
   ]
  },
  {
   "cell_type": "code",
   "execution_count": 280,
   "id": "7ebf7ffa",
   "metadata": {},
   "outputs": [
    {
     "name": "stdout",
     "output_type": "stream",
     "text": [
      "[0 1 2 3 4 5 6 7 8 9]\n",
      "\n",
      "7\n"
     ]
    }
   ],
   "source": [
    "a=np.arange(10)\n",
    "print(a)\n",
    "print()\n",
    "x1=np.searchsorted(a,6.5,side=\"right\")  #using the search sort method for  this \n",
    "print(x1)\n",
    "\n",
    "\n",
    "\n",
    "\n"
   ]
  },
  {
   "cell_type": "markdown",
   "id": "bde0d4a5",
   "metadata": {},
   "source": [
    "sorted array - orderd sequence is any sequence that has an orderd curresponding to element. - sort()"
   ]
  },
  {
   "cell_type": "code",
   "execution_count": 282,
   "id": "d00eda8a",
   "metadata": {
    "scrolled": true
   },
   "outputs": [
    {
     "name": "stdout",
     "output_type": "stream",
     "text": [
      "[0 1 2 3 4 5]\n",
      "[0 1 2 3 4 5]\n"
     ]
    }
   ],
   "source": [
    "a=np.arange(6)\n",
    "print(a)\n",
    "print(np.sort(a))"
   ]
  },
  {
   "cell_type": "code",
   "execution_count": 284,
   "id": "056f5d3a",
   "metadata": {},
   "outputs": [
    {
     "name": "stdout",
     "output_type": "stream",
     "text": [
      "[3 1 3 6 8 1]\n",
      "[1 1 3 3 6 8]\n"
     ]
    }
   ],
   "source": [
    "#use randint function to sort the array\n",
    "\n",
    "a=np.random.randint(1,10,6)\n",
    "print(a)\n",
    "print(np.sort(a))"
   ]
  },
  {
   "cell_type": "code",
   "execution_count": 288,
   "id": "63e9c340",
   "metadata": {},
   "outputs": [
    {
     "name": "stdout",
     "output_type": "stream",
     "text": [
      "[[ 5 73 45]\n",
      " [50 70 83]\n",
      " [50 75 69]\n",
      " [92 48 39]]\n",
      "[[ 5 48 39]\n",
      " [50 70 45]\n",
      " [50 73 69]\n",
      " [92 75 83]]\n",
      "[[ 5 45 73]\n",
      " [50 70 83]\n",
      " [50 69 75]\n",
      " [39 48 92]]\n"
     ]
    }
   ],
   "source": [
    "#sorting two dimensional arrays \n",
    "\n",
    "a=np.random.randint(1,100,12).reshape(4,3)\n",
    "print(a)\n",
    "print(np.sort(a,axis=0))\n",
    "print(np.sort(a,axis=1))"
   ]
  },
  {
   "cell_type": "markdown",
   "id": "35029e22",
   "metadata": {},
   "source": [
    "filtering  the array use flter method - getting some element out of an existing array and creating a new array out of them  "
   ]
  },
  {
   "cell_type": "code",
   "execution_count": 296,
   "id": "1806395a",
   "metadata": {},
   "outputs": [
    {
     "name": "stdout",
     "output_type": "stream",
     "text": [
      "[8 2 4 2 9 7]\n",
      "[array([ True, False, False, False,  True,  True])]\n",
      "[8 9 7]\n"
     ]
    }
   ],
   "source": [
    "#filters is using \n",
    "\n",
    "a=np.random.randint(1,10,6)\n",
    "print(a)\n",
    "f=[a>6]\n",
    "f1=a[a>6]\n",
    "print(f)\n",
    "print(f1)"
   ]
  },
  {
   "cell_type": "code",
   "execution_count": null,
   "id": "2b5e7521",
   "metadata": {},
   "outputs": [],
   "source": [
    "other arithmatic functions \n",
    "\n",
    "shuffle\n",
    "unique\n",
    "resize\n",
    "flatten\n",
    "ravel"
   ]
  },
  {
   "cell_type": "code",
   "execution_count": 304,
   "id": "9eedd47d",
   "metadata": {},
   "outputs": [
    {
     "name": "stdout",
     "output_type": "stream",
     "text": [
      "[7 0 6 9 2 1 8 3 5 4]\n",
      "None\n"
     ]
    }
   ],
   "source": [
    "#using shuffle method for this \n",
    "b=np.arange(10)\n",
    "np.random.shuffle(b)\n",
    "print(b)\n"
   ]
  },
  {
   "cell_type": "code",
   "execution_count": 310,
   "id": "80f60285",
   "metadata": {},
   "outputs": [
    {
     "name": "stdout",
     "output_type": "stream",
     "text": [
      "[7 9 9 3 4]\n",
      "[3 4 7 9]\n"
     ]
    }
   ],
   "source": [
    "#using unoque method for this \n",
    "\n",
    "a=np.random.randint(1,10,5)\n",
    "b=np.unique(a)\n",
    "print(a)\n",
    "print(b)"
   ]
  },
  {
   "cell_type": "code",
   "execution_count": 317,
   "id": "1ccaad61",
   "metadata": {
    "scrolled": true
   },
   "outputs": [
    {
     "ename": "SyntaxError",
     "evalue": "invalid syntax (3344809212.py, line 10)",
     "output_type": "error",
     "traceback": [
      "\u001b[1;36m  File \u001b[1;32m\"C:\\Users\\Acer\\AppData\\Local\\Temp\\ipykernel_17960\\3344809212.py\"\u001b[1;36m, line \u001b[1;32m10\u001b[0m\n\u001b[1;33m    print(v.flatten())\u001b[0m\n\u001b[1;37m    ^\u001b[0m\n\u001b[1;31mSyntaxError\u001b[0m\u001b[1;31m:\u001b[0m invalid syntax\n"
     ]
    }
   ],
   "source": [
    "#using resize function \n",
    "\n",
    "var= np.arange(10)\n",
    "print(var)\n",
    "# print(np.resize(var,(5,2)))\n",
    "v=np.resize(var,(5,2)\n",
    "\n",
    "#using flatten \n",
    "            \n",
    "print(v.flatten())\n",
    "            \n",
    "#same funciton is this in another format which is ravel()bb\n",
    "\n"
   ]
  },
  {
   "cell_type": "markdown",
   "id": "28fa70ce",
   "metadata": {},
   "source": [
    "numpy using insert and delete method "
   ]
  },
  {
   "cell_type": "code",
   "execution_count": 323,
   "id": "4e0a8576",
   "metadata": {},
   "outputs": [
    {
     "name": "stdout",
     "output_type": "stream",
     "text": [
      "[0 1 2 3 4 5]\n",
      "[0 1 5 6 2 3 4 5]\n",
      "[0 1 2 7 3 4 5]\n"
     ]
    }
   ],
   "source": [
    "#usng insert method to insert some data to the array\n",
    "\n",
    "a=np.arange(6)\n",
    "print(a)\n",
    "\n",
    "c=np.insert(a,3,7)\n",
    "v=np.insert(a,2,[5,6]) #inserting list of elements \n",
    "print(v)\n",
    "print(c)"
   ]
  },
  {
   "cell_type": "code",
   "execution_count": 326,
   "id": "4acb8b25",
   "metadata": {},
   "outputs": [
    {
     "name": "stdout",
     "output_type": "stream",
     "text": [
      "[[0 1]\n",
      " [2 3]\n",
      " [4 5]]\n",
      "[[0 1]\n",
      " [3 3]\n",
      " [2 3]\n",
      " [4 5]]\n"
     ]
    }
   ],
   "source": [
    "#inserting elements to the two dimensional arrays \n",
    "\n",
    "a=np.arange(6).reshape(3,2)\n",
    "print(a)\n",
    "\n",
    "c=np.insert(a,1,3,axis=0)\n",
    "print(c)"
   ]
  },
  {
   "cell_type": "code",
   "execution_count": 331,
   "id": "dfc22463",
   "metadata": {},
   "outputs": [
    {
     "name": "stdout",
     "output_type": "stream",
     "text": [
      "[1 2 3 4 5]\n",
      "[1 3 4 5]\n"
     ]
    }
   ],
   "source": [
    "#using delete it will use the index and remove index \n",
    "\n",
    "a=np.arange(1,6)\n",
    "print(a)\n",
    "\n",
    "v=np.delete(a,1)\n",
    "print(v)"
   ]
  },
  {
   "cell_type": "code",
   "execution_count": 334,
   "id": "f0cb0f26",
   "metadata": {},
   "outputs": [
    {
     "name": "stdout",
     "output_type": "stream",
     "text": [
      "[[0 1]\n",
      " [2 3]\n",
      " [4 5]]\n",
      "[0 2 3 4 5]\n"
     ]
    }
   ],
   "source": [
    "#using delete for the multidimensional arrays \n",
    "\n",
    "a=np.arange(6).reshape(3,2)\n",
    "print(a)\n",
    "\n",
    "\n",
    "n=np.delete(a,1)\n",
    "print(n)"
   ]
  },
  {
   "cell_type": "markdown",
   "id": "9feb3d38",
   "metadata": {},
   "source": [
    "mutrix in numpy arrays "
   ]
  },
  {
   "cell_type": "code",
   "execution_count": 337,
   "id": "ce9a7f9f",
   "metadata": {},
   "outputs": [
    {
     "name": "stdout",
     "output_type": "stream",
     "text": [
      "[[1 2 3 4]]\n",
      "<class 'numpy.matrix'>\n"
     ]
    }
   ],
   "source": [
    "a=np.matrix([1,2,3,4])\n",
    "print(a)\n",
    "print(type(a))"
   ]
  },
  {
   "cell_type": "markdown",
   "id": "8e311cd1",
   "metadata": {},
   "source": [
    "matrix calculations \n",
    "\n",
    "transpose\n",
    "sawapaxes \n",
    "inverse\n",
    "determinant \n",
    "power\n"
   ]
  },
  {
   "cell_type": "code",
   "execution_count": 338,
   "id": "5fa74c6a",
   "metadata": {},
   "outputs": [
    {
     "name": "stdout",
     "output_type": "stream",
     "text": [
      "[[1]\n",
      " [2]\n",
      " [3]\n",
      " [4]]\n"
     ]
    }
   ],
   "source": [
    "#using transpose  in matrix \n",
    "a=np.matrix([1,2,3,4])\n",
    "print(np.transpose(a))\n"
   ]
  },
  {
   "cell_type": "code",
   "execution_count": 341,
   "id": "662be211",
   "metadata": {
    "scrolled": true
   },
   "outputs": [
    {
     "name": "stdout",
     "output_type": "stream",
     "text": [
      "[[1]\n",
      " [2]\n",
      " [3]\n",
      " [4]]\n"
     ]
    }
   ],
   "source": [
    "#using swapaxis \n",
    "a=np.matrix([1,2,3,4])\n",
    "print(np.swapaxes(a,0,1))\n"
   ]
  },
  {
   "cell_type": "code",
   "execution_count": 345,
   "id": "57aebf99",
   "metadata": {},
   "outputs": [
    {
     "ename": "LinAlgError",
     "evalue": "Last 2 dimensions of the array must be square",
     "output_type": "error",
     "traceback": [
      "\u001b[1;31m---------------------------------------------------------------------------\u001b[0m",
      "\u001b[1;31mLinAlgError\u001b[0m                               Traceback (most recent call last)",
      "\u001b[1;32m~\\AppData\\Local\\Temp\\ipykernel_17960\\264126282.py\u001b[0m in \u001b[0;36m<module>\u001b[1;34m\u001b[0m\n\u001b[0;32m      1\u001b[0m \u001b[1;31m#using swapaxis\u001b[0m\u001b[1;33m\u001b[0m\u001b[1;33m\u001b[0m\u001b[0m\n\u001b[0;32m      2\u001b[0m \u001b[0ma\u001b[0m\u001b[1;33m=\u001b[0m\u001b[0mnp\u001b[0m\u001b[1;33m.\u001b[0m\u001b[0mmatrix\u001b[0m\u001b[1;33m(\u001b[0m\u001b[1;33m[\u001b[0m\u001b[1;33m[\u001b[0m\u001b[1;36m1\u001b[0m\u001b[1;33m,\u001b[0m\u001b[1;36m2\u001b[0m\u001b[1;33m,\u001b[0m\u001b[1;36m3\u001b[0m\u001b[1;33m,\u001b[0m\u001b[1;36m4\u001b[0m\u001b[1;33m]\u001b[0m\u001b[1;33m,\u001b[0m\u001b[1;33m[\u001b[0m\u001b[1;36m1\u001b[0m\u001b[1;33m,\u001b[0m\u001b[1;36m5\u001b[0m\u001b[1;33m,\u001b[0m\u001b[1;36m3\u001b[0m\u001b[1;33m,\u001b[0m\u001b[1;36m7\u001b[0m\u001b[1;33m]\u001b[0m\u001b[1;33m]\u001b[0m\u001b[1;33m)\u001b[0m\u001b[1;33m\u001b[0m\u001b[1;33m\u001b[0m\u001b[0m\n\u001b[1;32m----> 3\u001b[1;33m \u001b[0mprint\u001b[0m\u001b[1;33m(\u001b[0m\u001b[0mnp\u001b[0m\u001b[1;33m.\u001b[0m\u001b[0mlinalg\u001b[0m\u001b[1;33m.\u001b[0m\u001b[0minv\u001b[0m\u001b[1;33m(\u001b[0m\u001b[0ma\u001b[0m\u001b[1;33m)\u001b[0m\u001b[1;33m)\u001b[0m\u001b[1;33m\u001b[0m\u001b[1;33m\u001b[0m\u001b[0m\n\u001b[0m",
      "\u001b[1;32m~\\anaconda3\\lib\\site-packages\\numpy\\core\\overrides.py\u001b[0m in \u001b[0;36minv\u001b[1;34m(*args, **kwargs)\u001b[0m\n",
      "\u001b[1;32m~\\anaconda3\\lib\\site-packages\\numpy\\linalg\\linalg.py\u001b[0m in \u001b[0;36minv\u001b[1;34m(a)\u001b[0m\n\u001b[0;32m    531\u001b[0m     \u001b[0ma\u001b[0m\u001b[1;33m,\u001b[0m \u001b[0mwrap\u001b[0m \u001b[1;33m=\u001b[0m \u001b[0m_makearray\u001b[0m\u001b[1;33m(\u001b[0m\u001b[0ma\u001b[0m\u001b[1;33m)\u001b[0m\u001b[1;33m\u001b[0m\u001b[1;33m\u001b[0m\u001b[0m\n\u001b[0;32m    532\u001b[0m     \u001b[0m_assert_stacked_2d\u001b[0m\u001b[1;33m(\u001b[0m\u001b[0ma\u001b[0m\u001b[1;33m)\u001b[0m\u001b[1;33m\u001b[0m\u001b[1;33m\u001b[0m\u001b[0m\n\u001b[1;32m--> 533\u001b[1;33m     \u001b[0m_assert_stacked_square\u001b[0m\u001b[1;33m(\u001b[0m\u001b[0ma\u001b[0m\u001b[1;33m)\u001b[0m\u001b[1;33m\u001b[0m\u001b[1;33m\u001b[0m\u001b[0m\n\u001b[0m\u001b[0;32m    534\u001b[0m     \u001b[0mt\u001b[0m\u001b[1;33m,\u001b[0m \u001b[0mresult_t\u001b[0m \u001b[1;33m=\u001b[0m \u001b[0m_commonType\u001b[0m\u001b[1;33m(\u001b[0m\u001b[0ma\u001b[0m\u001b[1;33m)\u001b[0m\u001b[1;33m\u001b[0m\u001b[1;33m\u001b[0m\u001b[0m\n\u001b[0;32m    535\u001b[0m \u001b[1;33m\u001b[0m\u001b[0m\n",
      "\u001b[1;32m~\\anaconda3\\lib\\site-packages\\numpy\\linalg\\linalg.py\u001b[0m in \u001b[0;36m_assert_stacked_square\u001b[1;34m(*arrays)\u001b[0m\n\u001b[0;32m    188\u001b[0m         \u001b[0mm\u001b[0m\u001b[1;33m,\u001b[0m \u001b[0mn\u001b[0m \u001b[1;33m=\u001b[0m \u001b[0ma\u001b[0m\u001b[1;33m.\u001b[0m\u001b[0mshape\u001b[0m\u001b[1;33m[\u001b[0m\u001b[1;33m-\u001b[0m\u001b[1;36m2\u001b[0m\u001b[1;33m:\u001b[0m\u001b[1;33m]\u001b[0m\u001b[1;33m\u001b[0m\u001b[1;33m\u001b[0m\u001b[0m\n\u001b[0;32m    189\u001b[0m         \u001b[1;32mif\u001b[0m \u001b[0mm\u001b[0m \u001b[1;33m!=\u001b[0m \u001b[0mn\u001b[0m\u001b[1;33m:\u001b[0m\u001b[1;33m\u001b[0m\u001b[1;33m\u001b[0m\u001b[0m\n\u001b[1;32m--> 190\u001b[1;33m             \u001b[1;32mraise\u001b[0m \u001b[0mLinAlgError\u001b[0m\u001b[1;33m(\u001b[0m\u001b[1;34m'Last 2 dimensions of the array must be square'\u001b[0m\u001b[1;33m)\u001b[0m\u001b[1;33m\u001b[0m\u001b[1;33m\u001b[0m\u001b[0m\n\u001b[0m\u001b[0;32m    191\u001b[0m \u001b[1;33m\u001b[0m\u001b[0m\n\u001b[0;32m    192\u001b[0m \u001b[1;32mdef\u001b[0m \u001b[0m_assert_finite\u001b[0m\u001b[1;33m(\u001b[0m\u001b[1;33m*\u001b[0m\u001b[0marrays\u001b[0m\u001b[1;33m)\u001b[0m\u001b[1;33m:\u001b[0m\u001b[1;33m\u001b[0m\u001b[1;33m\u001b[0m\u001b[0m\n",
      "\u001b[1;31mLinAlgError\u001b[0m: Last 2 dimensions of the array must be square"
     ]
    }
   ],
   "source": [
    "#using swapaxis \n",
    "a=np.matrix([[1,2,3,4],[1,5,3,7]])\n",
    "print(np.linalg.inv(a))\n"
   ]
  }
 ],
 "metadata": {
  "kernelspec": {
   "display_name": "Python 3 (ipykernel)",
   "language": "python",
   "name": "python3"
  },
  "language_info": {
   "codemirror_mode": {
    "name": "ipython",
    "version": 3
   },
   "file_extension": ".py",
   "mimetype": "text/x-python",
   "name": "python",
   "nbconvert_exporter": "python",
   "pygments_lexer": "ipython3",
   "version": "3.9.13"
  }
 },
 "nbformat": 4,
 "nbformat_minor": 5
}
